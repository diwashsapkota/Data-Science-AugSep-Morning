{
 "cells": [
  {
   "cell_type": "code",
   "execution_count": 1,
   "id": "505e734e-6fd9-4d71-a191-29512f4a38a7",
   "metadata": {},
   "outputs": [
    {
     "data": {
      "text/plain": [
       "150"
      ]
     },
     "execution_count": 1,
     "metadata": {},
     "output_type": "execute_result"
    }
   ],
   "source": [
    "10 * 15"
   ]
  },
  {
   "cell_type": "markdown",
   "id": "b5c5ae60-330f-4baa-9af3-2203830aa4e3",
   "metadata": {},
   "source": [
    "## Heading\n",
    "\n",
    "**This is a bold text**"
   ]
  },
  {
   "cell_type": "code",
   "execution_count": 6,
   "id": "61256884-754a-4182-85b2-da13899293cb",
   "metadata": {},
   "outputs": [
    {
     "data": {
      "text/plain": [
       "1"
      ]
     },
     "execution_count": 6,
     "metadata": {},
     "output_type": "execute_result"
    }
   ],
   "source": [
    "# The percentage sign works as a calculator of remainder\n",
    "5 % 2 # Calculating the remainder while dividing 5 by 2\n",
    "\n",
    "# Comment"
   ]
  },
  {
   "cell_type": "code",
   "execution_count": 8,
   "id": "5b605aa0-d732-4c7e-9c15-139ff7d652e8",
   "metadata": {},
   "outputs": [
    {
     "data": {
      "text/plain": [
       "True"
      ]
     },
     "execution_count": 8,
     "metadata": {},
     "output_type": "execute_result"
    }
   ],
   "source": [
    "(5<10) or (4<6)"
   ]
  },
  {
   "cell_type": "code",
   "execution_count": 11,
   "id": "6b69b793-070d-4e44-aeb8-ea750f6cfdb9",
   "metadata": {},
   "outputs": [
    {
     "name": "stdin",
     "output_type": "stream",
     "text": [
      "Enter operation (+, -, *, /):  /\n",
      "Enter first number:  5\n",
      "Enter second number:  0\n"
     ]
    },
    {
     "name": "stdout",
     "output_type": "stream",
     "text": [
      "Result: Error: Cannot divide by zero\n"
     ]
    }
   ],
   "source": [
    "def add(x, y):\n",
    "    return x + y\n",
    "\n",
    "def subtract(x, y):\n",
    "    return x - y\n",
    "\n",
    "def multiply(x, y):\n",
    "    return x * y\n",
    "\n",
    "def divide(x, y):\n",
    "    if y != 0:\n",
    "        return x / y\n",
    "    else:\n",
    "        return \"Error: Cannot divide by zero\"\n",
    "\n",
    "# Get user input\n",
    "operation = input(\"Enter operation (+, -, *, /): \")\n",
    "num1 = float(input(\"Enter first number: \"))\n",
    "num2 = float(input(\"Enter second number: \"))\n",
    "\n",
    "# Perform calculation\n",
    "if operation == \"+\":\n",
    "    result = add(num1, num2)\n",
    "elif operation == \"-\":\n",
    "    result = subtract(num1, num2)\n",
    "elif operation == \"*\":\n",
    "    result = multiply(num1, num2)\n",
    "elif operation == \"/\":\n",
    "    result = divide(num1, num2)\n",
    "else:\n",
    "    result = \"Invalid operation\"\n",
    "\n",
    "print(f\"Result: {result}\")"
   ]
  },
  {
   "cell_type": "code",
   "execution_count": 18,
   "id": "5e033ff3-b16d-43d6-acbe-18e1e6ca1a05",
   "metadata": {},
   "outputs": [
    {
     "name": "stdout",
     "output_type": "stream",
     "text": [
      "This is a demonstration of python operators\n",
      "50\n"
     ]
    }
   ],
   "source": [
    "\"\"\"\n",
    "In publishing and graphic design, \n",
    "Lorem ipsum is a placeholder text commonly used to demonstrate the visual form of a \n",
    "document or a typeface without relying on meaningful content.\n",
    "Lorem ipsum may be used as a placeholder before the final copy is available\n",
    "\"\"\"\n",
    "# print(\"Comment demonstration\")\n",
    "print(\"This is a demonstration of python operators\")\n",
    "print(5 * 10)"
   ]
  },
  {
   "cell_type": "code",
   "execution_count": 20,
   "id": "30a2172a-921d-49eb-9e03-66d13aa46ae2",
   "metadata": {},
   "outputs": [
    {
     "data": {
      "text/plain": [
       "True"
      ]
     },
     "execution_count": 20,
     "metadata": {},
     "output_type": "execute_result"
    }
   ],
   "source": [
    "5 < 10 # Boolean Data Type"
   ]
  },
  {
   "cell_type": "code",
   "execution_count": 24,
   "id": "45d06637-6ad2-432c-a0bb-649222b95207",
   "metadata": {},
   "outputs": [
    {
     "data": {
      "text/plain": [
       "True"
      ]
     },
     "execution_count": 24,
     "metadata": {},
     "output_type": "execute_result"
    }
   ],
   "source": [
    "100 >= 100"
   ]
  },
  {
   "cell_type": "code",
   "execution_count": 26,
   "id": "f00249c0-ca42-4c21-bdca-bbb55700cd33",
   "metadata": {},
   "outputs": [
    {
     "name": "stdout",
     "output_type": "stream",
     "text": [
      "5\n"
     ]
    }
   ],
   "source": [
    "x = 5\n",
    "print(x)"
   ]
  },
  {
   "cell_type": "code",
   "execution_count": 29,
   "id": "62235814-9093-473d-96d3-09a0404971ed",
   "metadata": {},
   "outputs": [
    {
     "name": "stdout",
     "output_type": "stream",
     "text": [
      "25\n",
      "125\n"
     ]
    }
   ],
   "source": [
    "x = 5\n",
    "x *= 5 # x = (x * 5)\n",
    "print(x)\n",
    "x += 100 # x = (x + 100)\n",
    "print(x)"
   ]
  },
  {
   "cell_type": "code",
   "execution_count": 30,
   "id": "d58a229d-a195-48de-bc59-8814cb02bbed",
   "metadata": {},
   "outputs": [
    {
     "name": "stdout",
     "output_type": "stream",
     "text": [
      "125\n",
      "10\n"
     ]
    }
   ],
   "source": [
    "print(x)\n",
    "x = 10\n",
    "print(x)"
   ]
  },
  {
   "cell_type": "code",
   "execution_count": 31,
   "id": "8c6a3c3b-1bf1-4398-b1ab-6f99593c217b",
   "metadata": {},
   "outputs": [
    {
     "data": {
      "text/plain": [
       "32"
      ]
     },
     "execution_count": 31,
     "metadata": {},
     "output_type": "execute_result"
    }
   ],
   "source": [
    "2 ** 5"
   ]
  },
  {
   "cell_type": "code",
   "execution_count": 44,
   "id": "d46d545a-2b11-4077-98f0-011fdf88a175",
   "metadata": {},
   "outputs": [
    {
     "name": "stdout",
     "output_type": "stream",
     "text": [
      "30\n",
      "Kathmandu\n"
     ]
    }
   ],
   "source": [
    "city = 'Kathmandu'\n",
    "name = 'John Doe'\n",
    "age = 30\n",
    "city\n",
    "print(age)\n",
    "name\n",
    "print(city)"
   ]
  },
  {
   "cell_type": "code",
   "execution_count": 49,
   "id": "fcb6a1fe-2e05-41b2-8586-e827f6215082",
   "metadata": {},
   "outputs": [
    {
     "name": "stdout",
     "output_type": "stream",
     "text": [
      "20\n",
      "John Doe lives in Kathmandu\n",
      "John Doelives inKathmandu\n",
      "John Doe lives in Kathmandu . His age is 30\n"
     ]
    }
   ],
   "source": [
    "print(5 + 15)\n",
    "print(name + ' lives in ' + city)\n",
    "print(name + 'lives in' + city)\n",
    "print(name,'lives in', city, '. His age is', age)"
   ]
  },
  {
   "cell_type": "code",
   "execution_count": 59,
   "id": "98fee146-5942-484f-93aa-64e7bb57c4ef",
   "metadata": {},
   "outputs": [
    {
     "name": "stdout",
     "output_type": "stream",
     "text": [
      "3040\n",
      "a + b = 70\n"
     ]
    }
   ],
   "source": [
    "a = '30'\n",
    "b = '40'\n",
    "print(a + b)\n",
    "print('a + b =', int(a) + int(b))"
   ]
  },
  {
   "cell_type": "code",
   "execution_count": 73,
   "id": "aed02254-644b-4fd1-b08a-82aefd6146dc",
   "metadata": {},
   "outputs": [
    {
     "name": "stdout",
     "output_type": "stream",
     "text": [
      "3030303030 150\n"
     ]
    }
   ],
   "source": [
    "a = '30'\n",
    "print(a * 5, int(a)*5)"
   ]
  },
  {
   "cell_type": "markdown",
   "id": "a1b9f2fc-0de8-4aa4-9de6-c1de7105e5ef",
   "metadata": {},
   "source": [
    "## Check the keywords in python"
   ]
  },
  {
   "cell_type": "code",
   "execution_count": 61,
   "id": "4d4900dd-7cb0-4c2c-a2b4-0d63b923f1ae",
   "metadata": {},
   "outputs": [
    {
     "name": "stdout",
     "output_type": "stream",
     "text": [
      "23\n"
     ]
    }
   ],
   "source": [
    "for = 23\n",
    "var1 = 23\n",
    "# print(for)\n",
    "print(var1)"
   ]
  },
  {
   "cell_type": "code",
   "execution_count": 64,
   "id": "2627cd96-606d-456c-be39-4d3c1b686924",
   "metadata": {},
   "outputs": [
    {
     "ename": "SyntaxError",
     "evalue": "invalid decimal literal (1224815478.py, line 1)",
     "output_type": "error",
     "traceback": [
      "\u001b[1;36m  Cell \u001b[1;32mIn[64], line 1\u001b[1;36m\u001b[0m\n\u001b[1;33m    1a11 = 25\u001b[0m\n\u001b[1;37m    ^\u001b[0m\n\u001b[1;31mSyntaxError\u001b[0m\u001b[1;31m:\u001b[0m invalid decimal literal\n"
     ]
    }
   ],
   "source": [
    "1a11 = 25\n",
    "print(1a11)"
   ]
  },
  {
   "cell_type": "code",
   "execution_count": 65,
   "id": "0aefabc7-8cfd-4b7c-b3c8-e0966f39d893",
   "metadata": {},
   "outputs": [
    {
     "name": "stdout",
     "output_type": "stream",
     "text": [
      "25\n"
     ]
    }
   ],
   "source": [
    "_a11 = 25\n",
    "print(_a11)"
   ]
  },
  {
   "cell_type": "code",
   "execution_count": 67,
   "id": "2b0f04b2-c87c-4d9a-9076-73a2e4d57885",
   "metadata": {},
   "outputs": [
    {
     "name": "stdout",
     "output_type": "stream",
     "text": [
      "25 Ramesh Khatri\n"
     ]
    }
   ],
   "source": [
    "nameofStudent = 'Ramesh Khatri'\n",
    "var1 = 25\n",
    "print(var1, nameofStudent)"
   ]
  },
  {
   "cell_type": "code",
   "execution_count": 69,
   "id": "5d22290b-ec9c-4bbc-83a4-2ffa09d79b3e",
   "metadata": {},
   "outputs": [
    {
     "name": "stdout",
     "output_type": "stream",
     "text": [
      "25\n"
     ]
    }
   ],
   "source": [
    "print(var1)"
   ]
  },
  {
   "cell_type": "code",
   "execution_count": 70,
   "id": "ed2a733f-3d70-46dc-b8c4-0343647e02af",
   "metadata": {},
   "outputs": [
    {
     "name": "stdout",
     "output_type": "stream",
     "text": [
      "False\n"
     ]
    }
   ],
   "source": [
    "temp = 50\n",
    "Temp = 25\n",
    "print(temp == Temp)"
   ]
  },
  {
   "cell_type": "code",
   "execution_count": 75,
   "id": "18341ad9-bf22-447e-b290-faa51c094e14",
   "metadata": {},
   "outputs": [
    {
     "name": "stdout",
     "output_type": "stream",
     "text": [
      "11.2\n"
     ]
    }
   ],
   "source": [
    "x = 5.6 #float data type or float64\n",
    "y = 2 #integer data type or int64/int32\n",
    "print(x * y)"
   ]
  },
  {
   "cell_type": "code",
   "execution_count": 78,
   "id": "41fdca62-6fb2-4353-a42a-73b6bf73a844",
   "metadata": {},
   "outputs": [
    {
     "name": "stdout",
     "output_type": "stream",
     "text": [
      "<class 'float'> <class 'int'> <class 'str'>\n"
     ]
    }
   ],
   "source": [
    "print(type(x), type(y), type(nameofStudent))"
   ]
  },
  {
   "cell_type": "code",
   "execution_count": 10,
   "id": "434edc7e-d545-476c-bc59-27c4a6c11bef",
   "metadata": {},
   "outputs": [
    {
     "name": "stdout",
     "output_type": "stream",
     "text": [
      "20 1024\n",
      "False\n"
     ]
    }
   ],
   "source": [
    "a = 2\n",
    "b = 10\n",
    "c = a * b\n",
    "d = a ** b\n",
    "e = (c == d)\n",
    "print(c, d)\n",
    "print(e)"
   ]
  },
  {
   "cell_type": "code",
   "execution_count": 15,
   "id": "0dd89ef4-4772-4d2e-af87-c2042f741fa9",
   "metadata": {},
   "outputs": [
    {
     "name": "stdout",
     "output_type": "stream",
     "text": [
      "23\n",
      "The value of a is 20\n",
      "The value of a is 20\n",
      "The value of a is 20.\n"
     ]
    }
   ],
   "source": [
    "a = 20 #integer\n",
    "print(a + int('3'))\n",
    "print('The value of a is', a)\n",
    "print('The value of a is ' + str(a) ) #typecasting\n",
    "print(f'The value of a is {a}.')"
   ]
  },
  {
   "cell_type": "code",
   "execution_count": 10,
   "id": "ea90eb88-ece6-405b-82c8-49093b771701",
   "metadata": {},
   "outputs": [
    {
     "name": "stdout",
     "output_type": "stream",
     "text": [
      "<class 'int'>\n",
      "25\n",
      "<class 'str'>\n"
     ]
    }
   ],
   "source": [
    "age=25\n",
    "print(type(age))\n",
    "\n",
    "# Type conversion\n",
    "age_str=str(age)\n",
    "print(age_str)\n",
    "print(type(age_str))"
   ]
  },
  {
   "cell_type": "code",
   "execution_count": 25,
   "id": "e3078f83-b4bb-46cb-ba42-441dd564ba61",
   "metadata": {
    "scrolled": true
   },
   "outputs": [
    {
     "name": "stdout",
     "output_type": "stream",
     "text": [
      "<class 'int'>\n",
      "25 <class 'str'>\n"
     ]
    }
   ],
   "source": [
    "# Typecasting\n",
    "age=25\n",
    "print(type(age))\n",
    "age_str = str(age)\n",
    "print(age_str, type(age_str))"
   ]
  },
  {
   "cell_type": "code",
   "execution_count": 21,
   "id": "fbeef2bf-6436-4f93-9039-77cea6afbfd4",
   "metadata": {},
   "outputs": [
    {
     "name": "stdout",
     "output_type": "stream",
     "text": [
      "Correct Indentation\n",
      "This will print\n",
      "Outside the if block\n"
     ]
    }
   ],
   "source": [
    "if True:\n",
    "    print(\"Correct Indentation\")\n",
    "    if False:\n",
    "        print(\"This won't print\")\n",
    "    print(\"This will print\")\n",
    "print(\"Outside the if block\")"
   ]
  },
  {
   "cell_type": "code",
   "execution_count": 32,
   "id": "d7292479-9aa4-4bc2-b04c-f8a6a0239f28",
   "metadata": {},
   "outputs": [
    {
     "name": "stdin",
     "output_type": "stream",
     "text": [
      "Enter some value/text:  25\n"
     ]
    },
    {
     "name": "stdout",
     "output_type": "stream",
     "text": [
      "25 <class 'str'>\n"
     ]
    }
   ],
   "source": [
    "input1 = input(\"Enter some value/text: \")\n",
    "print(input1, type(input1))"
   ]
  },
  {
   "cell_type": "code",
   "execution_count": 34,
   "id": "e042fb06-1ae0-4816-9c1e-9f9db028b209",
   "metadata": {},
   "outputs": [
    {
     "name": "stdin",
     "output_type": "stream",
     "text": [
      "Enter first number:  25\n",
      "Enter second number:  75\n"
     ]
    },
    {
     "data": {
      "text/plain": [
       "'2575'"
      ]
     },
     "execution_count": 34,
     "metadata": {},
     "output_type": "execute_result"
    }
   ],
   "source": [
    "num1 = input(\"Enter first number: \")\n",
    "num2 = input(\"Enter second number: \")\n",
    "num1 + num2"
   ]
  },
  {
   "cell_type": "code",
   "execution_count": 38,
   "id": "e85f945b-6c4e-4c98-aa3d-87065a746c24",
   "metadata": {},
   "outputs": [
    {
     "name": "stdin",
     "output_type": "stream",
     "text": [
      "Enter first number:  200\n",
      "Enter second number:  100\n"
     ]
    },
    {
     "name": "stdout",
     "output_type": "stream",
     "text": [
      "Sum: 300.0\n",
      "Difference: 100.0\n",
      "Product: 20000.0\n",
      "Quotient: 2.0\n",
      "Remainder: 0.0\n"
     ]
    }
   ],
   "source": [
    "# Simple calculator\n",
    "num1 = float(input(\"Enter first number: \"))\n",
    "num2 = float(input(\"Enter second number: \"))\n",
    "\n",
    "addition = num1 + num2\n",
    "difference = num1 - num2\n",
    "product = num1 * num2\n",
    "quotient = num1 / num2\n",
    "remainder = num1 % num2\n",
    "\n",
    "print(\"Sum: \" + str(addition))\n",
    "print(\"Difference:\", difference)\n",
    "print(\"Product:\", product)\n",
    "print(\"Quotient:\", quotient)\n",
    "print(\"Remainder:\", remainder)"
   ]
  }
 ],
 "metadata": {
  "kernelspec": {
   "display_name": "Python 3 (ipykernel)",
   "language": "python",
   "name": "python3"
  },
  "language_info": {
   "codemirror_mode": {
    "name": "ipython",
    "version": 3
   },
   "file_extension": ".py",
   "mimetype": "text/x-python",
   "name": "python",
   "nbconvert_exporter": "python",
   "pygments_lexer": "ipython3",
   "version": "3.12.3"
  }
 },
 "nbformat": 4,
 "nbformat_minor": 5
}
