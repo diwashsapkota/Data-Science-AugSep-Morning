{
 "cells": [
  {
   "cell_type": "markdown",
   "metadata": {},
   "source": [
    "# Elementary Statistics"
   ]
  },
  {
   "cell_type": "markdown",
   "metadata": {},
   "source": [
    "### formulas and concepts to know for testing the difference between means"
   ]
  },
  {
   "cell_type": "markdown",
   "metadata": {},
   "source": [
    "## 2.3.- Measures of Central Tendency"
   ]
  },
  {
   "cell_type": "markdown",
   "metadata": {},
   "source": [
    "The **mean** of a data set is the sum of the data entries divided by the number of\n",
    "entries. To find the mean of a data set, use one of these formulas.\n",
    "\n",
    "Population Mean: $\\mu = \\frac{\\Sigma x}{N}$\n",
    "\n",
    "Sample Mean: $\\bar{x} = \\frac{\\Sigma x}{n}$\n",
    "\n",
    "The lowercase Greek letter $\\mu$ (pronounced mu) represents the population\n",
    "mean and $\\bar{x}$ (read as “x bar”) represents the sample mean. Note that $N$\n",
    "represents the number of entries in a $\\textit{population}$ and $n$ represents the number\n",
    "of entries in a sample. Recall that the uppercase Greek letter sigma ($\\Sigma$)\n",
    "indicates a summation of values."
   ]
  },
  {
   "cell_type": "markdown",
   "metadata": {},
   "source": [
    "## 2.4.- Measures of Variation"
   ]
  },
  {
   "cell_type": "markdown",
   "metadata": {},
   "source": [
    "The **population variance** of a population data set of $N$ entries is\n",
    "\n",
    "Population variance $= \\sigma^2 = \\frac{\\Sigma(x - \\mu)^2}{N}$\n",
    "\n",
    "The symbol $\\sigma$ is the lowercase Greek letter sigma.\n",
    "\n",
    "The **population standard deviation** of a population data set of $N$ entries is the\n",
    "square root of the population variance.\n",
    "\n",
    "Population standard deviation $= \\sigma = \\sqrt{\\sigma^2} = \\sqrt{\\frac{\\Sigma(x - \\mu)^2}{N}}$"
   ]
  },
  {
   "cell_type": "markdown",
   "metadata": {},
   "source": [
    "### **Example**"
   ]
  },
  {
   "cell_type": "markdown",
   "metadata": {},
   "source": [
    "Find the population variance and standard deviation of the starting salaries for\n",
    "Corporation A."
   ]
  },
  {
   "cell_type": "code",
   "execution_count": 3,
   "metadata": {},
   "outputs": [],
   "source": [
    "\n",
    "# lst1 = [5, 10, 15, 20]\n",
    "\n",
    "# lst2 = [(x ** 2) for x in lst1]\n",
    "\n",
    "# print(lst2)\n",
    "# print(sum(lst2)/len(lst2))"
   ]
  },
  {
   "cell_type": "code",
   "execution_count": 8,
   "metadata": {},
   "outputs": [
    {
     "name": "stdout",
     "output_type": "stream",
     "text": [
      "population variance = 8.85\n",
      "population standard deviation = 2.975\n",
      "\n",
      "population variance with statistics = 8.85\n",
      "population standard deviation with statistics = 2.975\n",
      "\n",
      "Sample Variance: 9.833\n"
     ]
    }
   ],
   "source": [
    "from math import sqrt\n",
    "import numpy as np\n",
    "\n",
    "salaries = [41, 38, 39, 45, 47, 41, 44, 41, 37, 42]\n",
    "\n",
    "N = len(salaries)\n",
    "mean = sum(salaries) / N\n",
    "variance = sum([(salary - mean) ** 2 for salary in salaries]) / N\n",
    "std = sqrt(variance)\n",
    "print('population variance =', round(variance, 3))\n",
    "print('population standard deviation =', round(std, 3), end='\\n\\n')\n",
    "\n",
    "from statistics import pvariance, pstdev\n",
    "variance = pvariance(salaries)\n",
    "std = pstdev(salaries)\n",
    "print('population variance with statistics =', round(variance, 3))\n",
    "print('population standard deviation with statistics =', round(std, 3), end='\\n\\n')\n",
    "\n",
    "# Calculate sample variance\n",
    "sample_variance = np.var(salaries, ddof=1)\n",
    "# Calculate sample standard deviation\n",
    "sample_std_dev = np.std(salaries, ddof=1)\n",
    "\n",
    "print(\"Sample Variance:\", round(sample_variance, 3))"
   ]
  },
  {
   "cell_type": "markdown",
   "metadata": {},
   "source": [
    "The **sample variance** and **sample standard deviation** of a sample data set of $n$\n",
    "entries are listed below.\n",
    "\n",
    "Sample variance $= s^2 = \\frac{\\Sigma(x - \\bar{x})^2}{n - 1}$\n",
    "\n",
    "Sample standard deviation $= s = \\sqrt{s^2} = \\sqrt{\\frac{\\Sigma(x - \\bar{x})^2}{n - 1}}$"
   ]
  },
  {
   "cell_type": "markdown",
   "metadata": {},
   "source": [
    "## 5.1.- Introduction to Normal Distributions and the Standard Normal Distribution"
   ]
  },
  {
   "cell_type": "markdown",
   "metadata": {},
   "source": [
    "The normal distribution with a mean of 0 and a standard deviation of 1 is called the **standard normal distribution**."
   ]
  },
  {
   "cell_type": "markdown",
   "metadata": {},
   "source": [
    "## 5.4- Sampling Distributions and the Central Limit Theorem"
   ]
  },
  {
   "cell_type": "markdown",
   "metadata": {},
   "source": [
    "The mean of the sample means $\\mu_\\bar{x}$ is equal to the population mean $\\mu$.\n",
    "\n",
    "$\\mu_\\bar{x} = \\mu$\n",
    "\n",
    "The standard deviation of the sample means $\\sigma_{\\bar{x}}$ is equal to the population\n",
    "standard deviation $\\sigma$ divided by the square root of the sample size $n$.\n",
    "\n",
    "$\\sigma_{\\bar{x}} = \\frac{\\sigma}{\\sqrt{n}}$\n",
    "\n",
    "is called the **standard error of the mean**."
   ]
  },
  {
   "cell_type": "markdown",
   "metadata": {},
   "source": [
    "### **Example 1**"
   ]
  },
  {
   "cell_type": "markdown",
   "metadata": {},
   "source": [
    "You write the population values {1, 3, 5, 7} on slips of paper and put them in\n",
    "a box. Then you randomly choose two slips of paper, with replacement. List all\n",
    "possible samples of size $n$ = 2 and calculate the mean of each. These means\n",
    "form the sampling distribution of the sample means. Find the mean, variance,\n",
    "and standard deviation of the sample means. Compare your results with the\n",
    "mean $\\mu$ = 4, variance $\\sigma^2$ = 5, and standard deviation $\\sigma = \\sqrt{5} \\approx 2.236$ of\n",
    "the population."
   ]
  },
  {
   "cell_type": "code",
   "execution_count": 2,
   "metadata": {},
   "outputs": [
    {
     "name": "stdout",
     "output_type": "stream",
     "text": [
      "population mean = 4\n",
      "population variance = 5\n",
      "population standard deviation = 2.236\n",
      "\n",
      "mean of the sample means = 4\n",
      "standard deviation of the sample means = 1.581\n",
      "std/sqrt(n) =  1.581\n"
     ]
    }
   ],
   "source": [
    "from statistics import mean, pvariance, pstdev\n",
    "from math import sqrt\n",
    "values = [1, 3, 5, 7]\n",
    "\n",
    "pmean = mean(values) \n",
    "pvar = pvariance(values)\n",
    "pstd = pstdev(values)\n",
    "\n",
    "print('population mean =', round(pmean, 3))\n",
    "print('population variance =', round(pvar, 3))\n",
    "print('population standard deviation =', round(pstd, 3), end='\\n\\n')\n",
    "\n",
    "from itertools import product\n",
    "\n",
    "n = 2\n",
    "sample_means = [mean(sample) for sample in product(values, repeat=n)]\n",
    "# print(sample_means)\n",
    "mean_xbar = mean(sample_means)\n",
    "std_xbar = pstdev(sample_means)\n",
    "\n",
    "print('mean of the sample means =', round(mean_xbar, 3))\n",
    "print('standard deviation of the sample means =', round(std_xbar, 3))\n",
    "print('std/sqrt(n) = ', round(pstd/sqrt(n), 3))"
   ]
  },
  {
   "cell_type": "markdown",
   "metadata": {},
   "source": [
    "### The Central limit theorem"
   ]
  },
  {
   "cell_type": "markdown",
   "metadata": {},
   "source": [
    "If samples of size $n$, where $n \\ge 30$, are drawn from any population with\n",
    "a mean $\\mu$ and a standard deviation $\\sigma$, then the sampling distribution of\n",
    "sample means approximates a normal distribution. The greater the sample\n",
    "size, the better the approximation"
   ]
  },
  {
   "cell_type": "code",
   "execution_count": 3,
   "metadata": {},
   "outputs": [
    {
     "data": {
      "text/html": [
       "<div>\n",
       "<style scoped>\n",
       "    .dataframe tbody tr th:only-of-type {\n",
       "        vertical-align: middle;\n",
       "    }\n",
       "\n",
       "    .dataframe tbody tr th {\n",
       "        vertical-align: top;\n",
       "    }\n",
       "\n",
       "    .dataframe thead th {\n",
       "        text-align: right;\n",
       "    }\n",
       "</style>\n",
       "<table border=\"1\" class=\"dataframe\">\n",
       "  <thead>\n",
       "    <tr style=\"text-align: right;\">\n",
       "      <th></th>\n",
       "      <th>Car</th>\n",
       "      <th>Mileage</th>\n",
       "    </tr>\n",
       "  </thead>\n",
       "  <tbody>\n",
       "    <tr>\n",
       "      <th>0</th>\n",
       "      <td>Car1</td>\n",
       "      <td>20</td>\n",
       "    </tr>\n",
       "    <tr>\n",
       "      <th>1</th>\n",
       "      <td>Car1</td>\n",
       "      <td>22</td>\n",
       "    </tr>\n",
       "    <tr>\n",
       "      <th>2</th>\n",
       "      <td>Car1</td>\n",
       "      <td>19</td>\n",
       "    </tr>\n",
       "    <tr>\n",
       "      <th>3</th>\n",
       "      <td>Car1</td>\n",
       "      <td>21</td>\n",
       "    </tr>\n",
       "    <tr>\n",
       "      <th>4</th>\n",
       "      <td>Car1</td>\n",
       "      <td>20</td>\n",
       "    </tr>\n",
       "    <tr>\n",
       "      <th>5</th>\n",
       "      <td>Car1</td>\n",
       "      <td>23</td>\n",
       "    </tr>\n",
       "    <tr>\n",
       "      <th>6</th>\n",
       "      <td>Car1</td>\n",
       "      <td>22</td>\n",
       "    </tr>\n",
       "    <tr>\n",
       "      <th>7</th>\n",
       "      <td>Car1</td>\n",
       "      <td>24</td>\n",
       "    </tr>\n",
       "    <tr>\n",
       "      <th>8</th>\n",
       "      <td>Car1</td>\n",
       "      <td>21</td>\n",
       "    </tr>\n",
       "    <tr>\n",
       "      <th>9</th>\n",
       "      <td>Car1</td>\n",
       "      <td>20</td>\n",
       "    </tr>\n",
       "    <tr>\n",
       "      <th>10</th>\n",
       "      <td>Car1</td>\n",
       "      <td>23</td>\n",
       "    </tr>\n",
       "    <tr>\n",
       "      <th>11</th>\n",
       "      <td>Car1</td>\n",
       "      <td>25</td>\n",
       "    </tr>\n",
       "    <tr>\n",
       "      <th>12</th>\n",
       "      <td>Car1</td>\n",
       "      <td>22</td>\n",
       "    </tr>\n",
       "    <tr>\n",
       "      <th>13</th>\n",
       "      <td>Car1</td>\n",
       "      <td>24</td>\n",
       "    </tr>\n",
       "    <tr>\n",
       "      <th>14</th>\n",
       "      <td>Car1</td>\n",
       "      <td>21</td>\n",
       "    </tr>\n",
       "    <tr>\n",
       "      <th>15</th>\n",
       "      <td>Car1</td>\n",
       "      <td>23</td>\n",
       "    </tr>\n",
       "    <tr>\n",
       "      <th>16</th>\n",
       "      <td>Car1</td>\n",
       "      <td>19</td>\n",
       "    </tr>\n",
       "    <tr>\n",
       "      <th>17</th>\n",
       "      <td>Car1</td>\n",
       "      <td>20</td>\n",
       "    </tr>\n",
       "    <tr>\n",
       "      <th>18</th>\n",
       "      <td>Car1</td>\n",
       "      <td>22</td>\n",
       "    </tr>\n",
       "    <tr>\n",
       "      <th>19</th>\n",
       "      <td>Car1</td>\n",
       "      <td>21</td>\n",
       "    </tr>\n",
       "    <tr>\n",
       "      <th>20</th>\n",
       "      <td>Car2</td>\n",
       "      <td>25</td>\n",
       "    </tr>\n",
       "    <tr>\n",
       "      <th>21</th>\n",
       "      <td>Car2</td>\n",
       "      <td>24</td>\n",
       "    </tr>\n",
       "    <tr>\n",
       "      <th>22</th>\n",
       "      <td>Car2</td>\n",
       "      <td>26</td>\n",
       "    </tr>\n",
       "    <tr>\n",
       "      <th>23</th>\n",
       "      <td>Car2</td>\n",
       "      <td>27</td>\n",
       "    </tr>\n",
       "    <tr>\n",
       "      <th>24</th>\n",
       "      <td>Car2</td>\n",
       "      <td>24</td>\n",
       "    </tr>\n",
       "    <tr>\n",
       "      <th>25</th>\n",
       "      <td>Car2</td>\n",
       "      <td>28</td>\n",
       "    </tr>\n",
       "    <tr>\n",
       "      <th>26</th>\n",
       "      <td>Car2</td>\n",
       "      <td>29</td>\n",
       "    </tr>\n",
       "    <tr>\n",
       "      <th>27</th>\n",
       "      <td>Car2</td>\n",
       "      <td>25</td>\n",
       "    </tr>\n",
       "    <tr>\n",
       "      <th>28</th>\n",
       "      <td>Car2</td>\n",
       "      <td>27</td>\n",
       "    </tr>\n",
       "    <tr>\n",
       "      <th>29</th>\n",
       "      <td>Car2</td>\n",
       "      <td>24</td>\n",
       "    </tr>\n",
       "    <tr>\n",
       "      <th>30</th>\n",
       "      <td>Car2</td>\n",
       "      <td>26</td>\n",
       "    </tr>\n",
       "    <tr>\n",
       "      <th>31</th>\n",
       "      <td>Car2</td>\n",
       "      <td>28</td>\n",
       "    </tr>\n",
       "    <tr>\n",
       "      <th>32</th>\n",
       "      <td>Car2</td>\n",
       "      <td>27</td>\n",
       "    </tr>\n",
       "    <tr>\n",
       "      <th>33</th>\n",
       "      <td>Car2</td>\n",
       "      <td>24</td>\n",
       "    </tr>\n",
       "    <tr>\n",
       "      <th>34</th>\n",
       "      <td>Car2</td>\n",
       "      <td>25</td>\n",
       "    </tr>\n",
       "    <tr>\n",
       "      <th>35</th>\n",
       "      <td>Car2</td>\n",
       "      <td>26</td>\n",
       "    </tr>\n",
       "    <tr>\n",
       "      <th>36</th>\n",
       "      <td>Car2</td>\n",
       "      <td>28</td>\n",
       "    </tr>\n",
       "    <tr>\n",
       "      <th>37</th>\n",
       "      <td>Car2</td>\n",
       "      <td>27</td>\n",
       "    </tr>\n",
       "    <tr>\n",
       "      <th>38</th>\n",
       "      <td>Car2</td>\n",
       "      <td>29</td>\n",
       "    </tr>\n",
       "    <tr>\n",
       "      <th>39</th>\n",
       "      <td>Car2</td>\n",
       "      <td>30</td>\n",
       "    </tr>\n",
       "  </tbody>\n",
       "</table>\n",
       "</div>"
      ],
      "text/plain": [
       "     Car  Mileage\n",
       "0   Car1       20\n",
       "1   Car1       22\n",
       "2   Car1       19\n",
       "3   Car1       21\n",
       "4   Car1       20\n",
       "5   Car1       23\n",
       "6   Car1       22\n",
       "7   Car1       24\n",
       "8   Car1       21\n",
       "9   Car1       20\n",
       "10  Car1       23\n",
       "11  Car1       25\n",
       "12  Car1       22\n",
       "13  Car1       24\n",
       "14  Car1       21\n",
       "15  Car1       23\n",
       "16  Car1       19\n",
       "17  Car1       20\n",
       "18  Car1       22\n",
       "19  Car1       21\n",
       "20  Car2       25\n",
       "21  Car2       24\n",
       "22  Car2       26\n",
       "23  Car2       27\n",
       "24  Car2       24\n",
       "25  Car2       28\n",
       "26  Car2       29\n",
       "27  Car2       25\n",
       "28  Car2       27\n",
       "29  Car2       24\n",
       "30  Car2       26\n",
       "31  Car2       28\n",
       "32  Car2       27\n",
       "33  Car2       24\n",
       "34  Car2       25\n",
       "35  Car2       26\n",
       "36  Car2       28\n",
       "37  Car2       27\n",
       "38  Car2       29\n",
       "39  Car2       30"
      ]
     },
     "execution_count": 3,
     "metadata": {},
     "output_type": "execute_result"
    }
   ],
   "source": [
    "import pandas as pd\n",
    "from scipy import stats\n",
    "\n",
    "# Create the data\n",
    "data_large = pd.DataFrame({\n",
    "    \"Car\": [\"Car1\"] * 20 + [\"Car2\"] * 20,\n",
    "    \"Mileage\": [20, 22, 19, 21, 20, 23, 22, 24, 21, 20, 23, 25, 22, 24, 21, 23, 19, 20, 22, 21,\n",
    "                25, 24, 26, 27, 24, 28, 29, 25, 27, 24, 26, 28, 27, 24, 25, 26, 28, 27, 29, 30]\n",
    "})\n",
    "\n",
    "data_large"
   ]
  },
  {
   "cell_type": "code",
   "execution_count": 6,
   "metadata": {},
   "outputs": [],
   "source": [
    "# Separate the mileage data for each car\n",
    "car1_mileage_large = data_large[data_large['Car'] == 'Car1']['Mileage']\n",
    "car2_mileage_large = data_large[data_large['Car'] == 'Car2']['Mileage']\n",
    "# car1_mileage_large, car2_mileage_large"
   ]
  },
  {
   "cell_type": "code",
   "execution_count": 14,
   "metadata": {},
   "outputs": [
    {
     "data": {
      "text/plain": [
       "TtestResult(statistic=-8.639642573601202, pvalue=1.6852162876546502e-10, df=38.0)"
      ]
     },
     "execution_count": 14,
     "metadata": {},
     "output_type": "execute_result"
    }
   ],
   "source": [
    "stats.ttest_ind(car1_mileage_large, car2_mileage_large)"
   ]
  },
  {
   "cell_type": "markdown",
   "metadata": {},
   "source": [
    "The t-test results indicate a significant difference between the two groups (car1_mileage_large and car2_mileage_large). The small p-value suggests that this difference is unlikely due to random chance."
   ]
  },
  {
   "cell_type": "code",
   "execution_count": 16,
   "metadata": {},
   "outputs": [
    {
     "name": "stdout",
     "output_type": "stream",
     "text": [
      "T-statistic: -8.639642573601202\n",
      "P-value: 1.6852162876546502e-10\n",
      "Reject the null hypothesis: The means of the two car mileages are significantly different.\n"
     ]
    }
   ],
   "source": [
    "# Perform an independent t-test\n",
    "t_stat_large, p_value_large = stats.ttest_ind(car1_mileage_large, car2_mileage_large)\n",
    "\n",
    "# Print the results\n",
    "print(f\"T-statistic: {t_stat_large}\")\n",
    "print(f\"P-value: {p_value_large}\")\n",
    "\n",
    "# Interpretation\n",
    "alpha = 0.05\n",
    "if p_value_large < alpha:\n",
    "    print(\"Reject the null hypothesis: The means of the two car mileages are significantly different.\")\n",
    "else:\n",
    "    print(\"Fail to reject the null hypothesis: The means of the two car mileages are not significantly different.\")"
   ]
  },
  {
   "cell_type": "markdown",
   "metadata": {},
   "source": [
    "## 6.1.- Confidence Intervals for the Mean ($\\sigma$ Known)"
   ]
  },
  {
   "cell_type": "markdown",
   "metadata": {},
   "source": [
    "A **point estimate** is a single value estimate for a population parameter. The most unbiased point estimate of the population mean $\\mu$ is the sample mean $\\bar{x}$."
   ]
  },
  {
   "cell_type": "markdown",
   "metadata": {},
   "source": [
    "### **Example 1**"
   ]
  },
  {
   "cell_type": "markdown",
   "metadata": {},
   "source": [
    "### Finding a Point Estimate"
   ]
  },
  {
   "cell_type": "markdown",
   "metadata": {},
   "source": [
    "An economics researcher is collecting data about grocery store employees in a county. The data listed below represents a random sample of the number of hours worked by 40 employees from several grocery stores in the county. Find a point estimate of the population mean $\\mu$."
   ]
  },
  {
   "cell_type": "markdown",
   "metadata": {},
   "source": [
    "### Solution"
   ]
  },
  {
   "cell_type": "markdown",
   "metadata": {},
   "source": [
    "The sample mean of the data is"
   ]
  },
  {
   "cell_type": "markdown",
   "metadata": {},
   "source": [
    "$\\bar{x} = \\frac{\\Sigma x}{n} = \\frac{1184}{40} = 29.6$"
   ]
  },
  {
   "cell_type": "code",
   "execution_count": 4,
   "metadata": {},
   "outputs": [
    {
     "name": "stdout",
     "output_type": "stream",
     "text": [
      "sample mean:  29.6\n"
     ]
    }
   ],
   "source": [
    "data = [30, 26, 33, 26, 26, 33, 31, 31, 21, 37,\n",
    "        27, 20, 34, 35, 30, 24, 38, 34, 39, 31,\n",
    "        22, 30, 23, 23, 31, 44, 31, 33, 33, 26,\n",
    "        27, 28, 25, 35, 23, 32, 29, 31, 25, 27]\n",
    "\n",
    "n = len(data)\n",
    "smean =  sum(data) / n\n",
    "print('sample mean: ', smean)"
   ]
  },
  {
   "cell_type": "markdown",
   "metadata": {},
   "source": [
    "So, the point estimate for the mean number of hours worked by grocery store employees in this county is 29.6 hours."
   ]
  },
  {
   "cell_type": "markdown",
   "metadata": {},
   "source": [
    "In Example 1, the probability that the population mean is exactly 29.6 is virtually zero. So, instead of estimating $\\mu$ to be exactly 29.6 using a point estimate, you can estimate that $\\mu$ lies in an interval. This is called making an interval estimate."
   ]
  },
  {
   "cell_type": "markdown",
   "metadata": {},
   "source": [
    "An **interval estimate** is an interval, or range of values, used to estimate a population parameter."
   ]
  },
  {
   "cell_type": "markdown",
   "metadata": {},
   "source": [
    "The **level of confidence** $c$ is the probability that the interval estimate contains the population parameter, assuming that the estimation process is repeated a large number of times."
   ]
  },
  {
   "cell_type": "markdown",
   "metadata": {},
   "source": [
    "The level of confidence $c$ is the area under the standard normal curve between the `critical values`, $-z_c$ and $z_c$.\n",
    "\n",
    "**Critical values** are values that separate sample statistics that are probable from sample statistics that are improbable, or unusual. \n",
    "\n",
    "* $c$ is the percent of the area under the normal curve between $-z_c$ and $z_c$. The area remaining is $1 - c$, so the area in each tail is $\\frac{1}{2}(1 - c)$. \n",
    "\n",
    "* if $c = 90\\%$, then $5\\%$ of the area lies to the left of $-z_c = -1.645$ and $5\\%$ lies to the right of $z_c = 1.645$."
   ]
  },
  {
   "cell_type": "code",
   "execution_count": 8,
   "metadata": {},
   "outputs": [
    {
     "data": {
      "image/png": "[encoded data removed]",
      "text/plain": [
       "<Figure size 640x480 with 1 Axes>"
      ]
     },
     "metadata": {},
     "output_type": "display_data"
    },
    {
     "name": "stdout",
     "output_type": "stream",
     "text": [
      "lz_c: -1.645\n",
      "rz_c: 1.645\n"
     ]
    }
   ],
   "source": [
    "import numpy as np\n",
    "import matplotlib.pyplot as plt\n",
    "from scipy.stats import norm\n",
    "\n",
    "lim = 3.49\n",
    "x = np.linspace(-lim, lim, 101)\n",
    "y = norm.pdf(x) # Probability density function.\n",
    "\n",
    "c = 0.90\n",
    "area_one_tail = 0.5 * (1 - c)\n",
    "lz_c = norm.ppf(area_one_tail)     # Critical value separating left tail\n",
    "rz_c = norm.ppf(c + area_one_tail) # Critical value separating right tail\n",
    "\n",
    "plt.plot(x, y)\n",
    "plt.plot([lz_c, lz_c], [norm.pdf(lim), norm.pdf(lz_c)])\n",
    "plt.plot([rz_c, rz_c], [norm.pdf(lim), norm.pdf(rz_c)])\n",
    "plt.show()\n",
    "\n",
    "print('lz_c:', round(lz_c, 3))\n",
    "print('rz_c:', round(rz_c, 3))"
   ]
  },
  {
   "cell_type": "markdown",
   "metadata": {},
   "source": [
    "## 6.2.- Confidence Intervals for the Mean ($\\sigma$ Unknown)"
   ]
  },
  {
   "cell_type": "markdown",
   "metadata": {},
   "source": [
    "The **degrees of freedom** are the number of free choices left after a sample\n",
    "statistic such as $\\bar{x}$ is calculated. When you use a $t$-distribution to estimate\n",
    "a population mean, the degrees of freedom are equal to one less than the\n",
    "sample size.\n",
    "\n",
    "d.f. = $n - 1$\n",
    "\n",
    "As the degrees of freedom increase, the $t$-distribution approaches the\n",
    "standard normal distribution. After 30 d.f., the\n",
    "$t$-distribution is close to the standard normal distribution."
   ]
  },
  {
   "cell_type": "markdown",
   "metadata": {},
   "source": [
    "## 8.1.- Testing the Difference Between Means (Independent Samples, $\\sigma_1$ and $\\sigma_2$ Known)"
   ]
  },
  {
   "cell_type": "markdown",
   "metadata": {},
   "source": [
    "### **Example 2**"
   ]
  },
  {
   "cell_type": "markdown",
   "metadata": {},
   "source": [
    "A credit card watchdog group claims that there is a difference in the mean credit card debts of households in California and Illinois. The results of\n",
    "a random survey of 250 households from each state are shown at the left.\n",
    "The two samples are independent. Assume that $\\sigma_{1}$ = \\\\$1045 for California and $\\sigma_{2}$ = \\\\$1350 for Illinois. Do the results support the group’s claim? Use\n",
    "$\\alpha$ = 0.05."
   ]
  },
  {
   "cell_type": "markdown",
   "metadata": {},
   "source": [
    "#### Solution"
   ]
  },
  {
   "cell_type": "markdown",
   "metadata": {},
   "source": [
    "**Claim:** \"there is a difference in the mean credit card debts of households in California and Illinois.\""
   ]
  },
  {
   "cell_type": "markdown",
   "metadata": {},
   "source": [
    "$H_{0}$: $\\mu_{1} = \\mu_{2}$ and $H_{a}$: $\\mu_{1} \\neq \\mu_{2}$. (Claim)"
   ]
  },
  {
   "cell_type": "code",
   "execution_count": 9,
   "metadata": {},
   "outputs": [
    {
     "name": "stdout",
     "output_type": "stream",
     "text": [
      "The rejection regions are: z < -1.960 and z > 1.960\n",
      "T-statistic: 0.515\n",
      "P-value: 0.607\n",
      "Fail to reject the null hypothesis: There is no significant difference between the two means.\n"
     ]
    }
   ],
   "source": [
    "from scipy.stats import ttest_ind\n",
    "\n",
    "# California\n",
    "smean1 = 4777\n",
    "sstd1 = 1045\n",
    "n1 = 250\n",
    "\n",
    "# Illinois\n",
    "smean2 = 4866\n",
    "sstd2 = 1350\n",
    "n2 = 250\n",
    "\n",
    "# Generate random samples from normal distributions for illustration\n",
    "# Normally, you would have the actual sample data\n",
    "# Here, we simulate it based on the provided sample means and standard deviations\n",
    "np.random.seed(0)  # For reproducibility\n",
    "california_data = np.random.normal(smean1, sstd1, n1)\n",
    "illinois_data = np.random.normal(smean2, sstd2, n2)\n",
    "\n",
    "# Perform the two-sample t-test with unequal variances\n",
    "t_stat, p_value = ttest_ind(california_data, illinois_data, equal_var=False)\n",
    "\n",
    "# Determine the critical value for the two-tailed test\n",
    "alpha = 0.05\n",
    "critical_value = norm.ppf(1 - alpha / 2)\n",
    "\n",
    "print(f'The rejection regions are: z < {-critical_value:.3f} and z > {critical_value:.3f}')\n",
    "print(f'T-statistic: {t_stat:.3f}')\n",
    "print(f'P-value: {p_value:.3f}')\n",
    "\n",
    "# Interpretation\n",
    "if p_value < alpha:\n",
    "    print(\"Reject the null hypothesis: There is a significant difference between the two means.\")\n",
    "else:\n",
    "    print(\"Fail to reject the null hypothesis: There is no significant difference between the two means.\")\n"
   ]
  },
  {
   "cell_type": "code",
   "execution_count": 19,
   "metadata": {},
   "outputs": [
    {
     "name": "stdout",
     "output_type": "stream",
     "text": [
      "The rejection regions are: z < -1.96 and z > 1.96\n",
      "z: -0.824\n"
     ]
    }
   ],
   "source": [
    "from scipy.stats import norm\n",
    "from math import sqrt\n",
    "\n",
    "# California\n",
    "smean1 = 4777\n",
    "sstd1 = 1045\n",
    "n1 = 250\n",
    "\n",
    "# Illinois\n",
    "smean2 = 4866\n",
    "sstd2 = 1350\n",
    "n2 = 250\n",
    "alpha = 0.05\n",
    "area_one_tail = 0.5 * alpha\n",
    "\n",
    "z0 = norm.ppf((1 - alpha) + area_one_tail)\n",
    "z = (smean1 - smean2) / sqrt(sstd1 ** 2/ n1 + sstd2 ** 2/ n2)\n",
    "\n",
    "print('The rejection regions are: z <', round(-z0, 3), 'and z >', round(z0, 3))\n",
    "print('z:', round(z, 3))"
   ]
  },
  {
   "cell_type": "markdown",
   "metadata": {},
   "source": [
    "Because $z$ is not in the rejection region, you fail to reject the null hypothesis. "
   ]
  },
  {
   "cell_type": "markdown",
   "metadata": {},
   "source": [
    "Fail to reject $H_{0}$"
   ]
  },
  {
   "cell_type": "markdown",
   "metadata": {},
   "source": [
    "**Interpretation** There is not enough evidence at the 5% level of significance\n",
    "to support the group’s claim that there is a difference in the mean credit card\n",
    "debts of households in California and Illinois."
   ]
  }
 ],
 "metadata": {
  "kernel_info": {
   "name": "py37"
  },
  "kernelspec": {
   "display_name": "Python 3 (ipykernel)",
   "language": "python",
   "name": "python3"
  },
  "language_info": {
   "codemirror_mode": {
    "name": "ipython",
    "version": 3
   },
   "file_extension": ".py",
   "mimetype": "text/x-python",
   "name": "python",
   "nbconvert_exporter": "python",
   "pygments_lexer": "ipython3",
   "version": "3.12.6"
  },
  "nteract": {
   "version": "0.15.0"
  }
 },
 "nbformat": 4,
 "nbformat_minor": 4
}
