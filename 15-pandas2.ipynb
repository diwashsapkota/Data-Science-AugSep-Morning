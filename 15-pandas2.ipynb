{
 "cells": [
  {
   "cell_type": "markdown",
   "id": "11fe9618-d348-44a3-8a8a-49e544cbec3a",
   "metadata": {},
   "source": [
    "Combining and merging data \n",
    "===========================================================================================================================================================================\n",
    "\n",
    "Data contained in pandas objects can be combined in several ways:\n",
    "\n",
    "- [pandas.merge](https://pandas.pydata.org/docs/reference/api/pandas.merge.html) joins rows in DataFrames based on one or more keys. This function is familiar from SQL or other relational databases, as it implements database join operations.\n",
    "\n",
    "- [pandas.concat](https://pandas.pydata.org/docs/reference/api/pandas.concat.html) concatenates or *stacks* objects along an axis.\n",
    "\n",
    "- The instance methods [pandas.DataFrame.combine_first](https://pandas.pydata.org/docs/reference/api/pandas.DataFrame.combine_first.html) or [pandas.Series.combine_first](https://pandas.pydata.org/docs/reference/api/pandas.Series.combine_first.html) allow overlapping data to be joined.\n",
    "\n",
    "-   With [pandas.merge_asof](https://pandas.pydata.org/docs/reference/api/pandas.merge_asof.html) you can perform time series based window joins between DataFrame objects."
   ]
  },
  {
   "cell_type": "markdown",
   "id": "26465ea7-71e1-42b7-9f1f-8d5353f69825",
   "metadata": {},
   "source": [
    "Database-like DataFrame joins\n",
    "-------------------------------"
   ]
  },
  {
   "cell_type": "markdown",
   "id": "4871a836-934c-49f3-b5ef-e8ce68ea2cb0",
   "metadata": {},
   "source": [
    "Merge or join operations combine data sets by linking rows with one or more keys. These operations are especially important in relational, SQL-based databases. The merge function in pandas is the main entry point for applying these algorithms to your data."
   ]
  },
  {
   "cell_type": "code",
   "execution_count": 1,
   "id": "b26dd62e-5b00-43e2-a517-08d8f35bb2aa",
   "metadata": {},
   "outputs": [
    {
     "name": "stdout",
     "output_type": "stream",
     "text": [
      "   UserID  Likes  Comments  Shares\n",
      "0     101    250        50      25\n",
      "1     102    300        60      30\n",
      "2     103    350        70      35\n",
      "3     104    400        80      40\n",
      "4     105    450        90      45\n",
      "   UserID     Name    Country\n",
      "0     101   Dipesh      Nepal\n",
      "1     102      Bob        USA\n",
      "2     103  Charlie  Australia\n",
      "3     106    Diana     Canada\n",
      "4     107    Ethan         UK\n"
     ]
    }
   ],
   "source": [
    "import pandas as pd\n",
    "# First dataset: User engagement data for a social media platform\n",
    "engg = pd.DataFrame(\n",
    "    {\n",
    "        'UserID': [101, 102, 103, 104, 105],\n",
    "        'Likes': [250, 300, 350, 400, 450],\n",
    "        'Comments': [50, 60, 70, 80, 90],\n",
    "        'Shares': [25, 30, 35, 40, 45],\n",
    "    }\n",
    ")\n",
    "\n",
    "# Second dataset: User profile data\n",
    "prof = pd.DataFrame(\n",
    "    {\n",
    "        'UserID': [101, 102, 103, 106, 107],\n",
    "        'Name': ['Dipesh', 'Bob', 'Charlie', 'Diana', 'Ethan'],\n",
    "        'Country': ['Nepal', 'USA', 'Australia', 'Canada', 'UK'],\n",
    "    }\n",
    ")\n",
    "\n",
    "print(engg) \n",
    "\n",
    "print(prof)\n"
   ]
  },
  {
   "cell_type": "markdown",
   "id": "b9de7efd-185d-46a2-8b0a-3cdd844f3032",
   "metadata": {},
   "source": [
    "When we call `merge` with these objects, we get:"
   ]
  },
  {
   "cell_type": "code",
   "execution_count": 2,
   "id": "aec961d9-b73f-4100-86b2-64e067c8f69b",
   "metadata": {},
   "outputs": [
    {
     "data": {
      "text/html": [
       "<div>\n",
       "<style scoped>\n",
       "    .dataframe tbody tr th:only-of-type {\n",
       "        vertical-align: middle;\n",
       "    }\n",
       "\n",
       "    .dataframe tbody tr th {\n",
       "        vertical-align: top;\n",
       "    }\n",
       "\n",
       "    .dataframe thead th {\n",
       "        text-align: right;\n",
       "    }\n",
       "</style>\n",
       "<table border=\"1\" class=\"dataframe\">\n",
       "  <thead>\n",
       "    <tr style=\"text-align: right;\">\n",
       "      <th></th>\n",
       "      <th>UserID</th>\n",
       "      <th>Name</th>\n",
       "      <th>Country</th>\n",
       "      <th>Likes</th>\n",
       "      <th>Comments</th>\n",
       "      <th>Shares</th>\n",
       "    </tr>\n",
       "  </thead>\n",
       "  <tbody>\n",
       "    <tr>\n",
       "      <th>0</th>\n",
       "      <td>101</td>\n",
       "      <td>Dipesh</td>\n",
       "      <td>Nepal</td>\n",
       "      <td>250</td>\n",
       "      <td>50</td>\n",
       "      <td>25</td>\n",
       "    </tr>\n",
       "    <tr>\n",
       "      <th>1</th>\n",
       "      <td>102</td>\n",
       "      <td>Bob</td>\n",
       "      <td>USA</td>\n",
       "      <td>300</td>\n",
       "      <td>60</td>\n",
       "      <td>30</td>\n",
       "    </tr>\n",
       "    <tr>\n",
       "      <th>2</th>\n",
       "      <td>103</td>\n",
       "      <td>Charlie</td>\n",
       "      <td>Australia</td>\n",
       "      <td>350</td>\n",
       "      <td>70</td>\n",
       "      <td>35</td>\n",
       "    </tr>\n",
       "  </tbody>\n",
       "</table>\n",
       "</div>"
      ],
      "text/plain": [
       "   UserID     Name    Country  Likes  Comments  Shares\n",
       "0     101   Dipesh      Nepal    250        50      25\n",
       "1     102      Bob        USA    300        60      30\n",
       "2     103  Charlie  Australia    350        70      35"
      ]
     },
     "execution_count": 2,
     "metadata": {},
     "output_type": "execute_result"
    }
   ],
   "source": [
    "pd.merge(prof, engg)"
   ]
  },
  {
   "cell_type": "markdown",
   "id": "e362a09a-9583-49c8-961b-b2298fa839ee",
   "metadata": {},
   "source": [
    "By default, `merge` performs a so-called *inner join*; the keys in the result are the intersection or common set in both tables."
   ]
  },
  {
   "cell_type": "markdown",
   "id": "fcb736ec-a30a-46f8-bb39-c1d79cead392",
   "metadata": {},
   "source": [
    "Note:\n",
    "\n",
    "I did not specify which column to merge over. If this information is not specified, merge will use the overlapping column names as keys. However, it is good practice to specify this explicitly:\n"
   ]
  },
  {
   "cell_type": "code",
   "execution_count": 3,
   "id": "320ec891-87a6-467f-a1c9-e011bcb15b7f",
   "metadata": {},
   "outputs": [
    {
     "data": {
      "text/html": [
       "<div>\n",
       "<style scoped>\n",
       "    .dataframe tbody tr th:only-of-type {\n",
       "        vertical-align: middle;\n",
       "    }\n",
       "\n",
       "    .dataframe tbody tr th {\n",
       "        vertical-align: top;\n",
       "    }\n",
       "\n",
       "    .dataframe thead th {\n",
       "        text-align: right;\n",
       "    }\n",
       "</style>\n",
       "<table border=\"1\" class=\"dataframe\">\n",
       "  <thead>\n",
       "    <tr style=\"text-align: right;\">\n",
       "      <th></th>\n",
       "      <th>UserID</th>\n",
       "      <th>Name</th>\n",
       "      <th>Country</th>\n",
       "      <th>Likes</th>\n",
       "      <th>Comments</th>\n",
       "      <th>Shares</th>\n",
       "    </tr>\n",
       "  </thead>\n",
       "  <tbody>\n",
       "    <tr>\n",
       "      <th>0</th>\n",
       "      <td>101</td>\n",
       "      <td>Dipesh</td>\n",
       "      <td>Nepal</td>\n",
       "      <td>250</td>\n",
       "      <td>50</td>\n",
       "      <td>25</td>\n",
       "    </tr>\n",
       "    <tr>\n",
       "      <th>1</th>\n",
       "      <td>102</td>\n",
       "      <td>Bob</td>\n",
       "      <td>USA</td>\n",
       "      <td>300</td>\n",
       "      <td>60</td>\n",
       "      <td>30</td>\n",
       "    </tr>\n",
       "    <tr>\n",
       "      <th>2</th>\n",
       "      <td>103</td>\n",
       "      <td>Charlie</td>\n",
       "      <td>Australia</td>\n",
       "      <td>350</td>\n",
       "      <td>70</td>\n",
       "      <td>35</td>\n",
       "    </tr>\n",
       "  </tbody>\n",
       "</table>\n",
       "</div>"
      ],
      "text/plain": [
       "   UserID     Name    Country  Likes  Comments  Shares\n",
       "0     101   Dipesh      Nepal    250        50      25\n",
       "1     102      Bob        USA    300        60      30\n",
       "2     103  Charlie  Australia    350        70      35"
      ]
     },
     "execution_count": 3,
     "metadata": {},
     "output_type": "execute_result"
    }
   ],
   "source": [
    "pd.merge(prof, engg, on='UserID')"
   ]
  },
  {
   "cell_type": "markdown",
   "id": "50d1bb8e-79bc-489b-bf7c-44b2e213815d",
   "metadata": {},
   "source": [
    "If the column names are different in each object, you can specify them separately. In the following example `profile` gets the key `Profile_ID` and not `UserID`:"
   ]
  },
  {
   "cell_type": "code",
   "execution_count": 6,
   "id": "7dabe5f4-4259-453c-b5a1-62c9a95619c4",
   "metadata": {},
   "outputs": [
    {
     "data": {
      "text/html": [
       "<div>\n",
       "<style scoped>\n",
       "    .dataframe tbody tr th:only-of-type {\n",
       "        vertical-align: middle;\n",
       "    }\n",
       "\n",
       "    .dataframe tbody tr th {\n",
       "        vertical-align: top;\n",
       "    }\n",
       "\n",
       "    .dataframe thead th {\n",
       "        text-align: right;\n",
       "    }\n",
       "</style>\n",
       "<table border=\"1\" class=\"dataframe\">\n",
       "  <thead>\n",
       "    <tr style=\"text-align: right;\">\n",
       "      <th></th>\n",
       "      <th>Profile_ID</th>\n",
       "      <th>Name</th>\n",
       "      <th>Country</th>\n",
       "      <th>UserID</th>\n",
       "      <th>Likes</th>\n",
       "      <th>Comments</th>\n",
       "      <th>Shares</th>\n",
       "    </tr>\n",
       "  </thead>\n",
       "  <tbody>\n",
       "    <tr>\n",
       "      <th>0</th>\n",
       "      <td>101</td>\n",
       "      <td>Dipesh</td>\n",
       "      <td>Nepal</td>\n",
       "      <td>101</td>\n",
       "      <td>250</td>\n",
       "      <td>50</td>\n",
       "      <td>25</td>\n",
       "    </tr>\n",
       "    <tr>\n",
       "      <th>1</th>\n",
       "      <td>102</td>\n",
       "      <td>Bob</td>\n",
       "      <td>USA</td>\n",
       "      <td>102</td>\n",
       "      <td>300</td>\n",
       "      <td>60</td>\n",
       "      <td>30</td>\n",
       "    </tr>\n",
       "    <tr>\n",
       "      <th>2</th>\n",
       "      <td>103</td>\n",
       "      <td>Charlie</td>\n",
       "      <td>Australia</td>\n",
       "      <td>103</td>\n",
       "      <td>350</td>\n",
       "      <td>70</td>\n",
       "      <td>35</td>\n",
       "    </tr>\n",
       "  </tbody>\n",
       "</table>\n",
       "</div>"
      ],
      "text/plain": [
       "   Profile_ID     Name    Country  UserID  Likes  Comments  Shares\n",
       "0         101   Dipesh      Nepal     101    250        50      25\n",
       "1         102      Bob        USA     102    300        60      30\n",
       "2         103  Charlie  Australia     103    350        70      35"
      ]
     },
     "execution_count": 6,
     "metadata": {},
     "output_type": "execute_result"
    }
   ],
   "source": [
    "profile = pd.DataFrame(\n",
    "    {\n",
    "        'Profile_ID': [101, 102, 103, 106, 107],\n",
    "        'Name': ['Dipesh', 'Bob', 'Charlie', 'Diana', 'Ethan'],\n",
    "        'Country': ['Nepal', 'USA', 'Australia', 'Canada', 'UK'],\n",
    "    }\n",
    ")\n",
    "# print(profile)\n",
    "\n",
    "# pd.merge(profile, engg)\n",
    "\n",
    "\n",
    "pd.merge(profile, engg, left_on='Profile_ID', right_on='UserID')"
   ]
  },
  {
   "cell_type": "markdown",
   "id": "25e26870-b96b-4a21-9b9b-37dc5fe5674c",
   "metadata": {},
   "source": [
    "However, you can use `merge` not only to perform an inner join, with which the keys in the result are the intersection or common set in both tables. Other possible options are:\n",
    "\n",
    "| Option |        Behavior |\n",
    "|  --------     |    -------  |\n",
    "| `how='inner'` | uses only the key combinations observed in both tables |\n",
    "| `how='left'`  | uses all key combinations found in the left table |\n",
    "| `how='right'` | uses all key combinations found in the right table |\n",
    "| `how='outer'` | uses all key combinations observed in both tables together |"
   ]
  },
  {
   "cell_type": "code",
   "execution_count": 20,
   "id": "f5f6eab5-3ac1-441a-86cd-7e759e20dcdb",
   "metadata": {},
   "outputs": [
    {
     "data": {
      "text/html": [
       "<div>\n",
       "<style scoped>\n",
       "    .dataframe tbody tr th:only-of-type {\n",
       "        vertical-align: middle;\n",
       "    }\n",
       "\n",
       "    .dataframe tbody tr th {\n",
       "        vertical-align: top;\n",
       "    }\n",
       "\n",
       "    .dataframe thead th {\n",
       "        text-align: right;\n",
       "    }\n",
       "</style>\n",
       "<table border=\"1\" class=\"dataframe\">\n",
       "  <thead>\n",
       "    <tr style=\"text-align: right;\">\n",
       "      <th></th>\n",
       "      <th>UserID</th>\n",
       "      <th>Name</th>\n",
       "      <th>Country</th>\n",
       "      <th>Likes</th>\n",
       "      <th>Comments</th>\n",
       "      <th>Shares</th>\n",
       "    </tr>\n",
       "  </thead>\n",
       "  <tbody>\n",
       "    <tr>\n",
       "      <th>0</th>\n",
       "      <td>101</td>\n",
       "      <td>Dipesh</td>\n",
       "      <td>Nepal</td>\n",
       "      <td>250.0</td>\n",
       "      <td>50.0</td>\n",
       "      <td>25.0</td>\n",
       "    </tr>\n",
       "    <tr>\n",
       "      <th>1</th>\n",
       "      <td>102</td>\n",
       "      <td>Bob</td>\n",
       "      <td>USA</td>\n",
       "      <td>300.0</td>\n",
       "      <td>60.0</td>\n",
       "      <td>30.0</td>\n",
       "    </tr>\n",
       "    <tr>\n",
       "      <th>2</th>\n",
       "      <td>103</td>\n",
       "      <td>Charlie</td>\n",
       "      <td>Australia</td>\n",
       "      <td>350.0</td>\n",
       "      <td>70.0</td>\n",
       "      <td>35.0</td>\n",
       "    </tr>\n",
       "    <tr>\n",
       "      <th>3</th>\n",
       "      <td>106</td>\n",
       "      <td>Diana</td>\n",
       "      <td>Canada</td>\n",
       "      <td>NaN</td>\n",
       "      <td>NaN</td>\n",
       "      <td>NaN</td>\n",
       "    </tr>\n",
       "    <tr>\n",
       "      <th>4</th>\n",
       "      <td>107</td>\n",
       "      <td>Ethan</td>\n",
       "      <td>UK</td>\n",
       "      <td>NaN</td>\n",
       "      <td>NaN</td>\n",
       "      <td>NaN</td>\n",
       "    </tr>\n",
       "  </tbody>\n",
       "</table>\n",
       "</div>"
      ],
      "text/plain": [
       "   UserID     Name    Country  Likes  Comments  Shares\n",
       "0     101   Dipesh      Nepal  250.0      50.0    25.0\n",
       "1     102      Bob        USA  300.0      60.0    30.0\n",
       "2     103  Charlie  Australia  350.0      70.0    35.0\n",
       "3     106    Diana     Canada    NaN       NaN     NaN\n",
       "4     107    Ethan         UK    NaN       NaN     NaN"
      ]
     },
     "execution_count": 20,
     "metadata": {},
     "output_type": "execute_result"
    }
   ],
   "source": [
    "pd.merge(prof, engg, on=\"UserID\", how=\"left\")"
   ]
  },
  {
   "cell_type": "code",
   "execution_count": 21,
   "id": "af3e33d2-f451-4e8c-a2b4-55d4d6fd1e7b",
   "metadata": {},
   "outputs": [
    {
     "data": {
      "text/html": [
       "<div>\n",
       "<style scoped>\n",
       "    .dataframe tbody tr th:only-of-type {\n",
       "        vertical-align: middle;\n",
       "    }\n",
       "\n",
       "    .dataframe tbody tr th {\n",
       "        vertical-align: top;\n",
       "    }\n",
       "\n",
       "    .dataframe thead th {\n",
       "        text-align: right;\n",
       "    }\n",
       "</style>\n",
       "<table border=\"1\" class=\"dataframe\">\n",
       "  <thead>\n",
       "    <tr style=\"text-align: right;\">\n",
       "      <th></th>\n",
       "      <th>UserID</th>\n",
       "      <th>Likes</th>\n",
       "      <th>Comments</th>\n",
       "      <th>Shares</th>\n",
       "      <th>Name</th>\n",
       "      <th>Country</th>\n",
       "    </tr>\n",
       "  </thead>\n",
       "  <tbody>\n",
       "    <tr>\n",
       "      <th>0</th>\n",
       "      <td>101</td>\n",
       "      <td>250.0</td>\n",
       "      <td>50.0</td>\n",
       "      <td>25.0</td>\n",
       "      <td>Dipesh</td>\n",
       "      <td>Nepal</td>\n",
       "    </tr>\n",
       "    <tr>\n",
       "      <th>1</th>\n",
       "      <td>102</td>\n",
       "      <td>300.0</td>\n",
       "      <td>60.0</td>\n",
       "      <td>30.0</td>\n",
       "      <td>Bob</td>\n",
       "      <td>USA</td>\n",
       "    </tr>\n",
       "    <tr>\n",
       "      <th>2</th>\n",
       "      <td>103</td>\n",
       "      <td>350.0</td>\n",
       "      <td>70.0</td>\n",
       "      <td>35.0</td>\n",
       "      <td>Charlie</td>\n",
       "      <td>Australia</td>\n",
       "    </tr>\n",
       "    <tr>\n",
       "      <th>3</th>\n",
       "      <td>104</td>\n",
       "      <td>400.0</td>\n",
       "      <td>80.0</td>\n",
       "      <td>40.0</td>\n",
       "      <td>NaN</td>\n",
       "      <td>NaN</td>\n",
       "    </tr>\n",
       "    <tr>\n",
       "      <th>4</th>\n",
       "      <td>105</td>\n",
       "      <td>450.0</td>\n",
       "      <td>90.0</td>\n",
       "      <td>45.0</td>\n",
       "      <td>NaN</td>\n",
       "      <td>NaN</td>\n",
       "    </tr>\n",
       "    <tr>\n",
       "      <th>5</th>\n",
       "      <td>106</td>\n",
       "      <td>NaN</td>\n",
       "      <td>NaN</td>\n",
       "      <td>NaN</td>\n",
       "      <td>Diana</td>\n",
       "      <td>Canada</td>\n",
       "    </tr>\n",
       "    <tr>\n",
       "      <th>6</th>\n",
       "      <td>107</td>\n",
       "      <td>NaN</td>\n",
       "      <td>NaN</td>\n",
       "      <td>NaN</td>\n",
       "      <td>Ethan</td>\n",
       "      <td>UK</td>\n",
       "    </tr>\n",
       "  </tbody>\n",
       "</table>\n",
       "</div>"
      ],
      "text/plain": [
       "   UserID  Likes  Comments  Shares     Name    Country\n",
       "0     101  250.0      50.0    25.0   Dipesh      Nepal\n",
       "1     102  300.0      60.0    30.0      Bob        USA\n",
       "2     103  350.0      70.0    35.0  Charlie  Australia\n",
       "3     104  400.0      80.0    40.0      NaN        NaN\n",
       "4     105  450.0      90.0    45.0      NaN        NaN\n",
       "5     106    NaN       NaN     NaN    Diana     Canada\n",
       "6     107    NaN       NaN     NaN    Ethan         UK"
      ]
     },
     "execution_count": 21,
     "metadata": {},
     "output_type": "execute_result"
    }
   ],
   "source": [
    "pd.merge(engg, prof, on=\"UserID\", how=\"outer\")"
   ]
  },
  {
   "cell_type": "code",
   "execution_count": 7,
   "id": "89142d61-3523-4d0e-a9d7-2b61f9ac998a",
   "metadata": {},
   "outputs": [
    {
     "name": "stdout",
     "output_type": "stream",
     "text": [
      "   UserID     Name    Country  Likes  Comments  Shares\n",
      "0     101   Dipesh      Nepal    NaN       NaN     NaN\n",
      "1     102      Bob        USA    NaN       NaN     NaN\n",
      "2     103  Charlie  Australia    NaN       NaN     NaN\n",
      "3     106    Diana     Canada    NaN       NaN     NaN\n",
      "4     107    Ethan         UK    NaN       NaN     NaN\n",
      "0     101      NaN        NaN  250.0      50.0    25.0\n",
      "1     102      NaN        NaN  300.0      60.0    30.0\n",
      "2     103      NaN        NaN  350.0      70.0    35.0\n",
      "3     104      NaN        NaN  400.0      80.0    40.0\n",
      "4     105      NaN        NaN  450.0      90.0    45.0\n"
     ]
    }
   ],
   "source": [
    "concatenated_series = pd.concat([prof, engg])\n",
    "print(concatenated_series)"
   ]
  },
  {
   "cell_type": "markdown",
   "id": "890cbcc6-47ee-4ccf-b672-1084602f81c4",
   "metadata": {},
   "source": [
    "The join method only affects the unique key values that appear in the result.\n",
    "\n",
    "To join multiple keys, you can pass a list of column names:"
   ]
  },
  {
   "cell_type": "code",
   "execution_count": 22,
   "id": "f7755664-99b1-4ba7-bb69-1e38c77af60d",
   "metadata": {},
   "outputs": [],
   "source": [
    "# pd.merge(engg, prof, on=[\"UserID\", ...], how=\"outer\")"
   ]
  },
  {
   "cell_type": "markdown",
   "id": "d491cac4-d2ac-464c-968e-5d046d0c27b0",
   "metadata": {},
   "source": [
    "Data Cleaning using Pandas\n",
    "-----------------------------"
   ]
  },
  {
   "cell_type": "markdown",
   "id": "a674e2cf-bc78-4cc0-a0f2-34768fb1241a",
   "metadata": {},
   "source": [
    "Generally, following tasks are involved in data cleaning:\n",
    "\n",
    "- Rename columns using the rename() method.\n",
    "- Update values using the at[] or iat[] method to access and modify specific elements.\n",
    "- Create a copy of a Series or dataframe using the copy() method.\n",
    "- Check for NULL values using the isnull() method, and drop them using the dropna() method.\n",
    "- Check for duplicate values using the duplicated() method. Drop them using the drop_duplicates() method.\n",
    "- Replace NULL values using the fill () method with a specified value.\n",
    "- Replace values using the replace() method.\n",
    "- Sort values using the sort_values() method.\n",
    "- Rank values using the rank() method."
   ]
  }
 ],
 "metadata": {
  "kernelspec": {
   "display_name": "Python 3 (ipykernel)",
   "language": "python",
   "name": "python3"
  },
  "language_info": {
   "codemirror_mode": {
    "name": "ipython",
    "version": 3
   },
   "file_extension": ".py",
   "mimetype": "text/x-python",
   "name": "python",
   "nbconvert_exporter": "python",
   "pygments_lexer": "ipython3",
   "version": "3.12.3"
  }
 },
 "nbformat": 4,
 "nbformat_minor": 5
}
