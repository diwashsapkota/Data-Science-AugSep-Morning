{
 "cells": [
  {
   "cell_type": "markdown",
   "metadata": {},
   "source": [
    "#### Dictionaries\n",
    "Topic Outline:\n",
    "1. Introduction to Dictionaries\n",
    "2. Creating Dictionaries\n",
    "3. Accessing Dictionary Elements\n",
    "4. Modifying Dictionary Elements\n",
    "5. Dictionary Methods\n",
    "6. Iterating Over Dictionaries\n",
    "7. Nested Dictionaries\n",
    "8. Dictionary Comprehensions\n",
    "9. Practical Examples and Common Errors"
   ]
  },
  {
   "cell_type": "markdown",
   "metadata": {},
   "source": [
    "##### Introduction to Dictionaries\n",
    "\n",
    "Dictionaries are unordered collections of items. They store data in key-value pairs.\n",
    "Keys must be unique and immutable (e.g., strings, numbers, or tuples), while values can be of any type."
   ]
  },
  {
   "cell_type": "code",
   "execution_count": 1,
   "metadata": {},
   "outputs": [
    {
     "name": "stdout",
     "output_type": "stream",
     "text": [
      "<class 'dict'>\n"
     ]
    }
   ],
   "source": [
    "## Creating Dictionaries\n",
    "empty_dict={}\n",
    "print(type(empty_dict))"
   ]
  },
  {
   "cell_type": "code",
   "execution_count": 2,
   "metadata": {},
   "outputs": [
    {
     "data": {
      "text/plain": [
       "{}"
      ]
     },
     "execution_count": 2,
     "metadata": {},
     "output_type": "execute_result"
    }
   ],
   "source": [
    "empty_dict=dict()\n",
    "empty_dict"
   ]
  },
  {
   "cell_type": "code",
   "execution_count": 3,
   "metadata": {},
   "outputs": [
    {
     "name": "stdout",
     "output_type": "stream",
     "text": [
      "{'name': 'Diwash', 'age': 25, 'address': 'Kathmandu'}\n",
      "<class 'dict'>\n"
     ]
    }
   ],
   "source": [
    "student={\"name\":\"Diwash\",\"age\":25,\"address\": \"Kathmandu\"}\n",
    "print(student)\n",
    "print(type(student))"
   ]
  },
  {
   "cell_type": "code",
   "execution_count": 4,
   "metadata": {},
   "outputs": [
    {
     "name": "stdout",
     "output_type": "stream",
     "text": [
      "{'name': 'Diwash', 'age': 32, 'address': 'Diwash'}\n"
     ]
    }
   ],
   "source": [
    "# Single key is always used\n",
    "student={\"name\":\"Diwash\",\"age\":32,\"address\":\"Diwash\"}\n",
    "print(student)"
   ]
  },
  {
   "cell_type": "code",
   "execution_count": 5,
   "metadata": {},
   "outputs": [
    {
     "name": "stdout",
     "output_type": "stream",
     "text": [
      "{'name': 'Diwash', 'age': 25, 'address': 'Kathmandu'}\n"
     ]
    }
   ],
   "source": [
    "## accessing Dictionary Elements\n",
    "student={\"name\":\"Diwash\",\"age\":25,\"address\": \"Kathmandu\"}\n",
    "print(student)"
   ]
  },
  {
   "cell_type": "code",
   "execution_count": 6,
   "metadata": {},
   "outputs": [
    {
     "name": "stdout",
     "output_type": "stream",
     "text": [
      "Kathmandu\n",
      "25\n",
      "Kathmandu\n",
      "None\n",
      "Not Available\n"
     ]
    }
   ],
   "source": [
    "## Accessing Dictionary elements\n",
    "print(student['address'])\n",
    "print(student['age'])\n",
    "\n",
    "## Accessing using get() method\n",
    "print(student.get('address'))\n",
    "print(student.get('last_name'))\n",
    "print(student.get('last_name',\"Not Available\"))"
   ]
  },
  {
   "cell_type": "code",
   "execution_count": 7,
   "metadata": {},
   "outputs": [
    {
     "name": "stdout",
     "output_type": "stream",
     "text": [
      "{'name': 'Diwash', 'age': 25, 'address': 'Kathmandu'}\n"
     ]
    }
   ],
   "source": [
    "## Modifying Dictionary Elements\n",
    "## Dictionary are mutable,so you can add, update or delete elements\n",
    "print(student)"
   ]
  },
  {
   "cell_type": "code",
   "execution_count": 8,
   "metadata": {},
   "outputs": [
    {
     "name": "stdout",
     "output_type": "stream",
     "text": [
      "{'name': 'Diwash', 'age': 26, 'address': 'Kathmandu'}\n",
      "{'name': 'Diwash', 'age': 26, 'address': 'Kathmandu', 'score': 88}\n"
     ]
    }
   ],
   "source": [
    "student[\"age\"]=26  ##update value for the key\n",
    "print(student)\n",
    "student[\"score\"] = 88 ## added a new key and value\n",
    "print(student)"
   ]
  },
  {
   "cell_type": "code",
   "execution_count": 9,
   "metadata": {},
   "outputs": [
    {
     "name": "stdout",
     "output_type": "stream",
     "text": [
      "{'name': 'Diwash', 'age': 26, 'score': 88}\n"
     ]
    }
   ],
   "source": [
    "del student['address'] ## delete key and value pair\n",
    "\n",
    "print(student)"
   ]
  },
  {
   "cell_type": "code",
   "execution_count": 10,
   "metadata": {},
   "outputs": [
    {
     "name": "stdout",
     "output_type": "stream",
     "text": [
      "{'name': 'Diwash', 'age': 25, 'address': 'Kathmandu'}\n",
      "dict_keys(['name', 'age', 'address'])\n",
      "dict_values(['Diwash', 25, 'Kathmandu'])\n",
      "dict_items([('name', 'Diwash'), ('age', 25), ('address', 'Kathmandu')])\n"
     ]
    }
   ],
   "source": [
    "## Dictionary methods\n",
    "student={\n",
    "    \"name\" : \"Diwash\",\n",
    "    \"age\" : 25,\n",
    "    \"address\" : \"Kathmandu\"\n",
    "}\n",
    "\n",
    "print(student)\n",
    "\n",
    "x=student.keys() ##get all the keys\n",
    "print(x)\n",
    "\n",
    "val=student.values() ##get all values\n",
    "print(val)\n",
    "      \n",
    "dictitems=student.items() ##get all key value pairs\n",
    "print(dictitems)"
   ]
  },
  {
   "cell_type": "code",
   "execution_count": 11,
   "metadata": {},
   "outputs": [
    {
     "name": "stdout",
     "output_type": "stream",
     "text": [
      "{'name': 'Diwash', 'age': 25, 'address': 'Kathmandu'}\n",
      "{'name': 'Diwash', 'age': 25, 'address': 'Kathmandu'}\n"
     ]
    }
   ],
   "source": [
    "## shallow copy\n",
    "student_copy=student\n",
    "print(student)\n",
    "print(student_copy)"
   ]
  },
  {
   "cell_type": "code",
   "execution_count": 12,
   "metadata": {},
   "outputs": [
    {
     "name": "stdout",
     "output_type": "stream",
     "text": [
      "{'name': 'Raj', 'age': 25, 'address': 'Kathmandu'}\n",
      "{'name': 'Raj', 'age': 25, 'address': 'Kathmandu'}\n"
     ]
    }
   ],
   "source": [
    "student[\"name\"]=\"Raj\"\n",
    "print(student)\n",
    "print(student_copy)\n"
   ]
  },
  {
   "cell_type": "code",
   "execution_count": 13,
   "metadata": {},
   "outputs": [
    {
     "name": "stdout",
     "output_type": "stream",
     "text": [
      "{'name': 'Raj', 'age': 25, 'address': 'Kathmandu'}\n",
      "{'name': 'Raj', 'age': 25, 'address': 'Kathmandu'}\n"
     ]
    }
   ],
   "source": [
    "student_copy1=student.copy() ## shallow copy\n",
    "print(student_copy1)\n",
    "print(student)"
   ]
  },
  {
   "cell_type": "code",
   "execution_count": 14,
   "metadata": {},
   "outputs": [
    {
     "name": "stdout",
     "output_type": "stream",
     "text": [
      "{'name': 'Rajesh', 'age': 25, 'address': 'Kathmandu'}\n",
      "{'name': 'Raj', 'age': 25, 'address': 'Kathmandu'}\n"
     ]
    }
   ],
   "source": [
    "student[\"name\"]=\"Rajesh\"\n",
    "print(student)\n",
    "print(student_copy1)"
   ]
  },
  {
   "cell_type": "code",
   "execution_count": 15,
   "metadata": {},
   "outputs": [
    {
     "name": "stdout",
     "output_type": "stream",
     "text": [
      "Rajesh\n",
      "name\n",
      "25\n",
      "age\n",
      "Kathmandu\n",
      "address\n"
     ]
    }
   ],
   "source": [
    "### Iterating Over Dictionaries\n",
    "## You can use loops to iterate over dictionatries, keys,values,or items\n",
    "\n",
    "## Iterating over keys\n",
    "for keys in student.keys():\n",
    "    print(student[keys])\n",
    "    print(keys)\n"
   ]
  },
  {
   "cell_type": "code",
   "execution_count": 16,
   "metadata": {},
   "outputs": [
    {
     "name": "stdout",
     "output_type": "stream",
     "text": [
      "Rajesh\n",
      "25\n",
      "Kathmandu\n"
     ]
    }
   ],
   "source": [
    "## Iterate over values\n",
    "for value in student.values():\n",
    "    print(value)"
   ]
  },
  {
   "cell_type": "code",
   "execution_count": 17,
   "metadata": {},
   "outputs": [
    {
     "name": "stdout",
     "output_type": "stream",
     "text": [
      "The value of key name is Rajesh\n",
      "The value of key age is 25\n",
      "The value of key address is Kathmandu\n"
     ]
    }
   ],
   "source": [
    "## Iterate over key value pairs\n",
    "for i,j in student.items():\n",
    "    print(f\"The value of key {i} is {j}\")"
   ]
  },
  {
   "cell_type": "code",
   "execution_count": 18,
   "metadata": {},
   "outputs": [
    {
     "name": "stdout",
     "output_type": "stream",
     "text": [
      "{'student1': {'name': 'John', 'age': 25}, 'student2': {'name': 'Joe', 'age': 35}}\n"
     ]
    }
   ],
   "source": [
    "## Nested Disctionaries\n",
    "students={\n",
    "    \"student1\":{\"name\":\"John\",\"age\":25},\n",
    "    \"student2\":{\"name\":\"Joe\",\"age\":35},\n",
    "}\n",
    "print(students)"
   ]
  },
  {
   "cell_type": "code",
   "execution_count": 19,
   "metadata": {},
   "outputs": [
    {
     "data": {
      "text/plain": [
       "'John'"
      ]
     },
     "execution_count": 19,
     "metadata": {},
     "output_type": "execute_result"
    }
   ],
   "source": [
    "students[\"student1\"][\"name\"]"
   ]
  },
  {
   "cell_type": "code",
   "execution_count": 20,
   "metadata": {},
   "outputs": [
    {
     "name": "stdout",
     "output_type": "stream",
     "text": [
      "Joe\n",
      "35\n"
     ]
    }
   ],
   "source": [
    "## Access nested dictionaries elementss\n",
    "print(students[\"student2\"][\"name\"])\n",
    "print(students[\"student2\"][\"age\"])"
   ]
  },
  {
   "cell_type": "code",
   "execution_count": 21,
   "metadata": {},
   "outputs": [
    {
     "data": {
      "text/plain": [
       "dict_items([('student1', {'name': 'John', 'age': 25}), ('student2', {'name': 'Joe', 'age': 35})])"
      ]
     },
     "execution_count": 21,
     "metadata": {},
     "output_type": "execute_result"
    }
   ],
   "source": [
    "students.items()"
   ]
  },
  {
   "cell_type": "code",
   "execution_count": 22,
   "metadata": {},
   "outputs": [
    {
     "name": "stdout",
     "output_type": "stream",
     "text": [
      "student1:{'name': 'John', 'age': 25}\n",
      "name:John\n",
      "age:25\n",
      "student2:{'name': 'Joe', 'age': 35}\n",
      "name:Joe\n",
      "age:35\n"
     ]
    }
   ],
   "source": [
    "## Iterating over nested dictionaries\n",
    "for x, y in students.items():\n",
    "    print(f\"{x}:{y}\")\n",
    "    for key,value in y.items():\n",
    "        print(f\"{key}:{value}\")"
   ]
  },
  {
   "cell_type": "markdown",
   "metadata": {},
   "source": [
    "Laptops: 1, 2\n",
    "1. Brand: DELL, HP\n",
    "2. Screensize: 13, 15.6\n",
    "3. Processor: a, b\n",
    "4. Color: silver, blue\n",
    "5. Price: 80000, 75000"
   ]
  },
  {
   "cell_type": "code",
   "execution_count": 23,
   "metadata": {},
   "outputs": [
    {
     "name": "stdout",
     "output_type": "stream",
     "text": [
      "Available Laptop Sets in ABC Company \n",
      "\n",
      "Details of laptop1: {'Brand': 'Dell', 'Screensize': '15.6 inches', 'Processor': 'Intel Core i7', 'Color': 'Black', 'Price': 80000}\n",
      "Brand : Dell\n",
      "Screensize : 15.6 inches\n",
      "Processor : Intel Core i7\n",
      "Color : Black\n",
      "Price : 80000\n",
      "\n",
      "Details of 2: {'Brand': 'Acer', 'Screensize': '14 inches', 'Processor': 'Intel Core i5', 'Color': 'Silver', 'Price': 60000}\n",
      "Brand : Acer\n",
      "Screensize : 14 inches\n",
      "Processor : Intel Core i5\n",
      "Color : Silver\n",
      "Price : 60000\n",
      "\n",
      "Details of 3: {'Brand': 'HP', 'Screensize': '13.3 inches', 'Processor': 'AMD Ryzen 7', 'Color': 'Grey', 'Price': 75000}\n",
      "Brand : HP\n",
      "Screensize : 13.3 inches\n",
      "Processor : AMD Ryzen 7\n",
      "Color : Grey\n",
      "Price : 75000\n",
      "\n",
      "Details of 4: {'Brand': 'Mac', 'Screensize': '13 inches', 'Processor': 'Apple M1', 'Color': 'Space Grey', 'Price': 120000}\n",
      "Brand : Mac\n",
      "Screensize : 13 inches\n",
      "Processor : Apple M1\n",
      "Color : Space Grey\n",
      "Price : 120000\n",
      "\n"
     ]
    }
   ],
   "source": [
    "laptops = {\n",
    "    \"laptop1\": { \"Brand\": \"Dell\",\n",
    "        \"Screensize\": \"15.6 inches\",\n",
    "        \"Processor\": \"Intel Core i7\",\n",
    "        \"Color\": \"Black\",\n",
    "        \"Price\": 80000\n",
    "    },\n",
    "    2: { \"Brand\": \"Acer\",\n",
    "        \"Screensize\": \"14 inches\",\n",
    "        \"Processor\": \"Intel Core i5\",\n",
    "        \"Color\": \"Silver\",\n",
    "        \"Price\": 60000\n",
    "    },\n",
    "    3: { \"Brand\": \"HP\",\n",
    "        \"Screensize\": \"13.3 inches\",\n",
    "        \"Processor\": \"AMD Ryzen 7\",\n",
    "        \"Color\": \"Grey\",\n",
    "        \"Price\": 75000\n",
    "    },\n",
    "    4: { \"Brand\": \"Mac\",\n",
    "        \"Screensize\": \"13 inches\",\n",
    "        \"Processor\": \"Apple M1\",\n",
    "        \"Color\": \"Space Grey\",\n",
    "        \"Price\": 120000\n",
    "    }\n",
    "}\n",
    "\n",
    "print(\"Available Laptop Sets in ABC Company\", '\\n')\n",
    "\n",
    "for laptopid, laptopinfo in laptops.items():\n",
    "    print(f\"Details of {laptopid}: {laptopinfo}\")\n",
    "    for key, value in laptopinfo.items():\n",
    "        print(f'{key} : {value}')\n",
    "    print('')"
   ]
  },
  {
   "cell_type": "code",
   "execution_count": 24,
   "metadata": {},
   "outputs": [
    {
     "name": "stdout",
     "output_type": "stream",
     "text": [
      "{0: 0, 1: 1, 2: 4, 3: 9, 4: 16}\n"
     ]
    }
   ],
   "source": [
    "## Dictionary Comphrehension\n",
    "squares={x:x**2 for x in range(5)}\n",
    "print(squares)"
   ]
  },
  {
   "cell_type": "code",
   "execution_count": 25,
   "metadata": {},
   "outputs": [
    {
     "name": "stdout",
     "output_type": "stream",
     "text": [
      "{0: 0, 2: 4, 4: 16, 6: 36, 8: 64}\n"
     ]
    }
   ],
   "source": [
    "## Condition dictionary comprehension\n",
    "evens={x:x**2 for x in range(10) if x%2==0}\n",
    "print(evens)"
   ]
  },
  {
   "cell_type": "code",
   "execution_count": 28,
   "metadata": {},
   "outputs": [
    {
     "data": {
      "text/plain": [
       "{'a': 1, 'b': 2, 'c': 3, 'd': None}"
      ]
     },
     "execution_count": 28,
     "metadata": {},
     "output_type": "execute_result"
    }
   ],
   "source": [
    "import itertools   \n",
    "\n",
    "lst1 = [\"a\", \"b\", \"c\", \"d\"]\n",
    "lst2 = [1, 2, 3]\n",
    "# lst3 = [1, 4, 9, 16]\n",
    "mydict = dict(itertools.zip_longest(lst1, lst2))\n",
    "mydict"
   ]
  },
  {
   "cell_type": "code",
   "execution_count": 30,
   "metadata": {},
   "outputs": [
    {
     "name": "stdout",
     "output_type": "stream",
     "text": [
      "{1: 1, 2: 2, 3: 3, 4: 4}\n"
     ]
    }
   ],
   "source": [
    "## Practical Examples\n",
    "\n",
    "## USe a dictionary to count the frequency of elements in list\n",
    "\n",
    "numbers=[1,2,2,3,3,3,4,4,4,4]\n",
    "frequency={}\n",
    "\n",
    "for number in numbers:\n",
    "    if number in frequency:\n",
    "        frequency[number]+=1\n",
    "    else:\n",
    "        frequency[number]=1\n",
    "print(frequency)\n"
   ]
  },
  {
   "cell_type": "code",
   "execution_count": 1,
   "metadata": {},
   "outputs": [
    {
     "name": "stdout",
     "output_type": "stream",
     "text": [
      "{'a': 1, 'b': 3, 'c': 4}\n"
     ]
    }
   ],
   "source": [
    "## Merge 2 dictionaries into one\n",
    "\n",
    "dict1={\"a\":1,\"b\":2}\n",
    "dict2={\"b\":3,\"c\":4}\n",
    "merged_dict={**dict1,**dict2}\n",
    "print(merged_dict)"
   ]
  },
  {
   "cell_type": "markdown",
   "metadata": {},
   "source": [
    "#### Conclusion\n",
    "Dictionaries are powerful tools in Python for managing key-value pairs. They are used in a variety of real-world scenarios, such as counting word frequency, grouping data, storing configuration settings, managing phonebooks, tracking inventory, and caching results. Understanding how to leverage dictionaries effectively can greatly enhance the efficiency and readability of your code."
   ]
  },
  {
   "cell_type": "code",
   "execution_count": 1,
   "metadata": {},
   "outputs": [
    {
     "name": "stdout",
     "output_type": "stream",
     "text": [
      "M1Pro\n"
     ]
    }
   ],
   "source": [
    "my_dict ={\"HP\":70000, \"M1Pro\":145000, \"Asus\":110000}\n",
    "\n",
    "x = list(my_dict.keys())\n",
    "y = list(my_dict.values())\n",
    "position = y.index(145000)\n",
    "print(x[position])"
   ]
  },
  {
   "cell_type": "code",
   "execution_count": 32,
   "metadata": {},
   "outputs": [
    {
     "name": "stdout",
     "output_type": "stream",
     "text": [
      "There is no record for S05.\n"
     ]
    }
   ],
   "source": [
    "students = {\n",
    "    'S01': 'Ramesh',\n",
    "    'S02': 'Himal',\n",
    "    'S03': 'Diwash',\n",
    "    'S04': 'Rupak'\n",
    "}\n",
    "\n",
    "#Let the Student ID to find be 'S03'\n",
    "s_id = 'S05'\n",
    "\n",
    "if s_id in students.keys():\n",
    "    print(students[s_id])\n",
    "else:\n",
    "    print(f'There is no record for {s_id}.')"
   ]
  },
  {
   "cell_type": "code",
   "execution_count": 3,
   "metadata": {},
   "outputs": [
    {
     "name": "stdout",
     "output_type": "stream",
     "text": [
      "1200\n",
      "football 1200\n",
      "cricketbat 5000\n",
      "guitar 20000\n",
      "Total Price of items is 26200\n"
     ]
    }
   ],
   "source": [
    "#Creating a dictionary\n",
    "items = {\n",
    "    'football': 1200,\n",
    "    'cricketbat': 5000,\n",
    "    'guitar': 20000\n",
    "}\n",
    "\n",
    "total_price = 0\n",
    "\n",
    "# for price in items.values():\n",
    "#     print(price)\n",
    "#     total_price = total_price + price\n",
    "\n",
    "for i in items.keys():\n",
    "    print(i, items[i])\n",
    "    total_price = total_price + items[i]\n",
    "\n",
    "print(f'Total Price of items is {total_price}')"
   ]
  },
  {
   "cell_type": "code",
   "execution_count": 17,
   "metadata": {},
   "outputs": [
    {
     "name": "stdout",
     "output_type": "stream",
     "text": [
      "{'a': [5, 25], 'b': [10, 100], 'c': [15, 225], 'd': [0, 400], 'e': [0, 0]}\n"
     ]
    }
   ],
   "source": [
    "from itertools import zip_longest\n",
    "\n",
    "# Initialize the lists\n",
    "list1 = ['a', 'b', 'c', 'd', 'e']\n",
    "list2 = [5, 10, 15]\n",
    "list3 = [25, 100, 225, 400]\n",
    "\n",
    "# {'a': [5, 25], 'b': [10, 100], 'c': [15, 225], 0: [20, 400]}\n",
    "\n",
    "# Use zip_longest to iterate over the lists in parallel\n",
    "d = {}\n",
    "for elem1, elem2, elem3 in zip_longest(list1, list2, list3, fillvalue=0):\n",
    "\td.setdefault(elem1, []).append(elem2)\n",
    "\td.setdefault(elem1, []).append(elem3)\n",
    "\n",
    "print(d)"
   ]
  },
  {
   "cell_type": "markdown",
   "metadata": {},
   "source": [
    "The setdefault() method in Python dictionaries serves two purposes:\n",
    "\n",
    "    * Retrieval: If the specified key exists in the dictionary, it returns the corresponding value associated with that key.\n",
    "    * Insertion: If the key does not exist, it inserts the key into the dictionary with a specified default value and returns this value.\n",
    "\n"
   ]
  },
  {
   "cell_type": "code",
   "execution_count": 6,
   "metadata": {},
   "outputs": [
    {
     "name": "stdout",
     "output_type": "stream",
     "text": [
      "Ramesh\n",
      "{'name': 'Ramesh', 'age': 25}\n"
     ]
    }
   ],
   "source": [
    "my_dict = {'name': 'Ramesh', 'age': 25}\n",
    "returned = my_dict.setdefault('name', 'John')\n",
    "print(returned)\n",
    "print(my_dict)"
   ]
  },
  {
   "cell_type": "code",
   "execution_count": 7,
   "metadata": {},
   "outputs": [
    {
     "name": "stdout",
     "output_type": "stream",
     "text": [
      "{'name': 'Ramesh', 'age': 25, 'job': 'Project Manager'}\n",
      "Project Manager\n"
     ]
    }
   ],
   "source": [
    "v = my_dict.setdefault('job', 'Project Manager')\n",
    "print(my_dict) \n",
    "print(v) \n"
   ]
  },
  {
   "cell_type": "code",
   "execution_count": 13,
   "metadata": {},
   "outputs": [
    {
     "name": "stdout",
     "output_type": "stream",
     "text": [
      "{'age': 25, 'job': 'Project Manager', 'name1': 'Steve', 'name': 'Bill'}\n"
     ]
    },
    {
     "data": {
      "text/plain": [
       "{'age': 25, 'job': 'Project Manager', 'name1': 'Steve'}"
      ]
     },
     "execution_count": 13,
     "metadata": {},
     "output_type": "execute_result"
    }
   ],
   "source": [
    "my_dict.update({'name':'Bill', 'name1': 'Steve'})\n",
    "print(my_dict)\n",
    "del my_dict['name']\n",
    "my_dict"
   ]
  },
  {
   "cell_type": "code",
   "execution_count": null,
   "metadata": {},
   "outputs": [],
   "source": []
  }
 ],
 "metadata": {
  "kernelspec": {
   "display_name": "Python 3 (ipykernel)",
   "language": "python",
   "name": "python3"
  },
  "language_info": {
   "codemirror_mode": {
    "name": "ipython",
    "version": 3
   },
   "file_extension": ".py",
   "mimetype": "text/x-python",
   "name": "python",
   "nbconvert_exporter": "python",
   "pygments_lexer": "ipython3",
   "version": "3.12.3"
  }
 },
 "nbformat": 4,
 "nbformat_minor": 4
}
