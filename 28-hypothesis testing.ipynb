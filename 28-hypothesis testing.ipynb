{
 "cells": [
  {
   "cell_type": "markdown",
   "id": "bb7cc3fd-a964-4672-83a2-37d842326ff1",
   "metadata": {},
   "source": [
    "# Different Hypothesis Test"
   ]
  },
  {
   "cell_type": "markdown",
   "id": "3f102287-1f87-4f00-b1bf-3760402ee4b0",
   "metadata": {},
   "source": [
    "The Z-test is used for comparison between two sets of data when the population standard deviation is known.\n",
    "The z-test assumes that the data is normally distributed, but it does not assume that the variances of the two groups are equal. "
   ]
  },
  {
   "cell_type": "markdown",
   "id": "a882d6f0-801a-491f-b188-00fe3048f477",
   "metadata": {},
   "source": [
    "The Chi-squared test is used to compare two or more categorical variables.\n",
    "It does not make any assumptions about the distribution of data."
   ]
  },
  {
   "cell_type": "markdown",
   "id": "720930c8-682d-4fd1-ba25-5dc4dbd55473",
   "metadata": {},
   "source": [
    "T-test is used for comparison of two sets of data when we don't know the population standard deviation. \n",
    "These assumptions include that the data is normally distributed and that the variances of the two groups are equal.\n"
   ]
  },
  {
   "cell_type": "markdown",
   "id": "d01d1a5a-2cb9-420a-b32c-5599c607e9c7",
   "metadata": {},
   "source": [
    "# Steps"
   ]
  },
  {
   "cell_type": "markdown",
   "id": "c259fe44-85b8-4d36-abc1-bdf9734547a0",
   "metadata": {},
   "source": [
    "1.Define the Null and Alternative Hypotheses <br>\n",
    "2.Choose a Significance Level <br>\n",
    "3.Collect Data and Calculate a Test Statistic <br>\n",
    "4.Decide on the Null Hypothesis Based on the Test Statistic and Significance Level <br>\n",
    "5.Interpret the Results <br>"
   ]
  },
  {
   "cell_type": "code",
   "execution_count": 9,
   "id": "f0dc6e1a-9610-4e0a-8f58-01b70bf08b86",
   "metadata": {},
   "outputs": [],
   "source": [
    "# !pip3 install statsmodels"
   ]
  },
  {
   "cell_type": "code",
   "execution_count": 7,
   "id": "b3459938-9454-4958-bbd3-d4ef2024ad72",
   "metadata": {},
   "outputs": [
    {
     "name": "stdout",
     "output_type": "stream",
     "text": [
      "TtestResult(statistic=np.float64(0.07995994307136536), pvalue=np.float64(0.9365947967752454), df=np.int64(49))\n"
     ]
    }
   ],
   "source": [
    "import numpy as np\n",
    "from scipy import stats\n",
    "rng = np.random.default_rng()\n",
    "rvs = stats.uniform.rvs(size=50, random_state=rng)\n",
    "print(stats.ttest_1samp(rvs, popmean=0.5))"
   ]
  },
  {
   "cell_type": "code",
   "execution_count": null,
   "id": "8a895e99-97a0-4e67-b7a3-89c31547b692",
   "metadata": {},
   "outputs": [],
   "source": []
  },
  {
   "cell_type": "code",
   "execution_count": 9,
   "id": "4f9b166a-1155-4074-afa3-ea1aa463e1f2",
   "metadata": {},
   "outputs": [
    {
     "name": "stdout",
     "output_type": "stream",
     "text": [
      "[22 32 38 26 38 25 37 21 23 26]\n",
      "Test statistic: -1.4855627054164144\n",
      "p-value: 0.17155759269801515\n",
      "Fail to reject the null hypothesis.\n"
     ]
    }
   ],
   "source": [
    "import numpy as np\n",
    "import scipy.stats as stats\n",
    "\n",
    "# Create a dummy dataset of 10 year old children's weight\n",
    "data = np.random.randint(20, 40, 10)\n",
    "print(data)\n",
    "\n",
    "# Define the null hypothesis\n",
    "H0 = \"The average weight of 10 year old children is 32kg.\"\n",
    "\n",
    "# Define the alternative hypothesis\n",
    "H1 = \"The average weight of 10 year old children is more than 32kg.\"\n",
    "\n",
    "# Calculate the test statistic\n",
    "t_stat, p_value = stats.ttest_1samp(data, popmean=32)\n",
    "\n",
    "# Print the results\n",
    "print(\"Test statistic:\", t_stat)\n",
    "print(\"p-value:\", p_value)\n",
    "\n",
    "# Conclusion\n",
    "if p_value < 0.05:\n",
    "    print(\"Reject the null hypothesis.\")\n",
    "else:\n",
    "    print(\"Fail to reject the null hypothesis.\")"
   ]
  },
  {
   "cell_type": "code",
   "execution_count": 10,
   "id": "66cfdc71-4ffe-4e8f-a740-cb3e44bed533",
   "metadata": {},
   "outputs": [
    {
     "data": {
      "text/html": [
       "<div>\n",
       "<style scoped>\n",
       "    .dataframe tbody tr th:only-of-type {\n",
       "        vertical-align: middle;\n",
       "    }\n",
       "\n",
       "    .dataframe tbody tr th {\n",
       "        vertical-align: top;\n",
       "    }\n",
       "\n",
       "    .dataframe thead th {\n",
       "        text-align: right;\n",
       "    }\n",
       "</style>\n",
       "<table border=\"1\" class=\"dataframe\">\n",
       "  <thead>\n",
       "    <tr style=\"text-align: right;\">\n",
       "      <th></th>\n",
       "      <th>bp_before</th>\n",
       "      <th>bp_after</th>\n",
       "    </tr>\n",
       "  </thead>\n",
       "  <tbody>\n",
       "    <tr>\n",
       "      <th>count</th>\n",
       "      <td>120.000000</td>\n",
       "      <td>120.000000</td>\n",
       "    </tr>\n",
       "    <tr>\n",
       "      <th>mean</th>\n",
       "      <td>156.450000</td>\n",
       "      <td>151.358333</td>\n",
       "    </tr>\n",
       "    <tr>\n",
       "      <th>std</th>\n",
       "      <td>11.389845</td>\n",
       "      <td>14.177622</td>\n",
       "    </tr>\n",
       "    <tr>\n",
       "      <th>min</th>\n",
       "      <td>138.000000</td>\n",
       "      <td>125.000000</td>\n",
       "    </tr>\n",
       "    <tr>\n",
       "      <th>25%</th>\n",
       "      <td>147.000000</td>\n",
       "      <td>140.750000</td>\n",
       "    </tr>\n",
       "    <tr>\n",
       "      <th>50%</th>\n",
       "      <td>154.500000</td>\n",
       "      <td>149.500000</td>\n",
       "    </tr>\n",
       "    <tr>\n",
       "      <th>75%</th>\n",
       "      <td>164.000000</td>\n",
       "      <td>161.000000</td>\n",
       "    </tr>\n",
       "    <tr>\n",
       "      <th>max</th>\n",
       "      <td>185.000000</td>\n",
       "      <td>185.000000</td>\n",
       "    </tr>\n",
       "  </tbody>\n",
       "</table>\n",
       "</div>"
      ],
      "text/plain": [
       "        bp_before    bp_after\n",
       "count  120.000000  120.000000\n",
       "mean   156.450000  151.358333\n",
       "std     11.389845   14.177622\n",
       "min    138.000000  125.000000\n",
       "25%    147.000000  140.750000\n",
       "50%    154.500000  149.500000\n",
       "75%    164.000000  161.000000\n",
       "max    185.000000  185.000000"
      ]
     },
     "execution_count": 10,
     "metadata": {},
     "output_type": "execute_result"
    }
   ],
   "source": [
    "import pandas as pd\n",
    "from scipy import stats\n",
    "df = pd.read_csv(\"data/blood_pressure.csv\")\n",
    "df[['bp_before','bp_after']].describe()"
   ]
  },
  {
   "cell_type": "code",
   "execution_count": 12,
   "id": "818c9d95-cfc2-4de0-99cd-615d1790fec8",
   "metadata": {},
   "outputs": [
    {
     "data": {
      "text/plain": [
       "TtestResult(statistic=np.float64(3.3371870510833657), pvalue=np.float64(0.0011297914644840823), df=np.int64(119))"
      ]
     },
     "execution_count": 12,
     "metadata": {},
     "output_type": "execute_result"
    }
   ],
   "source": [
    "\n",
    "stats.ttest_rel(df['bp_before'], df['bp_after'])\n"
   ]
  },
  {
   "cell_type": "code",
   "execution_count": 13,
   "id": "c46704e4-ec7c-4e22-9a58-8435460ac7c0",
   "metadata": {},
   "outputs": [
    {
     "name": "stdout",
     "output_type": "stream",
     "text": [
      "F-statistic: 16.155737704918028\n",
      "P-value: 0.0003944484121574857\n"
     ]
    }
   ],
   "source": [
    "import numpy as np\n",
    "from scipy import stats\n",
    "\n",
    "# Sample data\n",
    "method_A = [85, 88, 90, 92, 87]\n",
    "method_B = [78, 80, 85, 86, 83]\n",
    "method_C = [90, 92, 94, 96, 91]\n",
    "\n",
    "# Perform the ANOVA test\n",
    "f_statistic, p_value = stats.f_oneway(method_A, method_B, method_C)\n",
    "\n",
    "print(f\"F-statistic: {f_statistic}\")\n",
    "print(f\"P-value: {p_value}\")\n"
   ]
  },
  {
   "cell_type": "code",
   "execution_count": 14,
   "id": "60980c8b-0224-402a-9dd0-de1d2d11ba82",
   "metadata": {},
   "outputs": [
    {
     "data": {
      "text/html": [
       "<div>\n",
       "<style scoped>\n",
       "    .dataframe tbody tr th:only-of-type {\n",
       "        vertical-align: middle;\n",
       "    }\n",
       "\n",
       "    .dataframe tbody tr th {\n",
       "        vertical-align: top;\n",
       "    }\n",
       "\n",
       "    .dataframe thead th {\n",
       "        text-align: right;\n",
       "    }\n",
       "</style>\n",
       "<table border=\"1\" class=\"dataframe\">\n",
       "  <thead>\n",
       "    <tr style=\"text-align: right;\">\n",
       "      <th></th>\n",
       "      <th>Method</th>\n",
       "      <th>Gender</th>\n",
       "      <th>Score</th>\n",
       "    </tr>\n",
       "  </thead>\n",
       "  <tbody>\n",
       "    <tr>\n",
       "      <th>0</th>\n",
       "      <td>A</td>\n",
       "      <td>Male</td>\n",
       "      <td>85</td>\n",
       "    </tr>\n",
       "    <tr>\n",
       "      <th>1</th>\n",
       "      <td>A</td>\n",
       "      <td>Male</td>\n",
       "      <td>88</td>\n",
       "    </tr>\n",
       "    <tr>\n",
       "      <th>2</th>\n",
       "      <td>A</td>\n",
       "      <td>Male</td>\n",
       "      <td>90</td>\n",
       "    </tr>\n",
       "    <tr>\n",
       "      <th>3</th>\n",
       "      <td>A</td>\n",
       "      <td>Female</td>\n",
       "      <td>92</td>\n",
       "    </tr>\n",
       "    <tr>\n",
       "      <th>4</th>\n",
       "      <td>A</td>\n",
       "      <td>Female</td>\n",
       "      <td>87</td>\n",
       "    </tr>\n",
       "    <tr>\n",
       "      <th>5</th>\n",
       "      <td>B</td>\n",
       "      <td>Male</td>\n",
       "      <td>78</td>\n",
       "    </tr>\n",
       "    <tr>\n",
       "      <th>6</th>\n",
       "      <td>B</td>\n",
       "      <td>Male</td>\n",
       "      <td>80</td>\n",
       "    </tr>\n",
       "    <tr>\n",
       "      <th>7</th>\n",
       "      <td>B</td>\n",
       "      <td>Male</td>\n",
       "      <td>85</td>\n",
       "    </tr>\n",
       "    <tr>\n",
       "      <th>8</th>\n",
       "      <td>B</td>\n",
       "      <td>Female</td>\n",
       "      <td>86</td>\n",
       "    </tr>\n",
       "    <tr>\n",
       "      <th>9</th>\n",
       "      <td>B</td>\n",
       "      <td>Female</td>\n",
       "      <td>83</td>\n",
       "    </tr>\n",
       "    <tr>\n",
       "      <th>10</th>\n",
       "      <td>C</td>\n",
       "      <td>Male</td>\n",
       "      <td>90</td>\n",
       "    </tr>\n",
       "    <tr>\n",
       "      <th>11</th>\n",
       "      <td>C</td>\n",
       "      <td>Male</td>\n",
       "      <td>92</td>\n",
       "    </tr>\n",
       "    <tr>\n",
       "      <th>12</th>\n",
       "      <td>C</td>\n",
       "      <td>Male</td>\n",
       "      <td>94</td>\n",
       "    </tr>\n",
       "    <tr>\n",
       "      <th>13</th>\n",
       "      <td>C</td>\n",
       "      <td>Female</td>\n",
       "      <td>96</td>\n",
       "    </tr>\n",
       "    <tr>\n",
       "      <th>14</th>\n",
       "      <td>C</td>\n",
       "      <td>Female</td>\n",
       "      <td>91</td>\n",
       "    </tr>\n",
       "  </tbody>\n",
       "</table>\n",
       "</div>"
      ],
      "text/plain": [
       "   Method  Gender  Score\n",
       "0       A    Male     85\n",
       "1       A    Male     88\n",
       "2       A    Male     90\n",
       "3       A  Female     92\n",
       "4       A  Female     87\n",
       "5       B    Male     78\n",
       "6       B    Male     80\n",
       "7       B    Male     85\n",
       "8       B  Female     86\n",
       "9       B  Female     83\n",
       "10      C    Male     90\n",
       "11      C    Male     92\n",
       "12      C    Male     94\n",
       "13      C  Female     96\n",
       "14      C  Female     91"
      ]
     },
     "execution_count": 14,
     "metadata": {},
     "output_type": "execute_result"
    }
   ],
   "source": [
    "import pandas as pd\n",
    "import statsmodels.api as sm\n",
    "from statsmodels.formula.api import ols\n",
    "\n",
    "# Create the DataFrame\n",
    "data = {\n",
    "    'Method': ['A'] * 5 + ['B'] * 5 + ['C'] * 5,\n",
    "    'Gender': ['Male', 'Male', 'Male', 'Female', 'Female'] * 3,\n",
    "    'Score': [85, 88, 90, 92, 87, 78, 80, 85, 86, 83, 90, 92, 94, 96, 91]\n",
    "}\n",
    "\n",
    "df = pd.DataFrame(data)\n",
    "df"
   ]
  },
  {
   "cell_type": "code",
   "execution_count": 15,
   "id": "e02a45d3-7d2d-494b-b7ae-764c6cae6cbb",
   "metadata": {
    "scrolled": true
   },
   "outputs": [
    {
     "name": "stdout",
     "output_type": "stream",
     "text": [
      "                         sum_sq   df          F    PR(>F)\n",
      "C(Method)            262.800000  2.0  15.526477  0.001208\n",
      "C(Gender)             18.677778  1.0   2.207002  0.171548\n",
      "C(Method):C(Gender)    2.755556  2.0   0.162801  0.852208\n",
      "Residual              76.166667  9.0        NaN       NaN\n"
     ]
    }
   ],
   "source": [
    "\n",
    "# Fit the model\n",
    "model = ols('Score ~ C(Method) * C(Gender)', data=df).fit()\n",
    "anova_table = sm.stats.anova_lm(model, typ=2)\n",
    "\n",
    "print(anova_table)"
   ]
  },
  {
   "cell_type": "markdown",
   "id": "3a755570-ef44-4687-83a4-f69133f5f061",
   "metadata": {},
   "source": [
    "C(Method): The p-value (0.001208) is less than 0.05, indicating a significant effect of the teaching method on the scores. <br>\n",
    "C(Gender): The p-value (0.171548) is greater than 0.05, indicating that gender does not have a significant effect on the scores. <br>\n",
    "C(Method)\n",
    "(Gender): The p-value (0.852208) is much greater than 0.05, indicating no significant interaction effect between teaching method and gender on the scores.<br>"
   ]
  },
  {
   "cell_type": "markdown",
   "id": "a77b07c9-a325-4971-98a5-44f16bbc5c19",
   "metadata": {},
   "source": [
    "# Chi Square Test"
   ]
  },
  {
   "cell_type": "code",
   "execution_count": 16,
   "id": "56255ff9-99e3-4f5b-bfc4-1a62d986bbb8",
   "metadata": {},
   "outputs": [
    {
     "name": "stdout",
     "output_type": "stream",
     "text": [
      "Chi-square statistic: 0.27692307692307694\n",
      "P-value: 0.870696738961232\n",
      "Degrees of freedom: 2\n",
      "Expected frequencies:\n",
      "[[28.88888889 11.11111111 20.        ]\n",
      " [36.11111111 13.88888889 25.        ]]\n",
      "Fail to reject the null hypothesis (variables are independent)\n"
     ]
    }
   ],
   "source": [
    "import numpy as np\n",
    "from scipy.stats import chi2_contingency\n",
    "\n",
    "# Example contingency table\n",
    "# Rows: Gender (Male, Female)\n",
    "# Columns: Preference (A, B, C)\n",
    "data = np.array([[30, 10, 20], [35, 15, 25]])\n",
    "\n",
    "# Perform Chi-square test\n",
    "chi2, p, dof, expected = chi2_contingency(data)\n",
    "\n",
    "print(f\"Chi-square statistic: {chi2}\")\n",
    "print(f\"P-value: {p}\")\n",
    "print(f\"Degrees of freedom: {dof}\")\n",
    "print(\"Expected frequencies:\")\n",
    "print(expected)\n",
    "\n",
    "# Interpret the p-value\n",
    "alpha = 0.05\n",
    "if p < alpha:\n",
    "    print(\"Reject the null hypothesis (variables are dependent)\")\n",
    "else:\n",
    "    print(\"Fail to reject the null hypothesis (variables are independent)\")"
   ]
  }
 ],
 "metadata": {
  "kernelspec": {
   "display_name": "Python 3 (ipykernel)",
   "language": "python",
   "name": "python3"
  },
  "language_info": {
   "codemirror_mode": {
    "name": "ipython",
    "version": 3
   },
   "file_extension": ".py",
   "mimetype": "text/x-python",
   "name": "python",
   "nbconvert_exporter": "python",
   "pygments_lexer": "ipython3",
   "version": "3.12.6"
  }
 },
 "nbformat": 4,
 "nbformat_minor": 5
}
