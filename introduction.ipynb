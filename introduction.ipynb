{
 "cells": [
  {
   "cell_type": "markdown",
   "id": "7ffe3155-c90e-4ecf-94b6-015e027e094c",
   "metadata": {},
   "source": [
    "# Introduction Session."
   ]
  },
  {
   "cell_type": "markdown",
   "id": "e83f22fd-357f-4c5f-a518-5437d7f5f283",
   "metadata": {},
   "source": [
    "This is a demo text. This is a `demo` text. This is a **demo** text. This is a demo text. This is a demo text. This is a demo text. This is a demo text. This is a *demo* text. This is a demo text. This is a demo text. This is a demo text. This is a demo text. This is a demo text. This is a demo text. This is a demo text. This is a demo text. This is a demo text. This is a demo text. This is a demo text. This is a demo text. This is a demo text. This is a demo text. "
   ]
  },
  {
   "cell_type": "markdown",
   "id": "4b26a83d-cd28-433c-83db-2b6c1fff237e",
   "metadata": {},
   "source": [
    "### Second Heading"
   ]
  },
  {
   "cell_type": "code",
   "execution_count": 3,
   "id": "21057b6e-3ace-481b-951d-ac075aecc13a",
   "metadata": {},
   "outputs": [
    {
     "name": "stdout",
     "output_type": "stream",
     "text": [
      "Hello World\n"
     ]
    }
   ],
   "source": [
    "print(\"Hello World\")"
   ]
  },
  {
   "cell_type": "code",
   "execution_count": 22,
   "id": "8aa5a544-4ba6-433e-9053-5b5796fd98cb",
   "metadata": {},
   "outputs": [],
   "source": [
    "a = 5\n",
    "b = 4.5\n",
    "c = 'Diwash'"
   ]
  },
  {
   "cell_type": "code",
   "execution_count": 21,
   "id": "ba8af010-5fef-4899-9b9b-9d498ba55600",
   "metadata": {},
   "outputs": [
    {
     "name": "stdout",
     "output_type": "stream",
     "text": [
      "Diwash\n",
      "4.5 Diwash\n",
      "9.5\n"
     ]
    }
   ],
   "source": [
    "print(c)\n",
    "print(b, c)\n",
    "print(a + b)"
   ]
  },
  {
   "cell_type": "code",
   "execution_count": 25,
   "id": "f9979306-c565-429a-80ca-2be1963c61e7",
   "metadata": {},
   "outputs": [
    {
     "data": {
      "text/plain": [
       "200"
      ]
     },
     "execution_count": 25,
     "metadata": {},
     "output_type": "execute_result"
    }
   ],
   "source": [
    "my_variable = 200\n",
    "my_variable"
   ]
  },
  {
   "cell_type": "code",
   "execution_count": 38,
   "id": "e8f0c036-a177-47f8-9fe0-f9fef24b3d3f",
   "metadata": {},
   "outputs": [
    {
     "name": "stdout",
     "output_type": "stream",
     "text": [
      "30\n"
     ]
    },
    {
     "data": {
      "text/plain": [
       "50"
      ]
     },
     "execution_count": 38,
     "metadata": {},
     "output_type": "execute_result"
    }
   ],
   "source": [
    "my_var2 = 30\n",
    "_myvar3 = 50\n",
    "print(my_var2)\n",
    "_myvar3"
   ]
  },
  {
   "cell_type": "code",
   "execution_count": 31,
   "id": "43f1f804-147f-420d-adc3-2bb398810fd5",
   "metadata": {},
   "outputs": [
    {
     "data": {
      "text/plain": [
       "(30, 50)"
      ]
     },
     "execution_count": 31,
     "metadata": {},
     "output_type": "execute_result"
    }
   ],
   "source": [
    "my_var2, _myvar3"
   ]
  },
  {
   "cell_type": "code",
   "execution_count": 33,
   "id": "bfbe1a68-342a-4025-b039-6b3bcb87251e",
   "metadata": {},
   "outputs": [
    {
     "ename": "SyntaxError",
     "evalue": "invalid decimal literal (1862106279.py, line 2)",
     "output_type": "error",
     "traceback": [
      "\u001b[1;36m  Cell \u001b[1;32mIn[33], line 2\u001b[1;36m\u001b[0m\n\u001b[1;33m    9var = 45\u001b[0m\n\u001b[1;37m    ^\u001b[0m\n\u001b[1;31mSyntaxError\u001b[0m\u001b[1;31m:\u001b[0m invalid decimal literal\n"
     ]
    }
   ],
   "source": [
    "# The following code won't work\n",
    "# 9var = 45"
   ]
  },
  {
   "cell_type": "code",
   "execution_count": 43,
   "id": "201b25cd-8ec5-41c1-85e4-a245cabe9242",
   "metadata": {},
   "outputs": [
    {
     "name": "stdout",
     "output_type": "stream",
     "text": [
      "15\n",
      "42.0\n",
      "texttexttexttexttext\n"
     ]
    }
   ],
   "source": [
    "'''\n",
    "This is a multiline comment\n",
    "This is a multiline comment\n",
    "This is a multiline comment\n",
    "'''\n",
    "print( 3 * 5)\n",
    "print( 4 * 10.5)\n",
    "print( 'text' * 5)"
   ]
  },
  {
   "cell_type": "code",
   "execution_count": 44,
   "id": "dd30a9c4-e462-4187-bd0f-7a9ff0c33ce8",
   "metadata": {},
   "outputs": [
    {
     "data": {
      "text/plain": [
       "'C:\\\\Users\\\\diwas\\\\OneDrive\\\\Desktop\\\\python\\\\Class'"
      ]
     },
     "execution_count": 44,
     "metadata": {},
     "output_type": "execute_result"
    }
   ],
   "source": [
    "# %pwd"
   ]
  },
  {
   "cell_type": "code",
   "execution_count": 56,
   "id": "34434844-9c0c-4b04-bfa2-ad6beb86b0e7",
   "metadata": {},
   "outputs": [],
   "source": [
    "country = \"Nepal\"\n",
    "city = \"Kathmandu\"\n",
    "area = 147181\n",
    "language = \"Nepali\"\n",
    "game = 'volleyball'"
   ]
  },
  {
   "cell_type": "code",
   "execution_count": 58,
   "id": "88d7353b-44b1-41d2-a7fb-964f415b587f",
   "metadata": {},
   "outputs": [
    {
     "data": {
      "text/plain": [
       "('Nepal', 'volleyball', 147181)"
      ]
     },
     "execution_count": 58,
     "metadata": {},
     "output_type": "execute_result"
    }
   ],
   "source": [
    "country, game, area"
   ]
  },
  {
   "cell_type": "code",
   "execution_count": 59,
   "id": "001bc414-8b91-42ba-b747-70ad1e85dd47",
   "metadata": {},
   "outputs": [
    {
     "name": "stdout",
     "output_type": "stream",
     "text": [
      "Nepal Kathmandu 147181 Nepali\n"
     ]
    }
   ],
   "source": [
    "print(country, city, area, language)"
   ]
  },
  {
   "cell_type": "code",
   "execution_count": 62,
   "id": "420d4b27-da88-403a-8e03-8e931d8dadad",
   "metadata": {},
   "outputs": [
    {
     "name": "stdout",
     "output_type": "stream",
     "text": [
      "Nepal Kathmandu Nepali\n"
     ]
    }
   ],
   "source": [
    "print(country + ' ' + city + ' ' + language)"
   ]
  },
  {
   "cell_type": "code",
   "execution_count": 68,
   "id": "f8643e26-a43e-43a0-a887-7467cfac6545",
   "metadata": {},
   "outputs": [
    {
     "name": "stdout",
     "output_type": "stream",
     "text": [
      "The area of Nepal is area. country city language\n"
     ]
    }
   ],
   "source": [
    "print('The area of Nepal is area. country city language')"
   ]
  },
  {
   "cell_type": "code",
   "execution_count": 67,
   "id": "bf5fad64-bf6c-4e90-8851-939e5b262ea6",
   "metadata": {},
   "outputs": [
    {
     "name": "stdout",
     "output_type": "stream",
     "text": [
      "The area of Nepal is 147181.\n"
     ]
    }
   ],
   "source": [
    "print(f'The area of {country} is {area}.')"
   ]
  },
  {
   "cell_type": "code",
   "execution_count": 73,
   "id": "993d3baf-33a8-4cf7-989e-f1c0bd2b4e07",
   "metadata": {},
   "outputs": [
    {
     "name": "stdout",
     "output_type": "stream",
     "text": [
      "The area of Nepal is 147181\n",
      "The area of Nepal is 147181\n"
     ]
    }
   ],
   "source": [
    "print('The area of Nepal is', area)\n",
    "print('The area of Nepal is' + ' ' + str(area))"
   ]
  },
  {
   "cell_type": "code",
   "execution_count": 74,
   "id": "79602ce8-e4e2-49ab-b2be-5744013248fe",
   "metadata": {},
   "outputs": [],
   "source": [
    "# create two variables called firstname, lastname with values\n",
    "# create another variable that concatenates the two variables\n",
    "# print the concatenated value"
   ]
  },
  {
   "cell_type": "code",
   "execution_count": 76,
   "id": "038c9df1-c27f-4e92-82e1-6ee653b8937e",
   "metadata": {},
   "outputs": [
    {
     "name": "stdout",
     "output_type": "stream",
     "text": [
      "John Doe\n"
     ]
    }
   ],
   "source": [
    "firstname = \"John\"\n",
    "lastname = \"Doe\"\n",
    "fullname = firstname + \" \" + lastname\n",
    "print(fullname)"
   ]
  },
  {
   "cell_type": "code",
   "execution_count": 13,
   "id": "6cadcf72-31fc-4be6-a218-ffd234023e00",
   "metadata": {},
   "outputs": [
    {
     "name": "stdin",
     "output_type": "stream",
     "text": [
      "Enter the first number:  40\n",
      "Enter the second number:  50\n"
     ]
    },
    {
     "name": "stdout",
     "output_type": "stream",
     "text": [
      "The product of 40.0 and 50.0 is 2000.0\n"
     ]
    }
   ],
   "source": [
    "# Get input from the user\n",
    "num1 = float(input(\"Enter the first number: \"))\n",
    "num2 = float(input(\"Enter the second number: \"))\n",
    "\n",
    "# Calculate the product\n",
    "product = num1 * num2\n",
    "\n",
    "# Display the result\n",
    "print(f\"The product of {num1} and {num2} is {product}\")"
   ]
  },
  {
   "cell_type": "code",
   "execution_count": 11,
   "id": "e5309320-c13c-490f-81aa-33958f0f9136",
   "metadata": {},
   "outputs": [
    {
     "name": "stdout",
     "output_type": "stream",
     "text": [
      "20\n"
     ]
    }
   ],
   "source": [
    "x = 4\n",
    "print(x * 5)"
   ]
  },
  {
   "cell_type": "code",
   "execution_count": 12,
   "id": "6bcdf3d5-b068-4459-99be-0476af07e9e3",
   "metadata": {},
   "outputs": [
    {
     "name": "stdout",
     "output_type": "stream",
     "text": [
      "44444\n"
     ]
    }
   ],
   "source": [
    "print(str(x) * 5)"
   ]
  },
  {
   "cell_type": "code",
   "execution_count": 14,
   "id": "d0dd3891-ecdb-4bae-93c4-661816ff699d",
   "metadata": {},
   "outputs": [
    {
     "name": "stdin",
     "output_type": "stream",
     "text": [
      "Enter a number:  5\n"
     ]
    },
    {
     "name": "stdout",
     "output_type": "stream",
     "text": [
      "5 is Odd\n"
     ]
    }
   ],
   "source": [
    "# Taking user input\n",
    "num = int(input(\"Enter a number: \"))\n",
    "\n",
    "# Check if the number is odd or even\n",
    "if (num % 2) == 0:\n",
    "    print(f\"{num} is Even\")\n",
    "else:\n",
    "    print(f\"{num} is Odd\")"
   ]
  },
  {
   "cell_type": "code",
   "execution_count": 16,
   "id": "9989af94-3e65-4aa1-a246-4f5eacd3bdf3",
   "metadata": {},
   "outputs": [
    {
     "data": {
      "text/plain": [
       "1"
      ]
     },
     "execution_count": 16,
     "metadata": {},
     "output_type": "execute_result"
    }
   ],
   "source": [
    "5 / 2\n",
    "5 % 2"
   ]
  },
  {
   "cell_type": "code",
   "execution_count": 20,
   "id": "88858d10-92c4-4d87-8dbd-8bd169aad2cc",
   "metadata": {},
   "outputs": [
    {
     "name": "stdout",
     "output_type": "stream",
     "text": [
      "First character: orld\n"
     ]
    }
   ],
   "source": [
    "# Access individual characters in a string\n",
    "message = \"Hello, world!\"\n",
    "print(f\"First character: {message[-5:-1]}\")"
   ]
  },
  {
   "cell_type": "code",
   "execution_count": 21,
   "id": "997673a8-9e55-4052-b73a-b301b1687f06",
   "metadata": {},
   "outputs": [
    {
     "name": "stdout",
     "output_type": "stream",
     "text": [
      "[1, 2, 2.4, 3, 10, 30]\n",
      "['code', 'hello', 'rice', 'zion']\n"
     ]
    }
   ],
   "source": [
    "my_list = [1, 2, 10, 30, 3, 2.4]\n",
    "my_list2 = ['code', 'rice', 'zion', 'hello']\n",
    "\n",
    "my_list.sort()\n",
    "my_list2.sort()\n",
    "\n",
    "print(my_list) # prints [1, 2, 2.4, 3, 10, 30]\n",
    "print(my_list2) # prints ['code', 'hello', 'rice', 'zion']\n"
   ]
  },
  {
   "cell_type": "markdown",
   "id": "116087e6-2533-4204-8cea-a895b97c9cef",
   "metadata": {},
   "source": [
    "<img src='./images/python operator precedence.png'>"
   ]
  },
  {
   "cell_type": "code",
   "execution_count": 5,
   "id": "6f01403f-c6ff-4e7d-9f8e-356f608286ce",
   "metadata": {},
   "outputs": [],
   "source": [
    "# Case Sensitivity in Python\n",
    "myvar = 45\n",
    "Myvar = 'Hello World!'\n",
    "MYVAR = 180"
   ]
  },
  {
   "cell_type": "code",
   "execution_count": 3,
   "id": "da9cb44e-31b0-461f-9d0d-0a3df48314b3",
   "metadata": {},
   "outputs": [
    {
     "name": "stdout",
     "output_type": "stream",
     "text": [
      "45 Hello World! 180\n"
     ]
    }
   ],
   "source": [
    "print(myvar, Myvar, MYVAR)"
   ]
  },
  {
   "cell_type": "code",
   "execution_count": 18,
   "id": "9d4d12bf-43d3-4d8f-b3b4-56d427f5611f",
   "metadata": {},
   "outputs": [
    {
     "data": {
      "text/plain": [
       "32"
      ]
     },
     "execution_count": 18,
     "metadata": {},
     "output_type": "execute_result"
    }
   ],
   "source": [
    "2 ** 5"
   ]
  },
  {
   "cell_type": "code",
   "execution_count": 20,
   "id": "275cef41-b08c-4895-8081-d8f3e1215bc4",
   "metadata": {},
   "outputs": [
    {
     "data": {
      "text/plain": [
       "-5"
      ]
     },
     "execution_count": 20,
     "metadata": {},
     "output_type": "execute_result"
    }
   ],
   "source": [
    "x = 5\n",
    "-x"
   ]
  },
  {
   "cell_type": "code",
   "execution_count": 21,
   "id": "6fd831c6-be4c-42ff-932d-49d16a02771e",
   "metadata": {},
   "outputs": [],
   "source": [
    "var1 = 'Diwash Sapkota'"
   ]
  },
  {
   "cell_type": "code",
   "execution_count": 27,
   "id": "9d7044bf-2488-4b5b-9c69-5d4357a882cc",
   "metadata": {},
   "outputs": [
    {
     "data": {
      "text/plain": [
       "'a'"
      ]
     },
     "execution_count": 27,
     "metadata": {},
     "output_type": "execute_result"
    }
   ],
   "source": [
    "var1[1:4]\n",
    "var1[-1]"
   ]
  },
  {
   "cell_type": "code",
   "execution_count": 31,
   "id": "e48ffc96-4baa-4e8a-bc66-46061890ef2a",
   "metadata": {},
   "outputs": [
    {
     "data": {
      "text/plain": [
       "'Diwash Sapkota'"
      ]
     },
     "execution_count": 31,
     "metadata": {},
     "output_type": "execute_result"
    }
   ],
   "source": [
    "var1.upper()\n",
    "var1.title()"
   ]
  },
  {
   "cell_type": "code",
   "execution_count": 32,
   "id": "6cced6fe-854c-4680-b9fe-1ce47a06b5f2",
   "metadata": {},
   "outputs": [
    {
     "data": {
      "text/plain": [
       "'diwash sapkota'"
      ]
     },
     "execution_count": 32,
     "metadata": {},
     "output_type": "execute_result"
    }
   ],
   "source": [
    "var1.lower()"
   ]
  },
  {
   "cell_type": "code",
   "execution_count": 55,
   "id": "428bd368-f28b-4b54-a4d3-81bcfbd837f5",
   "metadata": {},
   "outputs": [
    {
     "data": {
      "text/plain": [
       "'Diwash Sapkota'"
      ]
     },
     "execution_count": 55,
     "metadata": {},
     "output_type": "execute_result"
    }
   ],
   "source": [
    "var4 = 'diwash sapkota'\n",
    "var4.capitalize()\n",
    "var4.title()"
   ]
  },
  {
   "cell_type": "code",
   "execution_count": 41,
   "id": "89de12b8-a7aa-4c3e-98ae-57be5aaa8d87",
   "metadata": {},
   "outputs": [],
   "source": [
    "var2 = 'Today is Tuesday'"
   ]
  },
  {
   "cell_type": "code",
   "execution_count": 35,
   "id": "a120c057-7b15-4849-8a89-08add40ddf2a",
   "metadata": {},
   "outputs": [
    {
     "data": {
      "text/plain": [
       "'Today is Wednesday   '"
      ]
     },
     "execution_count": 35,
     "metadata": {},
     "output_type": "execute_result"
    }
   ],
   "source": [
    "var2.lstrip()"
   ]
  },
  {
   "cell_type": "code",
   "execution_count": 39,
   "id": "6207d768-2bc3-4984-ad83-c0b0a2633990",
   "metadata": {},
   "outputs": [
    {
     "data": {
      "text/plain": [
       "'Today  is Wednesday'"
      ]
     },
     "execution_count": 39,
     "metadata": {},
     "output_type": "execute_result"
    }
   ],
   "source": [
    "var2.strip()"
   ]
  },
  {
   "cell_type": "code",
   "execution_count": 42,
   "id": "56fd69e8-9509-4d34-94e8-c137334efecd",
   "metadata": {},
   "outputs": [],
   "source": [
    "var3 = 'Today is Tuesday'"
   ]
  },
  {
   "cell_type": "code",
   "execution_count": 50,
   "id": "943c6a42-292c-4bae-8e90-4eb5db509a44",
   "metadata": {},
   "outputs": [
    {
     "data": {
      "text/plain": [
       "'Today is Wednesday'"
      ]
     },
     "execution_count": 50,
     "metadata": {},
     "output_type": "execute_result"
    }
   ],
   "source": [
    "var3.replace('Tuesday', 'Wednesday')"
   ]
  },
  {
   "cell_type": "code",
   "execution_count": 52,
   "id": "c1d4e902-151a-41a2-8f98-9294b8474dc7",
   "metadata": {},
   "outputs": [
    {
     "data": {
      "text/plain": [
       "18"
      ]
     },
     "execution_count": 52,
     "metadata": {},
     "output_type": "execute_result"
    }
   ],
   "source": [
    "len(var3)"
   ]
  },
  {
   "cell_type": "code",
   "execution_count": 18,
   "id": "71de183d-e47d-49a6-a584-9beb2bcb741b",
   "metadata": {},
   "outputs": [],
   "source": [
    "x = (4 - 20)"
   ]
  },
  {
   "cell_type": "code",
   "execution_count": 19,
   "id": "28c30327-a391-4711-b15e-18d65ef03b01",
   "metadata": {},
   "outputs": [
    {
     "data": {
      "text/plain": [
       "-16"
      ]
     },
     "execution_count": 19,
     "metadata": {},
     "output_type": "execute_result"
    }
   ],
   "source": [
    "x"
   ]
  },
  {
   "cell_type": "code",
   "execution_count": 20,
   "id": "1dad61d0-e0a4-4ac2-a1c2-a43f6243c833",
   "metadata": {},
   "outputs": [
    {
     "data": {
      "text/plain": [
       "16"
      ]
     },
     "execution_count": 20,
     "metadata": {},
     "output_type": "execute_result"
    }
   ],
   "source": [
    "abs(x)"
   ]
  },
  {
   "cell_type": "code",
   "execution_count": 21,
   "id": "3019fcd2-aacb-463c-9333-581816fae4f1",
   "metadata": {},
   "outputs": [
    {
     "name": "stdout",
     "output_type": "stream",
     "text": [
      "Nepal\n",
      "India\n",
      "China\n"
     ]
    }
   ],
   "source": [
    "list1 = ['Nepal', 'India', 'Bhutan', 'Bangladesh', 'Afghanistan', 'China']\n",
    "\n",
    "for country in list1:\n",
    "    if len(country) <= 5:\n",
    "        print(country)"
   ]
  },
  {
   "cell_type": "code",
   "execution_count": 23,
   "id": "ff2ed378-c751-442b-ab40-7c7cc91225f1",
   "metadata": {},
   "outputs": [
    {
     "name": "stdout",
     "output_type": "stream",
     "text": [
      "75\n"
     ]
    }
   ],
   "source": [
    "# i = 5\n",
    "\n",
    "# for j in range(1, 11):\n",
    "#     print(i * j)\n",
    "\n",
    "\n",
    "list4 = [5, 10, 15, 20, 25]\n",
    "total = 0\n",
    "\n",
    "for item in list4:\n",
    "    total = total + item\n",
    "print(total)"
   ]
  },
  {
   "cell_type": "code",
   "execution_count": 19,
   "id": "3e239e6e-1806-45e9-b202-2f98f3202aa2",
   "metadata": {},
   "outputs": [
    {
     "data": {
      "text/plain": [
       "'i iah'"
      ]
     },
     "execution_count": 19,
     "metadata": {},
     "output_type": "execute_result"
    }
   ],
   "source": [
    "mystring = 'Hi, Diwash Sapkota here!'\n",
    "mystring[1:10:2]"
   ]
  },
  {
   "cell_type": "code",
   "execution_count": 29,
   "id": "5294e8db-fea7-45dd-95a0-c7dce5fdfc7e",
   "metadata": {},
   "outputs": [
    {
     "name": "stdout",
     "output_type": "stream",
     "text": [
      "\n",
      "Multi-Dimensional List: \n",
      "[['Geeks', 'For'], ['Geeks']]\n"
     ]
    }
   ],
   "source": [
    "List = [['Geeks', 'For'], ['Geeks']]\n",
    "print(\"\\nMulti-Dimensional List: \")\n",
    "# List[0].insert(0, \"all\")\n",
    "print(List)"
   ]
  },
  {
   "cell_type": "code",
   "execution_count": 23,
   "id": "8111707b-0570-4e4b-8c26-2a8f86798c57",
   "metadata": {},
   "outputs": [
    {
     "data": {
      "text/plain": [
       "'For'"
      ]
     },
     "execution_count": 23,
     "metadata": {},
     "output_type": "execute_result"
    }
   ],
   "source": [
    "List[0][1]"
   ]
  },
  {
   "cell_type": "code",
   "execution_count": 24,
   "id": "5ce8e42a-6c72-4f14-8357-4a4127be55fd",
   "metadata": {},
   "outputs": [],
   "source": [
    "List[0].append('all')"
   ]
  },
  {
   "cell_type": "code",
   "execution_count": 17,
   "id": "75fe4b63-61bb-4961-82ea-85f0c2f25abc",
   "metadata": {},
   "outputs": [
    {
     "ename": "NameError",
     "evalue": "name 'List' is not defined",
     "output_type": "error",
     "traceback": [
      "\u001b[1;31m---------------------------------------------------------------------------\u001b[0m",
      "\u001b[1;31mNameError\u001b[0m                                 Traceback (most recent call last)",
      "Cell \u001b[1;32mIn[17], line 1\u001b[0m\n\u001b[1;32m----> 1\u001b[0m \u001b[43mList\u001b[49m\n",
      "\u001b[1;31mNameError\u001b[0m: name 'List' is not defined"
     ]
    }
   ],
   "source": [
    "List"
   ]
  },
  {
   "cell_type": "code",
   "execution_count": null,
   "id": "f33202c4-fd71-4edc-a527-5b21b528ef7d",
   "metadata": {},
   "outputs": [],
   "source": []
  },
  {
   "cell_type": "markdown",
   "id": "34af8955-1789-447b-befa-bc3ec80a0442",
   "metadata": {},
   "source": [
    "## Class 3 Assignments"
   ]
  },
  {
   "cell_type": "code",
   "execution_count": 6,
   "id": "df9036b9-1c87-47d6-b6ab-406cf0297e03",
   "metadata": {},
   "outputs": [
    {
     "name": "stdout",
     "output_type": "stream",
     "text": [
      "P 1\n",
      "r 2\n",
      "1 1\n",
      "X 3\n",
      "@ 1\n",
      "% 2\n",
      "@ 3\n",
      "2 2\n",
      "4 3\n",
      "A 4\n",
      "c 5\n",
      "& 4\n",
      "d 6\n",
      "3 4\n",
      "m 7\n",
      "Y 8\n",
      "Letters = 8\n",
      "Digits = 4\n",
      "Special symbols = 4\n"
     ]
    }
   ],
   "source": [
    "# 1. Count all letters, digits, and special symbols from a given string (eg: Pr1X@%@24Ac&d3mY)\n",
    "input_string = 'Pr1X@%@24Ac&d3mY'\n",
    "\n",
    "# Initialize counters\n",
    "letters = digits = symbols = 0\n",
    "\n",
    "# Iterate through each character in the string\n",
    "for char in input_string:\n",
    "    if char.isalpha():\n",
    "        letters = (letters + 1)\n",
    "        print(char, letters)\n",
    "    elif char.isdigit():\n",
    "        digits = (digits + 1)\n",
    "        print(char, digits)\n",
    "    else:\n",
    "        symbols = (symbols + 1)\n",
    "        print(char, symbols)\n",
    "\n",
    "# Print the results\n",
    "print(\"Letters =\", letters)\n",
    "print(\"Digits =\", digits)\n",
    "print(\"Special symbols =\", symbols)"
   ]
  },
  {
   "cell_type": "code",
   "execution_count": 2,
   "id": "656e5d02-0011-4d0d-ac37-49aae8dfb0ac",
   "metadata": {},
   "outputs": [
    {
     "data": {
      "text/plain": [
       "'D'"
      ]
     },
     "execution_count": 2,
     "metadata": {},
     "output_type": "execute_result"
    }
   ],
   "source": [
    "x = 'Diwash'\n",
    "x[0]"
   ]
  },
  {
   "cell_type": "code",
   "execution_count": 11,
   "id": "346e2b67-b0c1-4327-84c1-4ffe5420e3ce",
   "metadata": {},
   "outputs": [
    {
     "name": "stdout",
     "output_type": "stream",
     "text": [
      "this is a sample sentence. is it working? yes, it is !\n",
      "['this', 'is', 'a', 'sample', 'sentence.', 'is', 'it', 'working?', 'yes,', 'it', 'is', '!']\n",
      "Occurrences of 'is': 3\n"
     ]
    }
   ],
   "source": [
    "# 2. Write a program to find all occurrences of the word “is” in a given string ignoring the case. \n",
    "\n",
    "input_text = \"This is a sample sentence. IS it working? Yes, it is !\"\n",
    "\n",
    "# Convert the entire text to lowercase for case-insensitive comparison\n",
    "text_lower = input_text.lower()\n",
    "print(text_lower)\n",
    "\n",
    "# Split the text into words\n",
    "words = text_lower.split()\n",
    "print(words)\n",
    "\n",
    "# Initialize a counter for occurrences of \"is\"\n",
    "is_count = 0\n",
    "find_word = 'is'\n",
    "\n",
    "# Check each word\n",
    "for word in words:\n",
    "    if word == find_word:\n",
    "        is_count += 1\n",
    "\n",
    "print(f\"Occurrences of 'is': {is_count}\")"
   ]
  },
  {
   "cell_type": "code",
   "execution_count": 12,
   "id": "3c41ceab-717b-40af-b512-18b5dc3488e3",
   "metadata": {},
   "outputs": [
    {
     "name": "stdout",
     "output_type": "stream",
     "text": [
      "[1, 4, 9, 16, 25]\n"
     ]
    }
   ],
   "source": [
    "# 3. Given a list of numbers. write a program to turn every item of a list into its square.\n",
    "my_list = [1, 2, 3, 4, 5]\n",
    "squared_list = []\n",
    "\n",
    "for number in my_list:\n",
    "    squared_list.append(number ** 2)\n",
    "print(squared_list)"
   ]
  },
  {
   "cell_type": "code",
   "execution_count": 15,
   "id": "d657ed75-3920-462e-9c09-6f9ef7c06fa8",
   "metadata": {},
   "outputs": [
    {
     "name": "stdout",
     "output_type": "stream",
     "text": [
      "3 20\n",
      "[5, 10, 15, 200, 25, 50, 20]\n"
     ]
    }
   ],
   "source": [
    "'''\n",
    "4. You have given a Python list. Write a program to find value 20 in the list, \n",
    "and if it is present, replace it with 200. Only update the first occurrence of an item.\n",
    "'''\n",
    "my_list = [5, 10, 15, 20, 25, 50, 20]\n",
    "\n",
    "# Find the index of the first occurrence of 20\n",
    "if 20 in my_list:\n",
    "    i = my_list.index(20)\n",
    "    print(i, my_list[i])\n",
    "    my_list[i] = 200\n",
    "\n",
    "print(my_list)\n"
   ]
  },
  {
   "cell_type": "markdown",
   "id": "0ecaf3ca-9291-4752-8261-9a92c0b84201",
   "metadata": {},
   "source": [
    "## Class 4"
   ]
  },
  {
   "cell_type": "code",
   "execution_count": 6,
   "id": "10d0e512-cdbf-4c81-b23e-00baa7ca8672",
   "metadata": {},
   "outputs": [
    {
     "name": "stdin",
     "output_type": "stream",
     "text": [
      "Enter a positive integer:  7\n"
     ]
    },
    {
     "name": "stdout",
     "output_type": "stream",
     "text": [
      "7 is a prime number.\n"
     ]
    }
   ],
   "source": [
    "# Check if the number entered by the user is prime or not\n",
    "\n",
    "def is_prime(number):\n",
    "    \"\"\"\n",
    "    Checks if a given number is prime.\n",
    "    \"\"\"\n",
    "    if number <= 1:\n",
    "        return False  # Numbers less than or equal to 1 are not prime\n",
    "\n",
    "    # Check for divisors from 2 to the square root of the number\n",
    "    for divisor in range(2, int(number**0.5) + 1):\n",
    "        if number % divisor == 0:\n",
    "            return False  # Found a divisor, so it's not prime\n",
    "\n",
    "    return True  # No divisors found, it's prime\n",
    "\n",
    "# Example usage:\n",
    "user_input = int(input(\"Enter a positive integer: \"))\n",
    "if is_prime(user_input):\n",
    "    print(f\"{user_input} is a prime number.\")\n",
    "else:\n",
    "    print(f\"{user_input} is not a prime number.\")"
   ]
  },
  {
   "cell_type": "code",
   "execution_count": 12,
   "id": "58dcb7de-9d86-47aa-a02f-3fe8223c54b3",
   "metadata": {},
   "outputs": [
    {
     "name": "stdin",
     "output_type": "stream",
     "text": [
      "Enter a string:  No lemon no melon\n"
     ]
    },
    {
     "name": "stdout",
     "output_type": "stream",
     "text": [
      "True\n",
      "'No lemon no melon' is a palindrome.\n"
     ]
    }
   ],
   "source": [
    "# Check whether the input string is palindrome or not\n",
    "def is_palindrome(s):\n",
    "    \"\"\"\n",
    "    Checks if a given string is a palindrome.\n",
    "    \"\"\"\n",
    "    # Remove spaces and convert to lowercase\n",
    "    s = s.replace(\" \", \"\").lower()\n",
    "    a = (s == s[::-1])\n",
    "    print(a)\n",
    "    # Compare the original string with its reverse\n",
    "    return a\n",
    "\n",
    "# Example usage:\n",
    "user_input = input(\"Enter a string: \")\n",
    "if is_palindrome(user_input):\n",
    "    print(f\"'{user_input}' is a palindrome.\")\n",
    "else:\n",
    "    print(f\"'{user_input}' is not a palindrome.\")\n",
    "\n",
    "# Eg: No lemon, no melon"
   ]
  },
  {
   "cell_type": "code",
   "execution_count": 10,
   "id": "f74cacf1-5903-4115-b1cf-3dcc194e8c65",
   "metadata": {},
   "outputs": [
    {
     "data": {
      "text/plain": [
       "'hsawiD'"
      ]
     },
     "execution_count": 10,
     "metadata": {},
     "output_type": "execute_result"
    }
   ],
   "source": [
    "a = 'Diwash'\n",
    "a[::-1]"
   ]
  },
  {
   "cell_type": "code",
   "execution_count": 14,
   "id": "294ec898-b987-4dc0-ae0b-8e1a75445e09",
   "metadata": {},
   "outputs": [
    {
     "name": "stdout",
     "output_type": "stream",
     "text": [
      "20\n",
      "\n",
      "40\n",
      "\n",
      "60\n",
      "\n",
      "80\n",
      "\n",
      "100\n",
      "\n"
     ]
    }
   ],
   "source": [
    "# Use a loop to display elements from a given list present at odd index positions \n",
    "my_list = [10, 20, 30, 40, 50, 60, 70, 80, 90, 100]\n",
    "# stat from index 1 with step 2( means 1, 3, 5, an so on)\n",
    "for i in my_list[1::2]:\n",
    "    print(i)\n",
    "    print()"
   ]
  },
  {
   "cell_type": "code",
   "execution_count": 2,
   "id": "38c6c04e-8fd8-4484-942a-6143c90864e2",
   "metadata": {},
   "outputs": [
    {
     "data": {
      "text/plain": [
       "array([1, 3, 5, 7, 9])"
      ]
     },
     "execution_count": 2,
     "metadata": {},
     "output_type": "execute_result"
    }
   ],
   "source": [
    "# Extract all odd numbers from arr\n",
    "# Input\n",
    "arr = np.array([0, 1, 2, 3, 4, 5, 6, 7, 8, 9])\n",
    "\n",
    "# Solution\n",
    "arr[arr % 2 == 1]\n",
    "#> array([1, 3, 5, 7, 9])"
   ]
  },
  {
   "cell_type": "code",
   "execution_count": 4,
   "id": "67cde37d-8797-41ce-a211-b3c9c3737d24",
   "metadata": {},
   "outputs": [
    {
     "data": {
      "text/plain": [
       "array([ 0, -1,  2, -1,  4, -1,  6, -1,  8, -1])"
      ]
     },
     "execution_count": 4,
     "metadata": {},
     "output_type": "execute_result"
    }
   ],
   "source": [
    "# Replace all odd numbers in arr with -1\n",
    "arr[arr % 2 == 1] = -1\n",
    "arr"
   ]
  },
  {
   "cell_type": "code",
   "execution_count": 19,
   "id": "98a6032b-7ab1-4ff4-9907-60e42d3e4d66",
   "metadata": {},
   "outputs": [
    {
     "name": "stdout",
     "output_type": "stream",
     "text": [
      "Before deleting age key {'name': 'Kelly', 'age': 25, 'salary': 8000, 'city': 'New york'}\n",
      "{'age': 25, 'city': 'New york'}\n"
     ]
    }
   ],
   "source": [
    "#Remove some items from dictionary\n",
    "sample_dict = {\n",
    "    \"name\": \"Kelly\",\n",
    "    \"age\": 25,\n",
    "    \"salary\": 8000,\n",
    "    \"city\": \"New york\"\n",
    "}\n",
    "print('Before deleting age key', sample_dict)\n",
    "\n",
    "# del sample_dict['age']\n",
    "# print('After deleting age key', sample_dict)\n",
    "# sample_dict.pop('city')\n",
    "# Keys to remove\n",
    "keys = [\"name\", \"salary\"]\n",
    "\n",
    "for k in keys:\n",
    "    sample_dict.pop(k)\n",
    "\n",
    "print(sample_dict)"
   ]
  },
  {
   "cell_type": "code",
   "execution_count": 4,
   "id": "aa73381d-affa-47e3-9e77-aa7a638af1d8",
   "metadata": {},
   "outputs": [
    {
     "data": {
      "text/plain": [
       "{'sid1': {'name': 'Raju', 'class': 9, 'address': 'Kathmandu'},\n",
       " 'sid2': {'name': 'Ramesh', 'class': 10, 'address': 'Biratnagar'},\n",
       " 'sid3': {'name': 'Rakesh', 'class': 7, 'address': 'Dharan'}}"
      ]
     },
     "execution_count": 4,
     "metadata": {},
     "output_type": "execute_result"
    }
   ],
   "source": [
    "students = {\n",
    "    'sid1' : {\n",
    "        'name' : 'John',\n",
    "        'class' : 9,\n",
    "        'address' : 'Kathmandu'\n",
    "    },\n",
    "    \n",
    "    'sid2' : {\n",
    "        'name' : 'Ramesh',\n",
    "        'class' : 10,\n",
    "        'address' : 'Biratnagar'\n",
    "    }\n",
    "}\n",
    "\n",
    "# students\n",
    "students['sid1']\n",
    "students['sid1']['name'] = 'Raju'\n",
    "students['sid3'] = {'name' : 'Rakesh', 'class' : 7, 'address' : 'Dharan'}\n",
    "students"
   ]
  },
  {
   "cell_type": "code",
   "execution_count": 15,
   "id": "68284cbe-28b8-42bc-b55d-550a0a514e3e",
   "metadata": {},
   "outputs": [],
   "source": [
    "food_data = {\n",
    "    'fruits': \n",
    "    {\n",
    "        'apple': {\n",
    "            'color': 'red',\n",
    "            'taste': 'sweet',\n",
    "            'vitamins': ['A', 'C'],\n",
    "        },\n",
    "        'banana': {\n",
    "            'color': 'yellow',\n",
    "            'taste': 'sweet',\n",
    "            'vitamins': ['B6', 'C'],\n",
    "        },\n",
    "    },\n",
    "    'vegetables': {\n",
    "        'carrot': {\n",
    "            'color': 'orange',\n",
    "            'taste': 'crunchy',\n",
    "            'vitamins': ['A', 'K'],\n",
    "        },\n",
    "        'spinach': {\n",
    "            'color': 'black',\n",
    "            'taste': 'nutty',\n",
    "            'vitamins': ['A', 'C', 'K'],\n",
    "        },\n",
    "    }\n",
    "}"
   ]
  },
  {
   "cell_type": "code",
   "execution_count": 16,
   "id": "7b189348-21bb-4b71-9bd1-2de1b29a8167",
   "metadata": {},
   "outputs": [
    {
     "data": {
      "text/plain": [
       "{'fruits': {'apple': {'color': 'red',\n",
       "   'taste': 'sweet',\n",
       "   'vitamins': ['A', 'C']},\n",
       "  'banana': {'color': 'yellow', 'taste': 'sweet', 'vitamins': ['B6', 'C']}},\n",
       " 'vegetables': {'carrot': {'color': 'orange',\n",
       "   'taste': 'crunchy',\n",
       "   'vitamins': ['A', 'K']},\n",
       "  'spinach': {'color': 'black',\n",
       "   'taste': 'nutty',\n",
       "   'vitamins': ['A', 'C', 'K']}}}"
      ]
     },
     "execution_count": 16,
     "metadata": {},
     "output_type": "execute_result"
    }
   ],
   "source": [
    "food_data"
   ]
  },
  {
   "cell_type": "code",
   "execution_count": 64,
   "id": "7340859b-07fe-4043-a6a1-065251a7d3f3",
   "metadata": {},
   "outputs": [],
   "source": [
    "food_data['vegetables']['spinach']['color'] = 'green'"
   ]
  },
  {
   "cell_type": "code",
   "execution_count": 65,
   "id": "0085d387-59a5-4b21-b5fb-f5b0c581f25a",
   "metadata": {},
   "outputs": [
    {
     "data": {
      "text/plain": [
       "'green'"
      ]
     },
     "execution_count": 65,
     "metadata": {},
     "output_type": "execute_result"
    }
   ],
   "source": [
    "food_data['vegetables']['spinach']['color']"
   ]
  },
  {
   "cell_type": "code",
   "execution_count": 12,
   "id": "eba3fbf1-d6ff-4c78-b99e-52576147c410",
   "metadata": {},
   "outputs": [
    {
     "name": "stdout",
     "output_type": "stream",
     "text": [
      "name\n",
      "age\n",
      "salary\n",
      "city\n",
      "\n",
      "Kelly\n",
      "25\n",
      "8000\n",
      "New york\n",
      "\n",
      "name Kelly\n",
      "age 25\n",
      "salary 8000\n",
      "city New york\n"
     ]
    }
   ],
   "source": [
    "sample_dict = {\n",
    "    \"name\": \"Kelly\",\n",
    "    \"age\": 25,\n",
    "    \"salary\": 8000,\n",
    "    \"city\": \"New york\"\n",
    "}\n",
    "\n",
    "# keys and values\n",
    "\n",
    "for details in sample_dict.keys():\n",
    "    print(details)\n",
    "print()\n",
    "\n",
    "for val in sample_dict.values():\n",
    "    print(val)\n",
    "\n",
    "print()\n",
    "for i, j in sample_dict.items():\n",
    "    print(i, j)"
   ]
  },
  {
   "cell_type": "raw",
   "id": "d71349a6-6cc0-4b82-aab6-e4cd876a6e69",
   "metadata": {},
   "source": []
  }
 ],
 "metadata": {
  "kernelspec": {
   "display_name": "Python 3 (ipykernel)",
   "language": "python",
   "name": "python3"
  },
  "language_info": {
   "codemirror_mode": {
    "name": "ipython",
    "version": 3
   },
   "file_extension": ".py",
   "mimetype": "text/x-python",
   "name": "python",
   "nbconvert_exporter": "python",
   "pygments_lexer": "ipython3",
   "version": "3.12.3"
  }
 },
 "nbformat": 4,
 "nbformat_minor": 5
}
