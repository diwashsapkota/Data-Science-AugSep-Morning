{
 "cells": [
  {
   "cell_type": "markdown",
   "id": "4be49134-bd7a-4196-a136-e7c4ee034f29",
   "metadata": {},
   "source": [
    "## Common string methods in python"
   ]
  },
  {
   "cell_type": "code",
   "execution_count": 1,
   "id": "3d474df2-ac6b-43c7-9725-4017e2a12d61",
   "metadata": {},
   "outputs": [
    {
     "name": "stdout",
     "output_type": "stream",
     "text": [
      "<class 'str'>\n",
      "After applying upper() method: \n",
      " THIS IS  SOME RANDOM TEXT  \n",
      "\n",
      "After applying lower() method: \n",
      " this is  some random text  \n",
      "\n",
      "After applying title() method: \n",
      " This Is  Some Random Text  \n",
      "\n",
      "After applying capitalize() method: \n",
      " this is  some random text  \n"
     ]
    }
   ],
   "source": [
    "mytext = ' tHis is  Some random Text  '\n",
    "print(type(mytext))\n",
    "\n",
    "print(\"After applying upper() method: \")\n",
    "print(mytext.upper()) #method #check function vs methods\n",
    "\n",
    "print(\"\\nAfter applying lower() method: \")\n",
    "print(mytext.lower())\n",
    "\n",
    "\n",
    "print(\"\\nAfter applying title() method: \")\n",
    "print(mytext.title())\n",
    "\n",
    "print(\"\\nAfter applying capitalize() method: \")\n",
    "print(mytext.capitalize())"
   ]
  },
  {
   "cell_type": "code",
   "execution_count": 3,
   "id": "19a3cb44-dfac-495e-80db-ece22a891183",
   "metadata": {},
   "outputs": [
    {
     "name": "stdout",
     "output_type": "stream",
     "text": [
      "The count of letters 'is' in the given string  1\n"
     ]
    }
   ],
   "source": [
    "print(f'The count of letters \\'is\\' in the given string  {mytext.count(' is ')}')"
   ]
  },
  {
   "cell_type": "code",
   "execution_count": 8,
   "id": "d9287006-96a7-4d6d-95cb-7efa50428e56",
   "metadata": {},
   "outputs": [
    {
     "name": "stdout",
     "output_type": "stream",
     "text": [
      "t\n",
      "5\n"
     ]
    }
   ],
   "source": [
    "print(mytext[1])\n",
    "\n",
    "print(mytext.find(' is')) # returns -1 if not found"
   ]
  },
  {
   "cell_type": "code",
   "execution_count": 9,
   "id": "8146d327-6d6b-4b27-b9e0-e4953e8e29eb",
   "metadata": {},
   "outputs": [
    {
     "name": "stdout",
     "output_type": "stream",
     "text": [
      "tHis is  Some random Text\n",
      " tHis is  Some random Text  \n",
      "tHis is Some random Text\n"
     ]
    }
   ],
   "source": [
    "print(mytext.strip())\n",
    "print(mytext)\n",
    "print(mytext.strip().replace(\"  \", \" \"))"
   ]
  },
  {
   "cell_type": "code",
   "execution_count": 17,
   "id": "abb44b27-6434-4cdc-a521-88f0422b87c1",
   "metadata": {},
   "outputs": [
    {
     "name": "stdout",
     "output_type": "stream",
     "text": [
      "johndoe123@gmail.com\n",
      "johndoe123@gamil.com\n",
      "johndoe123@gmail.com\n"
     ]
    }
   ],
   "source": [
    "email = \"johndoe123@gamil.com\"\n",
    "email1 = email.replace(\"gamil\", \"gmail\")\n",
    "print(email.replace(\"gamil\", \"gmail\"))\n",
    "print(email)\n",
    "print(email1)"
   ]
  },
  {
   "cell_type": "code",
   "execution_count": 25,
   "id": "32cabfc6-a4d1-45ea-8609-8f93397fbd2a",
   "metadata": {},
   "outputs": [
    {
     "name": "stdout",
     "output_type": "stream",
     "text": [
      "Good Morning Every one!\n"
     ]
    }
   ],
   "source": [
    "greeting = \"Hello Every one!\"\n",
    "greeting1 = greeting.replace(\"Hello\", \"Good Morning\")\n",
    "print(greeting1)"
   ]
  },
  {
   "cell_type": "code",
   "execution_count": 27,
   "id": "75b46d11-107e-4020-b63f-d40656376347",
   "metadata": {},
   "outputs": [
    {
     "name": "stdout",
     "output_type": "stream",
     "text": [
      " the China has the largest army in the entire world the \n",
      "China has the largest army in the entire world\n",
      "China has the largest army in the entire world\n",
      "the China has the largest army in the entire world the\n",
      "China haslargest army inentire world\n"
     ]
    }
   ],
   "source": [
    "string1 = \" the China has the largest army in the entire world the \" \n",
    "print(string1)\n",
    "print(string1.strip(\" the \")) #removes unnecessary characters/spaces from leading and trailing positions\n",
    "print(string1.strip(\" the\")) #removes unnecessary characters/spaces from leading and trailing positions\n",
    "print(string1.strip()) #removes unnecessary spaces from leading and trailing positions\n",
    "print(string1.replace(\" the \", \"\"))"
   ]
  },
  {
   "cell_type": "code",
   "execution_count": 36,
   "id": "a57c5f00-a978-42ba-8c37-a33298f6a872",
   "metadata": {},
   "outputs": [
    {
     "name": "stdout",
     "output_type": "stream",
     "text": [
      "  My   name is   Diwash        Sapkota   \n",
      " My name is Diwash Sapkota .\n",
      "My name is Diwash Sapkota.\n"
     ]
    }
   ],
   "source": [
    "# a*, a+\n",
    "# regular expression\n",
    "import re\n",
    "mytext1 = '  My   name is   Diwash        Sapkota   '\n",
    "print(mytext1)\n",
    "mytext2 = mytext1.strip()\n",
    "print(re.sub(' +', ' ', mytext1) + \".\")\n",
    "print(re.sub(' +', ' ', mytext2) + \".\")"
   ]
  },
  {
   "cell_type": "code",
   "execution_count": 39,
   "id": "54db8266-b970-4ecb-a712-3970b4f495fa",
   "metadata": {},
   "outputs": [
    {
     "name": "stdout",
     "output_type": "stream",
     "text": [
      "False\n",
      "True\n",
      "False\n"
     ]
    }
   ],
   "source": [
    "# Returns “True” if all characters in the string are alphabets\n",
    "\n",
    "firstname = \"Yes \"\n",
    "\n",
    "text1 = \"Kathmandu\"\n",
    "text2 = \"Hello, Good Morning!\"\n",
    "print(firstname.isalpha())\n",
    "print(text1.isalpha())\n",
    "print(text2.isalpha())"
   ]
  },
  {
   "cell_type": "code",
   "execution_count": 46,
   "id": "421388cd-40e7-4ca7-a9cb-aba333ca32da",
   "metadata": {},
   "outputs": [
    {
     "name": "stdout",
     "output_type": "stream",
     "text": [
      "True\n",
      "False\n",
      "False\n"
     ]
    }
   ],
   "source": [
    "print(\"Its15thtoday\".isalnum())\n",
    "print(\"It's 15th today\".isalnum())\n",
    "print('It\\'s 15th today'.isalnum())"
   ]
  },
  {
   "cell_type": "code",
   "execution_count": 43,
   "id": "0d9d359a-c236-432a-8281-772f97624f9f",
   "metadata": {},
   "outputs": [
    {
     "name": "stdout",
     "output_type": "stream",
     "text": [
      "True\n",
      "False\n"
     ]
    }
   ],
   "source": [
    "date = \"2024\"\n",
    "print(date.isdigit())\n",
    "print(\"2024 08 15\".isdigit())"
   ]
  }
 ],
 "metadata": {
  "kernelspec": {
   "display_name": "Python 3 (ipykernel)",
   "language": "python",
   "name": "python3"
  },
  "language_info": {
   "codemirror_mode": {
    "name": "ipython",
    "version": 3
   },
   "file_extension": ".py",
   "mimetype": "text/x-python",
   "name": "python",
   "nbconvert_exporter": "python",
   "pygments_lexer": "ipython3",
   "version": "3.12.3"
  }
 },
 "nbformat": 4,
 "nbformat_minor": 5
}
