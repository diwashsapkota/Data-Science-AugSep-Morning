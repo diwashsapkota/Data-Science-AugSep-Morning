{
 "cells": [
  {
   "cell_type": "markdown",
   "metadata": {
    "slideshow": {
     "slide_type": "slide"
    },
    "user_expressions": []
   },
   "source": [
    "# Introduction to Python"
   ]
  },
  {
   "cell_type": "markdown",
   "metadata": {
    "user_expressions": []
   },
   "source": [
    "### Intro to Markdown in Jupyter\n",
    "\n",
    "**1. Headings**\n",
    "\n",
    "Headings are entered by prefacing text with one or more # (usually pronounced \"hash\") symbols followed by a space. If you know any HTML, then `# Title` is equivalent to a `<h1>Title</h1>`, `### Subtitle` is equivalent to `<h2>Subtitle</h2>`, etc. Note that you must put a space between the hashes and the text for it to be recognized as a heading.\n",
    "\n",
    "**2. Text and paragraphs**\n",
    "\n",
    "Regular text can be entered as normal. \n",
    "Blank lines between text indicate the start of a new paragraph; press `Enter` twice\n",
    "at the end of a paragraph to leave such a blank line.\n",
    "Other line breaks do not create a new paragraph and can be used\n",
    "to avoid over-long lines of text or to separate sentences so they can be \n",
    "more easily reordered in the future.\n",
    " \n",
    "**3. Emphasis**\n",
    "\n",
    "The third cell (labeled \"***Emphasis***\") illustrates how to make text italicized or bold.  Double click on the cell (to view the source text).  \n",
    "* Text can be italicized by surrounding it with single asterisks, like `*italicize text*`: *italicize text*.\n",
    "* Similarly, text can be bolded by surrounding it with double asterisks, like `**bold text**`: **bold text**.\n",
    "* Text can be both italicized and bolded by surrounding it with triple asterisks, like `***bold and italics***`: ***bold and italics***.\n",
    "\n",
    "**4. Bulleted and Numbered Lists**\n",
    "\n",
    "**Bulleted lists** can be created by starting a line with an asterisk and a space, followed by the text of the bulleted item. Bulleted sub-lists can be created by tab-indenting a bulleted list under a bulleted item. For example,\n",
    "\n",
    "<pre>\n",
    "* Item 1\n",
    "    * Item 1.1\n",
    "    * Item 1.2\n",
    "    \n",
    "*Item 2\n",
    "</pre>\n",
    "\n",
    "formats as\n",
    "* Item 1\n",
    "    * Item 1.1\n",
    "    * Item 1.2\n",
    "*Item 2\n",
    "\n",
    "**Numbered lists** can be created by starting a line with a number, a period, and a space, followed by the item to be numbered. *Note that the first number you use in a sequence of numbered items will determine the starting point for numbering, but later values are ignored. It is a good habit to use 1 for every numbered item because then you can rearrange the items via cut-and-paste without worrying about upsetting the overall list numbering.*  Numbered sub-lists can be created by tab-indenting a numbered list under a numbered item. For example,\n",
    "\n",
    "<pre>\n",
    "1. Item 1\n",
    "    1. Item 1.1\n",
    "    1. Item 1.2\n",
    "3. Item 2\n",
    "</pre>\n",
    "formats as\n",
    "1. Item 1\n",
    "    1. Item 1.1\n",
    "    1. Item 1.2\n",
    "3. Item 2\n",
    "\n",
    "**5. Links and images**\n",
    "\n",
    "**Links** are easily created by putting the link text in square brackets, followed by the link URL in parentheses, like:\n",
    "```\n",
    "[Example link](http://google.com)\n",
    "```\n",
    "which is rendered as \n",
    "\n",
    "[Example link](http://google.com)\n",
    "\n",
    "**Images** are entered in a very similar way to URLs. Just put an exclamation point (!) before the square brackets. The text in the square brackets will be used as the \"alt text\", which is used by screen readers or displayed when hovering the mouse over the image. Images can also be inserted by dragging them from your file manager into a cell. After the Markdown code is inserted, you can edit the alt-text to something more meaningful.\n",
    "\n",
    "![alt text for screen readers](./images/pandas-car-sales-csv.png \"Text to show on mouseover\")\n",
    "\n",
    "\n",
    "**6. Other Markdown formatting**\n",
    "\n",
    "Markdown has many other features that we will not cover, such as horizontal rules, block quotes, syntax highlighting, and tables.\n",
    "A good reference for Markdown syntax is\n",
    "[Markdown Guide (https://www.markdownguide.org/extended-syntax/)](https://www.markdownguide.org/extended-syntax/)\n"
   ]
  },
  {
   "cell_type": "markdown",
   "metadata": {
    "user_expressions": []
   },
   "source": [
    "### Jupyter Magics"
   ]
  },
  {
   "cell_type": "markdown",
   "metadata": {
    "user_expressions": []
   },
   "source": [
    "Code cells can also contain special instructions intended for JupyterLab itself, rather than the\n",
    "Python kernel. These are called *magics*. For instance, to output your current directory, you can use the \n",
    "`%pwd` magic:"
   ]
  },
  {
   "cell_type": "code",
   "execution_count": 1,
   "metadata": {
    "slideshow": {
     "slide_type": "fragment"
    },
    "tags": [
     "remove-output"
    ]
   },
   "outputs": [
    {
     "data": {
      "text/plain": [
       "'C:\\\\Users\\\\diwas\\\\OneDrive\\\\Desktop\\\\Data-Science-Specialization-with-Python\\\\Class'"
      ]
     },
     "execution_count": 1,
     "metadata": {},
     "output_type": "execute_result"
    }
   ],
   "source": [
    "%pwd"
   ]
  },
  {
   "cell_type": "markdown",
   "metadata": {
    "user_expressions": []
   },
   "source": [
    "```'~/data-science/class'```"
   ]
  },
  {
   "cell_type": "markdown",
   "metadata": {
    "slideshow": {
     "slide_type": "slide"
    },
    "user_expressions": []
   },
   "source": [
    "You can use the \"%cd\" magic to change your directory (recall that~ is a shortcut for your home user directory):"
   ]
  },
  {
   "cell_type": "code",
   "execution_count": null,
   "metadata": {
    "slideshow": {
     "slide_type": "fragment"
    }
   },
   "outputs": [],
   "source": [
    "# cd ~"
   ]
  },
  {
   "cell_type": "markdown",
   "metadata": {
    "user_expressions": []
   },
   "source": [
    "Changing directories is often useful to switch to a directory where data is stored."
   ]
  },
  {
   "cell_type": "markdown",
   "metadata": {
    "slideshow": {
     "slide_type": "fragment"
    },
    "user_expressions": []
   },
   "source": [
    "You can get a list of magics and other information about Jupyter using the `%quickref` magic. The output of `%quickref` is long, so I am only including a screenshot of the top of its output."
   ]
  },
  {
   "cell_type": "code",
   "execution_count": null,
   "metadata": {
    "tags": [
     "remove-output"
    ]
   },
   "outputs": [],
   "source": [
    "# %quickref"
   ]
  },
  {
   "cell_type": "markdown",
   "metadata": {
    "slideshow": {
     "slide_type": "slide"
    },
    "user_expressions": []
   },
   "source": [
    "## Getting Started in Python\n",
    "\n",
    "Python is an interpreted language, which means that when any Code cell in a Jupyter notebook is evaluated, the Python code will be executed. Any output or error messages will appear in a new output portion of the cell that will appear just after the input portion of the cell (that contains the Python code). \n",
    "\n",
    "### Hello World!\n",
    "\n",
    "Let's start with the canonical example that appears in almost every programming language, which is to write \"Hello World!\" to the screen/output. \n",
    "\n",
    "To print output in Python, use the `print()` function, which is a built-in function in Python 3. Here a *function* is used to denote a *named* set of Python instructions that can be called on demand. Python functions are called by using the function name with parentheses after it. Functions can accept *arguments*, which are variables and values that the function can act on. The arguments for a function are put inside the parentheses, with commas separating different items. \n",
    "\n",
    "To output text using `print()`, put it as an argument inside single or double quotation marks. I will generally use single quotation marks because they do not require using the shift key to type."
   ]
  },
  {
   "cell_type": "code",
   "execution_count": null,
   "metadata": {
    "slideshow": {
     "slide_type": "fragment"
    }
   },
   "outputs": [],
   "source": [
    "print('Hello World!')"
   ]
  },
  {
   "cell_type": "markdown",
   "metadata": {
    "user_expressions": []
   },
   "source": [
    "Python's  `print()` function knows how to handle most standard data types. Unlike `printf` in C, explicit formatting instructions do not have to be given -- just pass the thing to be printed as an argument to `print`:"
   ]
  },
  {
   "cell_type": "code",
   "execution_count": null,
   "metadata": {
    "slideshow": {
     "slide_type": "fragment"
    }
   },
   "outputs": [],
   "source": [
    "print(32)"
   ]
  },
  {
   "cell_type": "code",
   "execution_count": null,
   "metadata": {
    "slideshow": {
     "slide_type": "fragment"
    }
   },
   "outputs": [],
   "source": [
    "print([1, 4, 9, 16])"
   ]
  },
  {
   "cell_type": "markdown",
   "metadata": {
    "user_expressions": []
   },
   "source": [
    "To print multiple items, just pass all the items as arguments to the `print()` function, but separate the items by commas:"
   ]
  },
  {
   "cell_type": "code",
   "execution_count": 2,
   "metadata": {},
   "outputs": [
    {
     "name": "stdout",
     "output_type": "stream",
     "text": [
      "Hello world! 15 [1, 4, 9, 16]\n"
     ]
    }
   ],
   "source": [
    "print('Hello', 'world!', 10 + 5, [1, 4, 9, 16])"
   ]
  },
  {
   "cell_type": "code",
   "execution_count": 3,
   "metadata": {},
   "outputs": [
    {
     "name": "stdout",
     "output_type": "stream",
     "text": [
      "Diwash Sapkota\n"
     ]
    }
   ],
   "source": [
    "print(\"Diwash\"+\" \"+\"Sapkota\")"
   ]
  },
  {
   "cell_type": "markdown",
   "metadata": {
    "slideshow": {
     "slide_type": "slide"
    },
    "user_expressions": []
   },
   "source": [
    "Code cells may contain multiple Python statements. All statements in a cell will be run sequentially when the cell is run. The results of every `print` statement will be shown after the *input* part of the cell:"
   ]
  },
  {
   "cell_type": "code",
   "execution_count": 4,
   "metadata": {
    "slideshow": {
     "slide_type": "subslide"
    }
   },
   "outputs": [
    {
     "name": "stdout",
     "output_type": "stream",
     "text": [
      "Hello \n",
      "World!\n"
     ]
    }
   ],
   "source": [
    "print('Hello ')\n",
    "print('World!')"
   ]
  },
  {
   "cell_type": "markdown",
   "metadata": {
    "user_expressions": []
   },
   "source": [
    "Some Python statements return results, and these will appear in a special *output* part of the cell:"
   ]
  },
  {
   "cell_type": "code",
   "execution_count": null,
   "metadata": {},
   "outputs": [],
   "source": [
    "5 + 10"
   ]
  },
  {
   "cell_type": "markdown",
   "metadata": {
    "user_expressions": []
   },
   "source": [
    "However, if a cell contains multiple statements, the output will be the result of the **last** statement:"
   ]
  },
  {
   "cell_type": "code",
   "execution_count": null,
   "metadata": {},
   "outputs": [],
   "source": [
    "5 + 10\n",
    "5 * 10"
   ]
  },
  {
   "cell_type": "markdown",
   "metadata": {
    "user_expressions": []
   },
   "source": [
    "The last statement in a cell may produce no output. Then there is no output from the cell. Note that printed items are not outputs:"
   ]
  },
  {
   "cell_type": "code",
   "execution_count": null,
   "metadata": {},
   "outputs": [],
   "source": [
    "5 + 10\n",
    "print('hello')"
   ]
  },
  {
   "cell_type": "markdown",
   "metadata": {
    "user_expressions": []
   },
   "source": [
    "There are several different ways to get the output of multiple statements. One easy way is just to print all the results you want to see:"
   ]
  },
  {
   "cell_type": "code",
   "execution_count": null,
   "metadata": {},
   "outputs": [],
   "source": [
    "print(5 + 10)\n",
    "print(5 * 10)"
   ]
  },
  {
   "cell_type": "markdown",
   "metadata": {
    "user_expressions": []
   },
   "source": [
    "### Comments\n",
    "\n",
    "Comments are text in your Python code that are ignored by the Python interpreter.\n",
    "Documentation is usually used to convey what you intend\n",
    "for your code to be doing -- which is not always what it is actually doing! \n",
    "Documentation is both for others who may need to read your code and for your future self, who\n",
    "may need help remembering what you meant for a block of code to do. \n",
    "\n",
    "Anything that follows a # (hash) symbol is a comment:"
   ]
  },
  {
   "cell_type": "code",
   "execution_count": null,
   "metadata": {},
   "outputs": [],
   "source": [
    "# It is important to use comments to document your thinking on big assignments"
   ]
  },
  {
   "cell_type": "markdown",
   "metadata": {
    "user_expressions": []
   },
   "source": [
    "There is not really a multi-line comment in Python (like /* */ in C). One way to make a multi-line comment is to make a multi-line string that is not assigned to any variable.  Multi-line strings are delimited by triple-ticks (''') or triple-quotes(\"\"\"). Here is an example with triple-quotes:"
   ]
  },
  {
   "cell_type": "code",
   "execution_count": null,
   "metadata": {},
   "outputs": [],
   "source": [
    "\"\"\" This is a\n",
    "multi-line comment,\n",
    "okay?\"\"\"\n",
    "print('The multi-line string above will not produce any output')\n",
    "print('because it is not the last command in this cell.')"
   ]
  },
  {
   "cell_type": "markdown",
   "metadata": {
    "user_expressions": []
   },
   "source": [
    "When making custom functions, a multi-line string directly after the function definition serves as the documentation string  (docstring) for that function."
   ]
  },
  {
   "cell_type": "markdown",
   "metadata": {
    "slideshow": {
     "slide_type": "slide"
    },
    "user_expressions": []
   },
   "source": [
    "### Python Variables and Types"
   ]
  },
  {
   "cell_type": "markdown",
   "metadata": {
    "slideshow": {
     "slide_type": "fragment"
    },
    "user_expressions": []
   },
   "source": [
    "Variables are named entities that store values for future reference. In Python, variable names consist of alphanumeric characters (a-z, A-Z, 0-9) and underscores, but they cannot start with a number. Variable names are case-sensitive.  Detailed descriptions of naming conventions for Python are given in [PEP 8 -- Style Guide for Python Code](https://www.python.org/dev/peps/pep-0008/]). Generally, we will follow these conventions:\n",
    "* Names should be descriptive, except when used as a simple index.\n",
    "* Variable and function names should be lowercase, with underscores separating different words.\n",
    "* Variables should not duplicate the names of modules or Python functions/methods.\n",
    "\n",
    "Variables are created by assigning a value to a valid variable name:"
   ]
  },
  {
   "cell_type": "code",
   "execution_count": null,
   "metadata": {
    "slideshow": {
     "slide_type": "subslide"
    }
   },
   "outputs": [],
   "source": [
    "x = 10\n",
    "temp = 50.5\n",
    "temp3 = 'Diwash Sapkota' "
   ]
  },
  {
   "cell_type": "code",
   "execution_count": null,
   "metadata": {},
   "outputs": [],
   "source": [
    "type(temp3)"
   ]
  },
  {
   "cell_type": "markdown",
   "metadata": {
    "user_expressions": []
   },
   "source": [
    "Python uses implicit typing, which means that you do not have to define a variable's type (i.e., what type of data it holds). The type is determined by the interpreter at the time of assignment. You can determine a variable's type by passing the variable as the argument of the `type()` function:"
   ]
  },
  {
   "cell_type": "code",
   "execution_count": null,
   "metadata": {
    "slideshow": {
     "slide_type": "fragment"
    }
   },
   "outputs": [],
   "source": [
    "type(x)"
   ]
  },
  {
   "cell_type": "markdown",
   "metadata": {
    "user_expressions": []
   },
   "source": [
    "The type of a variable can change whenever new data is assigned to it:"
   ]
  },
  {
   "cell_type": "code",
   "execution_count": null,
   "metadata": {
    "slideshow": {
     "slide_type": "subslide"
    }
   },
   "outputs": [],
   "source": [
    "x = 10.5"
   ]
  },
  {
   "cell_type": "code",
   "execution_count": null,
   "metadata": {
    "slideshow": {
     "slide_type": "fragment"
    }
   },
   "outputs": [],
   "source": [
    "type(x)"
   ]
  },
  {
   "cell_type": "code",
   "execution_count": null,
   "metadata": {
    "slideshow": {
     "slide_type": "subslide"
    }
   },
   "outputs": [],
   "source": [
    "x = 'Hello World!'"
   ]
  },
  {
   "cell_type": "code",
   "execution_count": null,
   "metadata": {
    "slideshow": {
     "slide_type": "fragment"
    }
   },
   "outputs": [],
   "source": [
    "type(x)"
   ]
  },
  {
   "cell_type": "markdown",
   "metadata": {
    "user_expressions": []
   },
   "source": [
    "When a variable is passed as an argument to the `print()` function, the value of the variable is printed:"
   ]
  },
  {
   "cell_type": "code",
   "execution_count": null,
   "metadata": {
    "slideshow": {
     "slide_type": "fragment"
    }
   },
   "outputs": [],
   "source": [
    "print(x)"
   ]
  },
  {
   "cell_type": "markdown",
   "metadata": {
    "slideshow": {
     "slide_type": "subslide"
    },
    "user_expressions": []
   },
   "source": [
    "Python knows how to perform many different operations on different data types and will usually do the *right thing* based on the type of the variable:"
   ]
  },
  {
   "cell_type": "code",
   "execution_count": null,
   "metadata": {
    "slideshow": {
     "slide_type": "fragment"
    }
   },
   "outputs": [],
   "source": [
    "a = 3\n",
    "b = 4\n",
    "a + b"
   ]
  },
  {
   "cell_type": "code",
   "execution_count": null,
   "metadata": {},
   "outputs": [],
   "source": [
    "print(a * b)"
   ]
  },
  {
   "cell_type": "markdown",
   "metadata": {
    "user_expressions": []
   },
   "source": [
    "We often want to combine some fixed text and some variable output. To do this, we will use *f*-strings, which were added to Python in version 3.6. An *f*-string is a special string that is created by prefixing the delimiter with the letter `f`.  Any part of an *f*-string contained within curly braces {} will be evaluated before the string is used. Thus, if we wanted to write more about the product of `a` and `b`, we could do it like this:"
   ]
  },
  {
   "cell_type": "code",
   "execution_count": null,
   "metadata": {},
   "outputs": [],
   "source": [
    "print(f'The product of a and b is {a*b}')"
   ]
  },
  {
   "cell_type": "markdown",
   "metadata": {
    "user_expressions": []
   },
   "source": [
    "We can have multiple substitutions in a single *f*-string:"
   ]
  },
  {
   "cell_type": "code",
   "execution_count": null,
   "metadata": {},
   "outputs": [],
   "source": [
    "print(f'The product of a and b is {a*b}')"
   ]
  },
  {
   "cell_type": "markdown",
   "metadata": {
    "user_expressions": []
   },
   "source": [
    "```{warning}\n",
    "Exponentiation is performed using two asterisks between the number or variable to be operated on and the exponent. The carat operator (^) is reserved for bitwise exclusive-or (XOR).\n",
    "```"
   ]
  },
  {
   "cell_type": "code",
   "execution_count": null,
   "metadata": {},
   "outputs": [],
   "source": [
    "2 ** 3"
   ]
  },
  {
   "cell_type": "markdown",
   "metadata": {
    "user_expressions": []
   },
   "source": [
    "We will often need to add to an existing value, and Python provides a shortcut notation for this (similar to C). The notation `+=` indicates to add to the variable on the left-hand side of the expression. For instance, here is the usual way we write incrementing a counter:"
   ]
  },
  {
   "cell_type": "code",
   "execution_count": null,
   "metadata": {},
   "outputs": [],
   "source": [
    "counter = 5\n",
    "# counter = (counter * 5)\n",
    "counter *= 10\n",
    "print(counter)"
   ]
  },
  {
   "cell_type": "markdown",
   "metadata": {
    "user_expressions": []
   },
   "source": [
    "Most operators in Python try to do the most logical operation for their input types. Therefore, if we try to add strings with +, the operator actually performs string concatenation:"
   ]
  },
  {
   "cell_type": "code",
   "execution_count": null,
   "metadata": {
    "slideshow": {
     "slide_type": "subslide"
    }
   },
   "outputs": [],
   "source": [
    "a = 'Hello '\n",
    "b = 'World'\n",
    "print(a + b)"
   ]
  },
  {
   "cell_type": "code",
   "execution_count": null,
   "metadata": {
    "slideshow": {
     "slide_type": "subslide"
    }
   },
   "outputs": [],
   "source": [
    "a = 3\n",
    "b = 4.1\n",
    "print(a + b, type(a + b))"
   ]
  },
  {
   "cell_type": "markdown",
   "metadata": {
    "user_expressions": []
   },
   "source": [
    "However, Python cannot read minds, and its rules may create unexpected results:"
   ]
  },
  {
   "cell_type": "code",
   "execution_count": null,
   "metadata": {},
   "outputs": [],
   "source": [
    "a = '3'\n",
    "b = '4'\n",
    "print(a + b)\n",
    "print(int(a) + int(b))"
   ]
  },
  {
   "cell_type": "markdown",
   "metadata": {
    "user_expressions": []
   },
   "source": [
    "Note that in the first case, the variables are strings, so the + operator performs string concatenation. <mark> This can be a subtle problem when we load data from files because items that look like numbers may actually be loaded as strings. </mark>\n",
    "\n",
    "The multiplication operator performs repetition on a string:"
   ]
  },
  {
   "cell_type": "code",
   "execution_count": null,
   "metadata": {},
   "outputs": [],
   "source": [
    "a = '3'\n",
    "c = 5\n",
    "print(a * c)\n",
    "print(int(a) * c)"
   ]
  },
  {
   "cell_type": "markdown",
   "metadata": {
    "user_expressions": []
   },
   "source": [
    "### Basic Data Types\n",
    "\n",
    "Python has many data types built-in, and we have already seen a few of these: *int*, *float*, and *str* (string). We will also see few other built-in data types"
   ]
  },
  {
   "cell_type": "markdown",
   "metadata": {
    "user_expressions": []
   },
   "source": [
    "Boolean values are stored in *bool* variables that take on either `True` or `False`. Note that exact capitalization is required for these values."
   ]
  },
  {
   "cell_type": "code",
   "execution_count": null,
   "metadata": {},
   "outputs": [],
   "source": [
    "a = True\n",
    "print(a)"
   ]
  },
  {
   "cell_type": "markdown",
   "metadata": {
    "user_expressions": []
   },
   "source": [
    "We can check if two variables have the same values using `==`:"
   ]
  },
  {
   "cell_type": "code",
   "execution_count": 1,
   "metadata": {},
   "outputs": [
    {
     "name": "stdout",
     "output_type": "stream",
     "text": [
      "3\n"
     ]
    }
   ],
   "source": [
    "b = 2\n",
    "c = 3\n",
    "C = 4\n",
    "print(c)\n",
    "# print(b == c)"
   ]
  },
  {
   "cell_type": "markdown",
   "metadata": {
    "user_expressions": []
   },
   "source": [
    "The result of a comparison (using ==) can be stored in variable (using =):"
   ]
  },
  {
   "cell_type": "code",
   "execution_count": null,
   "metadata": {},
   "outputs": [],
   "source": [
    "d = (b == c)\n",
    "d\n",
    "# type(d)"
   ]
  },
  {
   "cell_type": "markdown",
   "metadata": {
    "user_expressions": []
   },
   "source": [
    "Not equals is written as `!=`. Other comparisons are written in the usual ways (<, >, <=, >=)."
   ]
  },
  {
   "cell_type": "code",
   "execution_count": null,
   "metadata": {},
   "outputs": [],
   "source": [
    "print(b != c, b <= c)"
   ]
  },
  {
   "cell_type": "markdown",
   "metadata": {
    "user_expressions": []
   },
   "source": [
    "\n",
    "Python has a variety of different *sequence* types for containing an ordered  collection of values. Values can be retrieved by index from a sequence-type variable by putting the index number in square brackets after the variable name.\n",
    "\n",
    "```{warning}\n",
    "Like C, C++, and JavaScript, indexing in Python starts at 0. This means that in a sequence of $n$ items, the first item is at index 0, and the last item is at index $n-1$. MATLAB and many textbooks use indexing starting at 1.\n",
    "```\n",
    "\n",
    "The *list* type is a **mutable** container of values. *Mutable* means the values in the list can be changed. Lists are delimited by square brackets, and list items are separated by commas. "
   ]
  },
  {
   "cell_type": "code",
   "execution_count": 9,
   "metadata": {},
   "outputs": [
    {
     "name": "stdout",
     "output_type": "stream",
     "text": [
      "['dogs', 'cats', 3, 7.0]\n"
     ]
    },
    {
     "data": {
      "text/plain": [
       "[[1, 3, 5], [2, 4, 6], 'diwash', 'kathmandu', 4.0]"
      ]
     },
     "execution_count": 9,
     "metadata": {},
     "output_type": "execute_result"
    }
   ],
   "source": [
    "my_list = ['dogs', 'cats', 3, 7.0]\n",
    "print(my_list)\n",
    "\n",
    "my_list2 = [[1, 3, 5], [2, 4, 6], 'diwash', 'kathmandu', 4.0]\n",
    "my_list2"
   ]
  },
  {
   "cell_type": "code",
   "execution_count": 6,
   "metadata": {},
   "outputs": [
    {
     "name": "stdout",
     "output_type": "stream",
     "text": [
      "cats\n"
     ]
    }
   ],
   "source": [
    "print(my_list[1])"
   ]
  },
  {
   "cell_type": "code",
   "execution_count": 7,
   "metadata": {},
   "outputs": [
    {
     "name": "stdout",
     "output_type": "stream",
     "text": [
      "7.0\n"
     ]
    }
   ],
   "source": [
    "print(my_list[-1])"
   ]
  },
  {
   "cell_type": "code",
   "execution_count": 1,
   "metadata": {},
   "outputs": [
    {
     "name": "stdout",
     "output_type": "stream",
     "text": [
      "['apple', 'mango']\n",
      "['mango', 'apple']\n",
      "['mango', 'apple', 'orange']\n",
      "['banana', 'apple', 'orange']\n"
     ]
    }
   ],
   "source": [
    "my_list3 = ['mango', 'apple']\n",
    "my_list3.sort()\n",
    "print(my_list3)\n",
    "\n",
    "my_list4 = sorted(my_list3, reverse=True)\n",
    "print(my_list4)\n",
    "\n",
    "my_list4.append('orange')\n",
    "print(my_list4)\n",
    "\n",
    "# my_list4.pop(-1)\n",
    "# my_list4\n",
    "\n",
    "my_list4[0] = 'banana'\n",
    "print(my_list4)"
   ]
  },
  {
   "cell_type": "code",
   "execution_count": 25,
   "metadata": {},
   "outputs": [],
   "source": [
    "# for i in range(my_list2):\n",
    "#     # print(i)"
   ]
  },
  {
   "cell_type": "markdown",
   "metadata": {
    "user_expressions": []
   },
   "source": [
    "Because lists are mutable, values can be updated:"
   ]
  },
  {
   "cell_type": "code",
   "execution_count": 11,
   "metadata": {},
   "outputs": [
    {
     "name": "stdout",
     "output_type": "stream",
     "text": [
      "['dogs', 'cats', 3, 7.0]\n",
      "['birds', 'cats', 3, 7.0]\n"
     ]
    }
   ],
   "source": [
    "print(my_list)\n",
    "my_list[0] = 'birds'\n",
    "print(my_list)"
   ]
  },
  {
   "cell_type": "markdown",
   "metadata": {
    "user_expressions": []
   },
   "source": [
    "A *tuple* is an **immutable** sequence type. The values in a tuple cannot be changed. Tuples are often used to contain multiple values returned from a function. Tuples are delimited by parentheses: (). To create a tuple containing only one value, include a comma after the value. As with lists, tuples can contain a variety of values. Trying to change a value in an immutable type results in an error:"
   ]
  },
  {
   "cell_type": "code",
   "execution_count": 12,
   "metadata": {},
   "outputs": [],
   "source": [
    "tuple1 = (1, 4, 'nine')\n",
    "tuple2 = (16,)"
   ]
  },
  {
   "cell_type": "code",
   "execution_count": 13,
   "metadata": {},
   "outputs": [
    {
     "name": "stdout",
     "output_type": "stream",
     "text": [
      "nine\n"
     ]
    }
   ],
   "source": [
    "print(tuple1[2])"
   ]
  },
  {
   "cell_type": "markdown",
   "metadata": {
    "user_expressions": []
   },
   "source": [
    "Trying to change a value in an immutable type results in an error:"
   ]
  },
  {
   "cell_type": "code",
   "execution_count": 29,
   "metadata": {},
   "outputs": [
    {
     "ename": "TypeError",
     "evalue": "'tuple' object does not support item assignment",
     "output_type": "error",
     "traceback": [
      "\u001b[1;31m---------------------------------------------------------------------------\u001b[0m",
      "\u001b[1;31mTypeError\u001b[0m                                 Traceback (most recent call last)",
      "Cell \u001b[1;32mIn[29], line 1\u001b[0m\n\u001b[1;32m----> 1\u001b[0m \u001b[43mtuple1\u001b[49m\u001b[43m[\u001b[49m\u001b[38;5;241;43m0\u001b[39;49m\u001b[43m]\u001b[49m \u001b[38;5;241m=\u001b[39m \u001b[38;5;241m5\u001b[39m\n",
      "\u001b[1;31mTypeError\u001b[0m: 'tuple' object does not support item assignment"
     ]
    }
   ],
   "source": [
    "tuple1[0] = 5"
   ]
  },
  {
   "cell_type": "markdown",
   "metadata": {},
   "source": [
    "The *range* type is an **immutable** sequence of numbers that is usually used in looping (especially `for` loops). A range object can be created using the `range()` function in the following ways:\n",
    "* `range(stop)` creates a sequence of *stop* values starting at 0. Thus, the values are 0, 1, 2, $\\ldots,$ *stop*-1. Note that the Python convention is that the *stop* value is not included in the range. \n",
    "* `range(start, stop)` creates a sequence of values that starts at *start* and ends at *stop*-1. \n",
    "* `range(start, stop, step)` creates a sequence of values that starts at *start*, increments by *step*, and ends at *stop*-1.\n",
    "\n",
    "You can iterate over ranges using a `for`...`in` statement, which is discussed later."
   ]
  },
  {
   "cell_type": "markdown",
   "metadata": {
    "user_expressions": []
   },
   "source": [
    "Python also contains one *mapping* type:\n",
    "* *dict* is a dictionary object that provides a map between key-value pairs. \n",
    "As with lists and tuples, keys and values can be any data types, but the keys must be unique.\n",
    "Dictionaries are delimited by curly braces: { }. Each entry in a dictionary is written in the form `key:value`, and different key-value pairs are separated by commas. The value for a particular key can be retrieved by putting the key in square brackets after the dictionary variable's name."
   ]
  },
  {
   "cell_type": "code",
   "execution_count": 2,
   "metadata": {},
   "outputs": [
    {
     "name": "stdout",
     "output_type": "stream",
     "text": [
      "9\n"
     ]
    }
   ],
   "source": [
    "squares = {1: 1, 2: 4, 3: 9, 4: 16}\n",
    "print(squares[3])"
   ]
  },
  {
   "cell_type": "code",
   "execution_count": 3,
   "metadata": {},
   "outputs": [
    {
     "name": "stdout",
     "output_type": "stream",
     "text": [
      "{'name': 'Alice', 'age': 25, 'city': 'New York'}\n"
     ]
    }
   ],
   "source": [
    "keys = [\"name\", \"age\", \"city\"]\n",
    "values = [\"Alice\", 25, \"New York\"]\n",
    "user_info = dict(zip(keys, values))\n",
    "print(user_info)"
   ]
  },
  {
   "cell_type": "code",
   "execution_count": 5,
   "metadata": {},
   "outputs": [
    {
     "name": "stdout",
     "output_type": "stream",
     "text": [
      "0\n",
      "test\n"
     ]
    }
   ],
   "source": [
    "misc = {\n",
    "    'cats': 0, \n",
    "    'dogs': 1, \n",
    "    3: 'test'\n",
    "}\n",
    "print(misc['cats'])\n",
    "print(misc[3])"
   ]
  },
  {
   "cell_type": "markdown",
   "metadata": {
    "user_expressions": []
   },
   "source": [
    "Python variables are actually much more powerful than variables in many languages because they are actually *objects*. Python is an object-oriented programming (OOP) language. Fundamentals about **objects** and **classes**:\n",
    "* *Objects* are special data types that have *methods* associated with them to work on those objects. Methods are similar to functions, except they are specialized to the *objects* to which they belong. Methods are called by giving the variable/object name, adding a period, specifying the method name, and then adding parentheses, with any arguments provided in parentheses. \n",
    "* A *class* is a template for an object that defines how an object stores information and defines its methods.\n",
    "\n",
    "For instance, since *list* is a mutable type, a list can be sorted in place. The *list* object defines a sorting method to achieve this:"
   ]
  },
  {
   "cell_type": "code",
   "execution_count": 14,
   "metadata": {},
   "outputs": [
    {
     "name": "stdout",
     "output_type": "stream",
     "text": [
      "[1, 3, 5, 7, 13]\n"
     ]
    }
   ],
   "source": [
    "new_list = [5, 7, 1, 3, 13]\n",
    "new_list.sort()\n",
    "print(new_list)"
   ]
  },
  {
   "cell_type": "code",
   "execution_count": 16,
   "metadata": {},
   "outputs": [
    {
     "ename": "TypeError",
     "evalue": "'<' not supported between instances of 'str' and 'int'",
     "output_type": "error",
     "traceback": [
      "\u001b[1;31m---------------------------------------------------------------------------\u001b[0m",
      "\u001b[1;31mTypeError\u001b[0m                                 Traceback (most recent call last)",
      "Cell \u001b[1;32mIn[16], line 3\u001b[0m\n\u001b[0;32m      1\u001b[0m \u001b[38;5;66;03m# For sorting, list must have same data type\u001b[39;00m\n\u001b[0;32m      2\u001b[0m my_list \u001b[38;5;241m=\u001b[39m [\u001b[38;5;241m1\u001b[39m, \u001b[38;5;241m4\u001b[39m, \u001b[38;5;241m3\u001b[39m, \u001b[38;5;124m'\u001b[39m\u001b[38;5;124mhello\u001b[39m\u001b[38;5;124m'\u001b[39m]\n\u001b[1;32m----> 3\u001b[0m \u001b[43mmy_list\u001b[49m\u001b[38;5;241;43m.\u001b[39;49m\u001b[43msort\u001b[49m\u001b[43m(\u001b[49m\u001b[43m)\u001b[49m\n\u001b[0;32m      4\u001b[0m \u001b[38;5;28mprint\u001b[39m(my_list)\n",
      "\u001b[1;31mTypeError\u001b[0m: '<' not supported between instances of 'str' and 'int'"
     ]
    }
   ],
   "source": [
    "# For sorting, list must have same data type\n",
    "my_list = [1, 4, 3, 'hello']\n",
    "my_list.sort()\n",
    "print(my_list)"
   ]
  },
  {
   "cell_type": "markdown",
   "metadata": {
    "user_expressions": []
   },
   "source": [
    "For dictionaries, we often need to retrieve the keys or values. We can do this using methods provided by the dictionary type:"
   ]
  },
  {
   "cell_type": "code",
   "execution_count": 6,
   "metadata": {},
   "outputs": [
    {
     "name": "stdout",
     "output_type": "stream",
     "text": [
      "dict_keys(['cats', 'dogs', 3])\n"
     ]
    }
   ],
   "source": [
    "misc = {'cats': 0, 'dogs': 1, 3: 'test'}\n",
    "print(misc.keys())"
   ]
  },
  {
   "cell_type": "code",
   "execution_count": 18,
   "metadata": {},
   "outputs": [
    {
     "name": "stdout",
     "output_type": "stream",
     "text": [
      "dict_values([0, 1, 'test'])\n"
     ]
    }
   ],
   "source": [
    "print(misc.values())"
   ]
  },
  {
   "cell_type": "markdown",
   "metadata": {
    "user_expressions": []
   },
   "source": [
    "The `keys` and `values` methods return special objects of type `dict_keys` and `dict_values`, respectively, but for our purposes, we can treat these like lists."
   ]
  },
  {
   "cell_type": "markdown",
   "metadata": {
    "user_expressions": []
   },
   "source": [
    "### Copying Variables"
   ]
  },
  {
   "cell_type": "markdown",
   "metadata": {
    "user_expressions": []
   },
   "source": [
    "```{warning}\n",
    "You have to be careful when copying variables in Python, or you may get some unexpected results.\n",
    "```\n",
    "\n",
    "Suppose you have a variable c that contains a list, and you want to copy it to a variable d:"
   ]
  },
  {
   "cell_type": "code",
   "execution_count": null,
   "metadata": {},
   "outputs": [],
   "source": [
    "c = [0, 1]\n",
    "d = c\n",
    "print(c, d)\n",
    "\n",
    "c[1] = 5\n",
    "print(c, d)"
   ]
  },
  {
   "cell_type": "markdown",
   "metadata": {
    "user_expressions": []
   },
   "source": [
    "Everything works as expected. Now, let's change the value in position 1 in `d` and print out both `c` and `d`:"
   ]
  },
  {
   "cell_type": "code",
   "execution_count": null,
   "metadata": {},
   "outputs": [],
   "source": [
    "d[1] = 2\n",
    "print('d=', d)\n",
    "print('c=', c)"
   ]
  },
  {
   "cell_type": "markdown",
   "metadata": {
    "user_expressions": []
   },
   "source": [
    "Changing the value of `d[1]` also changed the value of `c[1]`! This is because when `c` is made, `c` is a variable that points to the list `[0, 1]`. When we set `d=c`, Python sets the variable `d` to point to the **same** list `[0,1]`.\n",
    "\n",
    "To make a copy of the list `c`, we can use the list's `copy()` method to create a new list with the same contents as `c`:"
   ]
  },
  {
   "cell_type": "code",
   "execution_count": null,
   "metadata": {},
   "outputs": [],
   "source": [
    "c=[1,0]\n",
    "d = c.copy()\n",
    "print(c, d)\n",
    "c[1] = 4\n",
    "print(c, d)"
   ]
  },
  {
   "cell_type": "markdown",
   "metadata": {
    "user_expressions": []
   },
   "source": [
    "We can check if two variables point to the same data using Python's `is` command:"
   ]
  },
  {
   "cell_type": "code",
   "execution_count": null,
   "metadata": {},
   "outputs": [],
   "source": [
    "c is d"
   ]
  },
  {
   "cell_type": "markdown",
   "metadata": {
    "user_expressions": []
   },
   "source": [
    "If two variables point to the same data, then they will have the same values:"
   ]
  },
  {
   "cell_type": "code",
   "execution_count": null,
   "metadata": {},
   "outputs": [],
   "source": [
    "c == d"
   ]
  },
  {
   "cell_type": "markdown",
   "metadata": {
    "user_expressions": []
   },
   "source": [
    "However, the opposite is not true. If we make a new copy of `c`, it will point to a different list object, but the contents will be the same:"
   ]
  },
  {
   "cell_type": "code",
   "execution_count": null,
   "metadata": {},
   "outputs": [],
   "source": [
    "f = c.copy()\n",
    "print(f is c, f == c)"
   ]
  },
  {
   "cell_type": "markdown",
   "metadata": {
    "slideshow": {
     "slide_type": "slide"
    },
    "user_expressions": []
   },
   "source": [
    "### Indentation and Line Breaks in Python"
   ]
  },
  {
   "cell_type": "markdown",
   "metadata": {
    "user_expressions": []
   },
   "source": [
    "Line breaks in Python are usually used to distinguish different Python statements. Exceptions to this include:\n",
    "* When a statement includes arguments in parentheses, line breaks can be used within the parentheses to improve readability. The statement will not terminate until the closing parenthesis, which should be followed by a line break.\n",
    "* As previously introduced, strings that include line breaks can be created using triple quotes.\n",
    "* If a line ends in a backslash `\\`, it will be interpreted as continuing onto the next line.\n",
    "* Multiple statements can be put onto a single line by separating them by semicolons (;), but this is not encouraged.\n"
   ]
  },
  {
   "cell_type": "code",
   "execution_count": null,
   "metadata": {},
   "outputs": [],
   "source": [
    "print('Hello', 'Michael!')"
   ]
  },
  {
   "cell_type": "code",
   "execution_count": null,
   "metadata": {},
   "outputs": [],
   "source": [
    "a = 2 + 3\n",
    "print(a)"
   ]
  },
  {
   "cell_type": "code",
   "execution_count": null,
   "metadata": {},
   "outputs": [],
   "source": [
    "print(\n",
    "    'Goodbye, John!'\n",
    ")"
   ]
  },
  {
   "cell_type": "code",
   "execution_count": null,
   "metadata": {},
   "outputs": [],
   "source": [
    "print(\n",
    "    '''Goodbye, \n",
    "John!'''\n",
    ")"
   ]
  },
  {
   "cell_type": "code",
   "execution_count": null,
   "metadata": {},
   "outputs": [],
   "source": [
    "# Here is an example of using a backslash to break up a line into smaller parts:\n",
    "A = 1 + 2 + 3 \\\n",
    "  + 4 + 5 + 6\n",
    "A"
   ]
  },
  {
   "cell_type": "markdown",
   "metadata": {
    "slideshow": {
     "slide_type": "fragment"
    },
    "user_expressions": []
   },
   "source": [
    "Programming languages usually have some convention to indicate which statements belong together. For instance, if a statement starts a loop (such as `for` or `while`), there must be a way to indicate which of the following statements should be executed in each iteration of the loop and which should be executed after loop iteration. In many languages, such as C, C++, Java, and Javascript, code blocks are surrounded by curly braces: { }.\n",
    "\n",
    "In Python, indentation is used to deliminate code blocks. The languages mentioned above use indentation as a *convention* that indicates meaning to humans working on code. Python uses indentation to *define* code blocks and convey meaning to the Python interpreter.\n",
    "\n",
    "Either tabs or spaces can be used to denote code blocks, but the PEP-8 standard is to use 4 spaces per indent level. Jupyter inserts 4 spaces when `Tab` is pressed in a code block.[^tabspaces]\n",
    "\n",
    "[^tabspaces]:  Some text editors can be set up to insert a prescribed number of spaces when tab is used or convert tabs to spaces upon saving.\n",
    "\n"
   ]
  },
  {
   "cell_type": "markdown",
   "metadata": {
    "user_expressions": []
   },
   "source": [
    "### Loops and Conditionals\n",
    "\n",
    "#### `for`... `in` Statements\n",
    "In data science, we often need to either iterate over data or carry out iterations of a simulation. For both purposes, we will usually rely on Python's `for`...`in` statement. This is a type of *compound* statement. Compound statements consist of a *header* and a *suite* (Python's terminology) or *body*. The header always ends in a colon, and the *suite* is one more statements that are run consecutively according to conditions in the header. For our purposes, we will always create the suite as a set of statements that are indented one more level than the corresponding header, with each statement on a new line. \n",
    "\n",
    "The `for`...`in` compound statement takes a variable after the `for` keyword. This variable will hold the current iteration value. After the `in` keyword  there needs to be an *iterable* object, which is any object that can be iterated over. The typical one we will use is the `range` object that we have just introduced:"
   ]
  },
  {
   "cell_type": "code",
   "execution_count": 19,
   "metadata": {},
   "outputs": [
    {
     "name": "stdout",
     "output_type": "stream",
     "text": [
      "0\n",
      "This is in the loop\n",
      "1\n",
      "This is in the loop\n",
      "2\n",
      "This is in the loop\n",
      "3\n",
      "This is in the loop\n",
      "4\n",
      "This is in the loop\n",
      "5\n",
      "This is in the loop\n",
      "6\n",
      "This is in the loop\n",
      "7\n",
      "This is in the loop\n",
      "8\n",
      "This is in the loop\n",
      "9\n",
      "This is in the loop\n",
      "\n",
      "This is after the loop is run\n"
     ]
    }
   ],
   "source": [
    "for i in range(10):\n",
    "    print(i)\n",
    "    print('This is in the loop')\n",
    "print()\n",
    "print('This is after the loop is run')"
   ]
  },
  {
   "cell_type": "code",
   "execution_count": 56,
   "metadata": {},
   "outputs": [
    {
     "name": "stdout",
     "output_type": "stream",
     "text": [
      "2\n",
      "3\n"
     ]
    }
   ],
   "source": [
    "for j in range(2, 4):\n",
    "    print(j)"
   ]
  },
  {
   "cell_type": "code",
   "execution_count": 59,
   "metadata": {},
   "outputs": [
    {
     "name": "stdout",
     "output_type": "stream",
     "text": [
      "2\n",
      "4\n",
      "6\n",
      "8\n",
      "10\n"
     ]
    }
   ],
   "source": [
    "for k in range(2, 11, 2):\n",
    "    print(k)"
   ]
  },
  {
   "cell_type": "markdown",
   "metadata": {
    "user_expressions": []
   },
   "source": [
    "Another example of an iterable object is a list:"
   ]
  },
  {
   "cell_type": "code",
   "execution_count": 21,
   "metadata": {},
   "outputs": [
    {
     "name": "stdout",
     "output_type": "stream",
     "text": [
      "apples\n",
      "bananas\n",
      "cherries\n",
      "\n",
      "Following is the above list reversed\n",
      "cherries\n",
      "bananas\n",
      "apples\n"
     ]
    }
   ],
   "source": [
    "fruit = ['apples', 'bananas', 'cherries']\n",
    "for kind in fruit:\n",
    "    print(kind)\n",
    "\n",
    "print()\n",
    "print('Following is the above list reversed')\n",
    "fruit = ['apples', 'bananas', 'cherries']\n",
    "for i in reversed(fruit):\n",
    "    print(i)"
   ]
  },
  {
   "cell_type": "markdown",
   "metadata": {
    "user_expressions": []
   },
   "source": [
    "When iterating over objects like a list, it is often helpful to keep track of the iteration index. One easy way to do this is to use the `enumerate()` function that returns a tuple of the current iteration index and the item:"
   ]
  },
  {
   "cell_type": "code",
   "execution_count": 68,
   "metadata": {},
   "outputs": [
    {
     "name": "stdout",
     "output_type": "stream",
     "text": [
      "0\n",
      "apples\n",
      "\n",
      "1\n",
      "bananas\n",
      "\n",
      "2\n",
      "cherries\n",
      "\n"
     ]
    }
   ],
   "source": [
    "for i, kind in enumerate(fruit):\n",
    "    print(i)\n",
    "    print(kind)\n",
    "    print()"
   ]
  },
  {
   "cell_type": "markdown",
   "metadata": {
    "user_expressions": []
   },
   "source": [
    "In the previous example, I purposefully split the printing into different lines to show a multi-statement suite."
   ]
  },
  {
   "cell_type": "markdown",
   "metadata": {
    "user_expressions": []
   },
   "source": [
    "We can *nest* 'for' statements, which means that one `for` statement is inside of another `for` statement. For each iteration of the outer loop, the inner loop will run through all its iterations:"
   ]
  },
  {
   "cell_type": "code",
   "execution_count": 7,
   "metadata": {},
   "outputs": [
    {
     "name": "stdout",
     "output_type": "stream",
     "text": [
      "Iteration 0\n",
      "0 0\n",
      "0 1\n",
      "0 2\n",
      "\n",
      "Iteration 1\n",
      "1 0\n",
      "1 1\n",
      "1 2\n",
      "\n",
      "Iteration 2\n",
      "2 0\n",
      "2 1\n",
      "2 2\n",
      "\n",
      "Iteration 3\n",
      "3 0\n",
      "3 1\n",
      "3 2\n",
      "\n"
     ]
    }
   ],
   "source": [
    "for i in range(4):\n",
    "    print(f'Iteration {i}')\n",
    "    for j in range(3):\n",
    "        print(i, j)\n",
    "    print()"
   ]
  },
  {
   "cell_type": "code",
   "execution_count": 28,
   "metadata": {},
   "outputs": [],
   "source": [
    "students = {\n",
    "        'name' : 'John',\n",
    "        'class' : 9,\n",
    "        'address' : 'Kathmandu'\n",
    " }"
   ]
  },
  {
   "cell_type": "code",
   "execution_count": 23,
   "metadata": {},
   "outputs": [
    {
     "name": "stdout",
     "output_type": "stream",
     "text": [
      "name\n",
      "class\n",
      "address\n",
      "\n",
      "John\n",
      "9\n",
      "Kathmandu\n",
      "\n",
      "name John\n",
      "class 9\n",
      "address Kathmandu\n"
     ]
    }
   ],
   "source": [
    "for item in students.keys():\n",
    "    print(item)\n",
    "    \n",
    "print()\n",
    "for item in students.values():\n",
    "    print(item)\n",
    "print()\n",
    "for i, j in students.items():\n",
    "    print(i, j)"
   ]
  },
  {
   "cell_type": "code",
   "execution_count": 30,
   "metadata": {},
   "outputs": [
    {
     "data": {
      "text/plain": [
       "9"
      ]
     },
     "execution_count": 30,
     "metadata": {},
     "output_type": "execute_result"
    }
   ],
   "source": [
    "deletedval = students.pop('class')\n",
    "# print(deletedval, students)"
   ]
  },
  {
   "cell_type": "code",
   "execution_count": null,
   "metadata": {},
   "outputs": [],
   "source": []
  },
  {
   "cell_type": "markdown",
   "metadata": {
    "user_expressions": []
   },
   "source": [
    "#### `if` Statements\n",
    "\n",
    "The `if` statement is used to run code conditionally. It will often be the case that `if` statements are used inside  loop or other conditional statements. For instance, to print out only the even numbers from 1 to 10, we can use an `if` inside a `for` statement:"
   ]
  },
  {
   "cell_type": "code",
   "execution_count": 73,
   "metadata": {},
   "outputs": [
    {
     "name": "stdout",
     "output_type": "stream",
     "text": [
      "Not even\n",
      "2\n",
      "Not even\n",
      "4\n",
      "Not even\n",
      "6\n",
      "Not even\n",
      "8\n",
      "Not even\n",
      "10\n"
     ]
    }
   ],
   "source": [
    "for i in range(1, 11):\n",
    "    if i % 2 == 0:\n",
    "        print(i)\n",
    "    else:\n",
    "        print('Not even')"
   ]
  },
  {
   "cell_type": "markdown",
   "metadata": {},
   "source": [
    "**If Else Statements**"
   ]
  },
  {
   "cell_type": "markdown",
   "metadata": {
    "user_expressions": []
   },
   "source": [
    " More generally, an `if` statement may also have `elif` and `else` clauses.  *Elif* is short for \"else if\", and these headers act like `if` headers but will be evaluated only if the above `if` or `elif` headers did not have their conditions satisfied. There can only be one `else` clause, and its suite will be executed if the `if` and `elif` clauses did not have their conditions satisfied.  Note that the `elif` and `else` headers must be at the same indentation level as the corresponding `if` header, and these headers must also end with a colon (:). The statements that belong to the suites for these headers  go on separate lines below the header and are indented to one greater level.\n",
    " \n",
    "As a simple example, suppose we want to identify the even numbers from 1 to 10, but if a number is NOT even, we wish to determine if it is divisible by 3. Otherwise, we just want to print an asterisk:"
   ]
  },
  {
   "cell_type": "code",
   "execution_count": 75,
   "metadata": {},
   "outputs": [
    {
     "name": "stdout",
     "output_type": "stream",
     "text": [
      "*\n",
      "2 is even\n",
      "3 is not even but divides by 3\n",
      "4 is even\n",
      "*\n",
      "6 is even\n",
      "*\n",
      "8 is even\n",
      "9 is not even but divides by 3\n",
      "10 is even\n"
     ]
    }
   ],
   "source": [
    "for i in range(1, 11):\n",
    "    if i % 2 == 0:\n",
    "        print(f'{i} is even')\n",
    "    elif i % 3 == 0:\n",
    "        print(f'{i} is not even but divides by 3')\n",
    "    else:\n",
    "        print('*')"
   ]
  },
  {
   "cell_type": "markdown",
   "metadata": {
    "user_expressions": []
   },
   "source": [
    "Note how indentation changes meaning in the following two examples, which differ only by one Tab:"
   ]
  },
  {
   "cell_type": "code",
   "execution_count": 22,
   "metadata": {
    "slideshow": {
     "slide_type": "subslide"
    }
   },
   "outputs": [
    {
     "name": "stdout",
     "output_type": "stream",
     "text": [
      "a=2\n"
     ]
    }
   ],
   "source": [
    "a = 2\n",
    "b = 3\n",
    "if a == 2:\n",
    "    print('a=2')\n",
    "if b == 2:\n",
    "    print('b=2')\n",
    "    print(a, b)"
   ]
  },
  {
   "cell_type": "code",
   "execution_count": 23,
   "metadata": {},
   "outputs": [
    {
     "name": "stdout",
     "output_type": "stream",
     "text": [
      "a=2\n",
      "2 3\n"
     ]
    }
   ],
   "source": [
    "a = 2\n",
    "b = 3\n",
    "if a == 2:\n",
    "    print('a=2')\n",
    "if b == 2:\n",
    "    print('b=2')\n",
    "print(a, b)"
   ]
  },
  {
   "cell_type": "markdown",
   "metadata": {
    "user_expressions": []
   },
   "source": [
    "We will generally iterate over dictionaries by iterating over their keys:"
   ]
  },
  {
   "cell_type": "code",
   "execution_count": 24,
   "metadata": {},
   "outputs": [
    {
     "name": "stdout",
     "output_type": "stream",
     "text": [
      "1\n",
      "8\n",
      "27\n",
      "64\n",
      "125\n"
     ]
    }
   ],
   "source": [
    "squares = {1: 1, \n",
    "           2: 4, \n",
    "           3: 9, \n",
    "           4: 16, \n",
    "           5:25\n",
    "          }\n",
    "for i in squares.keys():\n",
    "    # print(f'{i}**2 = {squares[i]}')\n",
    "    print(f'{i ** 3}')"
   ]
  },
  {
   "cell_type": "code",
   "execution_count": null,
   "metadata": {},
   "outputs": [],
   "source": [
    "squares[5]"
   ]
  },
  {
   "cell_type": "code",
   "execution_count": 25,
   "metadata": {},
   "outputs": [],
   "source": [
    "students = {\n",
    "        'name': 'Diwash Sapkota',\n",
    "        'age': 20,\n",
    "        'major': 'Computer Science'\n",
    "}"
   ]
  },
  {
   "cell_type": "code",
   "execution_count": 26,
   "metadata": {},
   "outputs": [
    {
     "name": "stdout",
     "output_type": "stream",
     "text": [
      "Diwash Sapkota\n",
      "20\n",
      "Computer Science\n"
     ]
    }
   ],
   "source": [
    "for i in students:\n",
    "    print(students[i])"
   ]
  },
  {
   "cell_type": "markdown",
   "metadata": {
    "user_expressions": []
   },
   "source": [
    "#### `while` Statements\n",
    "\n",
    "A `while` loop combines looping and a conditional statement for determining whether looping should continue. It operates similarly to `while` loops in other programming languages. The loop will continue as long as the condition specified in the `while` statement is satisfied:"
   ]
  },
  {
   "cell_type": "code",
   "execution_count": 1,
   "metadata": {},
   "outputs": [
    {
     "name": "stdout",
     "output_type": "stream",
     "text": [
      "5\n",
      "8\n",
      "11\n"
     ]
    }
   ],
   "source": [
    "i=2\n",
    "while i < 10:\n",
    "    # conditions to run\n",
    "    i = i + 3\n",
    "    print(i)"
   ]
  },
  {
   "cell_type": "code",
   "execution_count": 3,
   "metadata": {},
   "outputs": [
    {
     "name": "stdin",
     "output_type": "stream",
     "text": [
      "Enter any number between 100 and 500  600\n"
     ]
    },
    {
     "name": "stdout",
     "output_type": "stream",
     "text": [
      "Incorrect number, Please enter correct number:\n"
     ]
    },
    {
     "name": "stdin",
     "output_type": "stream",
     "text": [
      "Enter a Number between 100 and 500  700\n"
     ]
    },
    {
     "name": "stdout",
     "output_type": "stream",
     "text": [
      "Incorrect number, Please enter correct number:\n"
     ]
    },
    {
     "name": "stdin",
     "output_type": "stream",
     "text": [
      "Enter a Number between 100 and 500  180\n"
     ]
    },
    {
     "name": "stdout",
     "output_type": "stream",
     "text": [
      "Given Number is correct 180\n"
     ]
    }
   ],
   "source": [
    "number = int(input('Enter any number between 100 and 500 '))\n",
    "# number greater than 100 and less than 500\n",
    "while number < 100 or number > 500:\n",
    "    print('Incorrect number, Please enter correct number:')\n",
    "    number = int(input('Enter a Number between 100 and 500 '))\n",
    "else:\n",
    "    print(\"Given Number is correct\", number)"
   ]
  },
  {
   "cell_type": "code",
   "execution_count": 4,
   "metadata": {},
   "outputs": [
    {
     "name": "stdout",
     "output_type": "stream",
     "text": [
      "1\n",
      "4\n",
      "7\n"
     ]
    }
   ],
   "source": [
    "# Iterate over a list using while loop\n",
    "numbers = [1, 2, 4, 5, 7]\n",
    "size = len(numbers)\n",
    "i = 0\n",
    "while i < size:\n",
    "    print(numbers[i])\n",
    "    i = i + 2"
   ]
  },
  {
   "cell_type": "code",
   "execution_count": 9,
   "metadata": {},
   "outputs": [
    {
     "name": "stdout",
     "output_type": "stream",
     "text": [
      "1\n",
      "2\n",
      "3\n",
      "4\n",
      "Skipping 5 (using continue)\n",
      "6\n",
      "7\n",
      "8\n",
      "Exiting loop at 8 (using break)\n",
      "Loop finished!\n"
     ]
    }
   ],
   "source": [
    "# Initialize a counter\n",
    "count = 1\n",
    "# Use a while loop to print numbers from 1 to 10\n",
    "while count <= 10:\n",
    "    if count == 5:\n",
    "        print(\"Skipping 5 (using continue)\")\n",
    "        count += 1\n",
    "        continue  # Skip the rest of the loop body for this iteration\n",
    "    print(count)\n",
    "    if count == 8:\n",
    "        print(\"Exiting loop at 8 (using break)\")\n",
    "        break  # Exit the loop when count reaches 8\n",
    "    count += 1  # Increment the counter\n",
    "print(\"Loop finished!\")"
   ]
  },
  {
   "cell_type": "code",
   "execution_count": 10,
   "metadata": {},
   "outputs": [
    {
     "name": "stdout",
     "output_type": "stream",
     "text": [
      "10\n",
      "9\n",
      "8\n",
      "7\n",
      "6\n",
      "5\n",
      "4\n",
      "3\n",
      "2\n",
      "1\n"
     ]
    }
   ],
   "source": [
    "i = 10\n",
    "\n",
    "while i >= 1:\n",
    "    print(i)\n",
    "    i = i - 1"
   ]
  },
  {
   "cell_type": "markdown",
   "metadata": {
    "user_expressions": []
   },
   "source": [
    "### Functions\n",
    "\n",
    "We have already used built-in functions, like `print()` and `type()`. \n",
    "Sometimes, we will also need to create new functions. As with the built-in functions, \n",
    "user-defined functions can take arguments and can return values. Functions are declared \n",
    "using the Python keyword ```def``` followed by the function name and then parentheses. \n",
    "Inside the parenthesis, list any variables that will receive arguments, separated by commas.  Here is a simple\n",
    "example:"
   ]
  },
  {
   "cell_type": "code",
   "execution_count": 11,
   "metadata": {},
   "outputs": [],
   "source": [
    "def say_hello(name):\n",
    "    print(f'Hello, {name}!')"
   ]
  },
  {
   "cell_type": "markdown",
   "metadata": {
    "user_expressions": []
   },
   "source": [
    "The function name and parameter list are called the *function signature*. User-defined functions are called in the same way as built-in functions:"
   ]
  },
  {
   "cell_type": "code",
   "execution_count": 12,
   "metadata": {},
   "outputs": [
    {
     "name": "stdout",
     "output_type": "stream",
     "text": [
      "Hello, Diwash!\n"
     ]
    }
   ],
   "source": [
    "say_hello('Diwash')"
   ]
  },
  {
   "cell_type": "markdown",
   "metadata": {
    "user_expressions": []
   },
   "source": [
    "Functions can also return values by placing them after the Python `return` keyword. If multiple values are to be returned, they should be separated by commas. If more than one value is returned, it will be returned as a tuple:"
   ]
  },
  {
   "cell_type": "code",
   "execution_count": 14,
   "metadata": {},
   "outputs": [],
   "source": [
    "def square_and_cube(x):\n",
    "    return x ** 2, x ** 3"
   ]
  },
  {
   "cell_type": "code",
   "execution_count": 16,
   "metadata": {},
   "outputs": [
    {
     "data": {
      "text/plain": [
       "(16, 64)"
      ]
     },
     "execution_count": 16,
     "metadata": {},
     "output_type": "execute_result"
    }
   ],
   "source": [
    "square_and_cube(4)"
   ]
  },
  {
   "cell_type": "code",
   "execution_count": 18,
   "metadata": {},
   "outputs": [],
   "source": [
    "def odd_even_check(x):\n",
    "    if (x % 2) == 0:\n",
    "        print(\"Even\")\n",
    "    else:\n",
    "        print(\"Odd\")"
   ]
  },
  {
   "cell_type": "code",
   "execution_count": 19,
   "metadata": {},
   "outputs": [
    {
     "name": "stdout",
     "output_type": "stream",
     "text": [
      "Odd\n"
     ]
    }
   ],
   "source": [
    "odd_even_check(5)"
   ]
  },
  {
   "cell_type": "markdown",
   "metadata": {
    "user_expressions": []
   },
   "source": [
    "When storing returned values from a function into multiple variables, you do not have to explicitly use the parentheses around the tuple of variables. You can just separate the variables by commas, as shown below:"
   ]
  },
  {
   "cell_type": "code",
   "execution_count": null,
   "metadata": {},
   "outputs": [],
   "source": [
    "four2, four3 = square_and_cube(4)"
   ]
  },
  {
   "cell_type": "code",
   "execution_count": null,
   "metadata": {},
   "outputs": [],
   "source": [
    "print(four2, four3)"
   ]
  },
  {
   "cell_type": "markdown",
   "metadata": {
    "user_expressions": []
   },
   "source": [
    "You can also provide a docstring for a function as \n",
    "a string that directly follows the function definition. For example, let's define a function\n",
    "that returns the squared error between its inputs:"
   ]
  },
  {
   "cell_type": "code",
   "execution_count": 20,
   "metadata": {},
   "outputs": [],
   "source": [
    "def squared_error(x, y):\n",
    "    \"\"\"\n",
    "    Returns the squared error \n",
    "    (the squared difference) of the arguments\n",
    "    \"\"\"\n",
    "    return (x - y) ** 2"
   ]
  },
  {
   "cell_type": "code",
   "execution_count": 23,
   "metadata": {},
   "outputs": [
    {
     "data": {
      "text/plain": [
       "4"
      ]
     },
     "execution_count": 23,
     "metadata": {},
     "output_type": "execute_result"
    }
   ],
   "source": [
    "z = squared_error(5, 7)\n",
    "z"
   ]
  },
  {
   "cell_type": "code",
   "execution_count": null,
   "metadata": {},
   "outputs": [],
   "source": [
    "squared_error(2, 3)"
   ]
  },
  {
   "cell_type": "markdown",
   "metadata": {
    "user_expressions": []
   },
   "source": [
    "Python allows you to specify default values for function arguments that will be used if the user does not pass a value for the argument. When defining a function, specify the default value for an argument by writing the parameter name, followed by an equal sign, followed by the default value in the function signature.\n",
    "\n",
    "Let's make a new version of `squared_error` function that sets the default value of `y` to 0:"
   ]
  },
  {
   "cell_type": "code",
   "execution_count": 25,
   "metadata": {},
   "outputs": [],
   "source": [
    "def squared_error2(x, y, z=0):\n",
    "    \"\"\"\n",
    "    Returns the squared error between the two arguments, with a default value of 0\n",
    "    for the second argument\n",
    "    \"\"\"\n",
    "    print(f'x = {x} y = {y} z = {z}')\n",
    "    return (x - y + z) ** 2"
   ]
  },
  {
   "cell_type": "code",
   "execution_count": 26,
   "metadata": {},
   "outputs": [
    {
     "name": "stdout",
     "output_type": "stream",
     "text": [
      "x = 1 y = 2 z = 3\n",
      "x = 5 y = 2 z = 6\n"
     ]
    },
    {
     "data": {
      "text/plain": [
       "81"
      ]
     },
     "execution_count": 26,
     "metadata": {},
     "output_type": "execute_result"
    }
   ],
   "source": [
    "squared_error2(1, 2, 3)\n",
    "squared_error2(y = 2, x = 5, z = 6)"
   ]
  },
  {
   "cell_type": "markdown",
   "metadata": {
    "user_expressions": []
   },
   "source": [
    "If the user passes a value, the default value is not used:"
   ]
  },
  {
   "cell_type": "code",
   "execution_count": 27,
   "metadata": {},
   "outputs": [
    {
     "name": "stdout",
     "output_type": "stream",
     "text": [
      "Name: John salary: 120000\n",
      "Name: Matthew salary: 45000\n"
     ]
    }
   ],
   "source": [
    "# function with default argument\n",
    "def show_employee(name, salary=45000):\n",
    "    print(\"Name:\", name, \"salary:\", salary)\n",
    "\n",
    "show_employee(\"John\", 120000)\n",
    "show_employee(\"Matthew\")"
   ]
  },
  {
   "cell_type": "code",
   "execution_count": null,
   "metadata": {},
   "outputs": [],
   "source": [
    "squared_error2(2, 3)"
   ]
  },
  {
   "cell_type": "markdown",
   "metadata": {
    "user_expressions": []
   },
   "source": [
    "Note that we can use the names of the parameters (instead of parameter order) to pass values to those parameters. This is very commonly used in functions that have lots of parameters that are optional."
   ]
  },
  {
   "cell_type": "code",
   "execution_count": null,
   "metadata": {},
   "outputs": [],
   "source": [
    "squared_error2(y=2, x=3)"
   ]
  },
  {
   "cell_type": "markdown",
   "metadata": {
    "user_expressions": []
   },
   "source": [
    "Parameters can be passed using a mix of order and parameter names. However, any parameters passed by order must come before those passed by name."
   ]
  },
  {
   "cell_type": "markdown",
   "metadata": {
    "user_expressions": []
   },
   "source": [
    "We will see in the next section how to get help on a function."
   ]
  },
  {
   "cell_type": "markdown",
   "metadata": {
    "user_expressions": []
   },
   "source": [
    "### Getting Help and Completion\n",
    "\n",
    "Python has built-in help for almost every function and object. This help can be retrieved in several ways. For instance, consider the built-in `sum` command. Here are several ways to get help in Jupyter:"
   ]
  },
  {
   "cell_type": "code",
   "execution_count": null,
   "metadata": {},
   "outputs": [],
   "source": [
    "help(sum)"
   ]
  },
  {
   "cell_type": "code",
   "execution_count": null,
   "metadata": {},
   "outputs": [],
   "source": [
    "?sum"
   ]
  },
  {
   "cell_type": "code",
   "execution_count": null,
   "metadata": {},
   "outputs": [],
   "source": [
    "?append"
   ]
  },
  {
   "cell_type": "markdown",
   "metadata": {
    "user_expressions": []
   },
   "source": [
    "For user-defined functions, 'help' will display the docstring you wrote. The following assumes that you have defined the function `squared_errors` from Section {ref}`python-intro:functions`:"
   ]
  },
  {
   "cell_type": "code",
   "execution_count": null,
   "metadata": {},
   "outputs": [],
   "source": [
    "?squared_error"
   ]
  },
  {
   "cell_type": "markdown",
   "metadata": {
    "user_expressions": []
   },
   "source": [
    "If a function's Python source code is available, it can be retrieved in Jupyter using `??`:"
   ]
  },
  {
   "cell_type": "code",
   "execution_count": null,
   "metadata": {},
   "outputs": [],
   "source": [
    "??squared_error"
   ]
  },
  {
   "cell_type": "markdown",
   "metadata": {
    "user_expressions": []
   },
   "source": [
    "Now, let's look at the help for a variable. "
   ]
  },
  {
   "cell_type": "code",
   "execution_count": null,
   "metadata": {},
   "outputs": [],
   "source": [
    "squares = {1: 1, 2: 4, 3: 9, 4: 16}"
   ]
  },
  {
   "cell_type": "code",
   "execution_count": null,
   "metadata": {},
   "outputs": [],
   "source": [
    "?squares"
   ]
  },
  {
   "cell_type": "markdown",
   "metadata": {
    "user_expressions": []
   },
   "source": [
    "You should also try `help(x)`, but I have omitted that because it provides help for every method of the `dict` object, which results in a lot of output.\n",
    "\n",
    "You can also try `help()` with no argument to get an interactive help session."
   ]
  },
  {
   "cell_type": "markdown",
   "metadata": {
    "user_expressions": []
   },
   "source": [
    "Jupyter also provides many features to help you during programming. Assuming you have run the command defining `squares` above, try the following in a new Jupyter notebook cell:\n",
    "1. Type `sum(`. When you type the open parenthesis, Jupyter should automatically insert a pair of parentheses. \n",
    "2. Press `shift-Tab`. You should see the call signature and doc string for the `sum` function in a pop-over box. You can press the `Esc` key to close the pop-over box. \n",
    "3. Type `sq` and press `Tab`. You should see a list of variables and functions that begin with `sq`. Use the cursor keys to scroll to `squares` and press `Enter` to insert it without having to type the full name of the squares dictionary.\n",
    "4. Let's sum the values in the `squares` dictionary. Type a period and then press `Tab` again to see a list of methods for a `dict` object. Select `values` using the keyboard or mouse.\n",
    "5. Don't forget that we need parentheses to call the `values` method. Press `(` and a pair of parentheses should appear.\n",
    "6. Press `shift-Enter` to run the cell."
   ]
  },
  {
   "cell_type": "code",
   "execution_count": null,
   "metadata": {},
   "outputs": [],
   "source": [
    "sum(squares.values())"
   ]
  },
  {
   "cell_type": "markdown",
   "metadata": {
    "user_expressions": []
   },
   "source": [
    "### Python Modules and Namespaces"
   ]
  },
  {
   "cell_type": "markdown",
   "metadata": {
    "user_expressions": []
   },
   "source": [
    "Python has many useful modules that extend Python's basic functionality. Some of these are included with the base Python distribution, and many others are included in the Anaconda distribution. Many more can be installed over the Internet. \n",
    "\n",
    "To use a module, you must import it into your Python working environment. The most basic way to do this is to type `import` followed by the name of the module to be imported:"
   ]
  },
  {
   "cell_type": "code",
   "execution_count": 36,
   "metadata": {},
   "outputs": [],
   "source": [
    "import numpy\n",
    "import pandas"
   ]
  },
  {
   "cell_type": "markdown",
   "metadata": {
    "user_expressions": []
   },
   "source": [
    "Here we have imported NumPy (usually pronounced \"Numb Pie\"), one of the most important Python modules for working with numerical functions and arrays. When a module is imported, its functions and classes will be available in Python, but they are imported into their own *namespace*. To access something in a different namespace, type the name of the namespace, followed by a period, followed by the name of the thing you are trying to access.\n",
    "\n",
    "For instance, the value of $\\pi$ is a constant object named `pi` in NumPy. Now that we have imported NumPy, we can access that value:"
   ]
  },
  {
   "cell_type": "code",
   "execution_count": 37,
   "metadata": {},
   "outputs": [
    {
     "name": "stdout",
     "output_type": "stream",
     "text": [
      "3.141592653589793\n"
     ]
    }
   ],
   "source": [
    "print(numpy.pi)"
   ]
  },
  {
   "cell_type": "markdown",
   "metadata": {
    "user_expressions": []
   },
   "source": [
    "NumPy has many typical mathematical functions, which we can call using the `numpy` namespace:"
   ]
  },
  {
   "cell_type": "code",
   "execution_count": 38,
   "metadata": {},
   "outputs": [
    {
     "data": {
      "text/plain": [
       "0.7071067811865476"
      ]
     },
     "execution_count": 38,
     "metadata": {},
     "output_type": "execute_result"
    }
   ],
   "source": [
    "numpy.sin(numpy.pi / 4)"
   ]
  },
  {
   "cell_type": "code",
   "execution_count": null,
   "metadata": {},
   "outputs": [],
   "source": [
    "numpy.sqrt(2) / 2"
   ]
  },
  {
   "cell_type": "markdown",
   "metadata": {
    "user_expressions": []
   },
   "source": [
    "We can control the namespace into which the contents of a module is imported. Because many modules, like NumPy, are commonly used, the community often uses community-standardized namespaces that are shorter than the full module name. To do this, type `import`, followed by the module name, followed by the `as` keyword, followed by the desired namespace. \n",
    "\n",
    "For NumPy, the data science community typically uses `np`, so the import statement is as follows:"
   ]
  },
  {
   "cell_type": "code",
   "execution_count": 32,
   "metadata": {},
   "outputs": [],
   "source": [
    "import numpy as np\n",
    "import pandas as pd"
   ]
  },
  {
   "cell_type": "code",
   "execution_count": 33,
   "metadata": {},
   "outputs": [
    {
     "name": "stdout",
     "output_type": "stream",
     "text": [
      "3.141592653589793\n"
     ]
    }
   ],
   "source": [
    "print(np.pi)"
   ]
  },
  {
   "cell_type": "markdown",
   "metadata": {
    "user_expressions": []
   },
   "source": [
    "```{warning}\n",
    "It is possible to import the contents of a module into the *global* namespace, which means that the namespace does not have to be specified before each function, class, or object. However, this practice is strongly discouraged because it often results in conflicts. For instance, both Matplotlib (a plotting module) and SymPy (a symbolic algebra module) have a `plot` function. If you were to import both `matplotlib` and `sympy` into the global namespace, you could not be sure which `plot` you were calling, unless you kept track of which module was imported last.\n",
    "```\n"
   ]
  },
  {
   "cell_type": "markdown",
   "metadata": {
    "user_expressions": []
   },
   "source": [
    "Importing into namespaces is a good practice. However, on occasion, it may be helpful to import just a single function from a module, and in this case, it is reasonable to import it into the global namespace if we can be confident that there will not be any collisions. An example follows:"
   ]
  },
  {
   "cell_type": "code",
   "execution_count": 28,
   "metadata": {},
   "outputs": [],
   "source": [
    "from scipy.special import factorial"
   ]
  },
  {
   "cell_type": "code",
   "execution_count": 30,
   "metadata": {},
   "outputs": [
    {
     "data": {
      "text/plain": [
       "120.0"
      ]
     },
     "execution_count": 30,
     "metadata": {},
     "output_type": "execute_result"
    }
   ],
   "source": [
    "factorial(5)"
   ]
  },
  {
   "cell_type": "markdown",
   "metadata": {
    "user_expressions": []
   },
   "source": [
    "Why is factorial returning a float? Let's check the docstring:"
   ]
  },
  {
   "cell_type": "code",
   "execution_count": 32,
   "metadata": {},
   "outputs": [],
   "source": [
    "?factorial"
   ]
  },
  {
   "cell_type": "markdown",
   "metadata": {
    "user_expressions": []
   },
   "source": [
    "By inspecting the docstring, we can see that if we want the exact value, we need to set the parameter `exact` to True. This is typically done using the parameter name because anyone reading the function call will understand what the value of `True` is being used for:"
   ]
  },
  {
   "cell_type": "code",
   "execution_count": null,
   "metadata": {},
   "outputs": [],
   "source": [
    "factorial(10, exact=True)"
   ]
  },
  {
   "cell_type": "markdown",
   "metadata": {
    "tags": [],
    "user_expressions": []
   },
   "source": [
    "#### NumPy Arrays\n",
    "\n",
    "NumPy provides a `numpy.ndarray` container for holding one-dimensional or multi-dimensional collections of numbers. Most engineers will have some familiarity with vectors or matrices.  For our purposes, we will use the following definitions of these mathematical objects:\n",
    "\n",
    "````{card}\n",
    "DEFINITION\n",
    "^^^\n",
    "```{glossary}\n",
    "vector\n",
    "    A one-dimensional, ordered list of numbers that has an accompanying notion of magnitude of a vector and distance between two vectors. \n",
    "```\n",
    "````\n",
    "\n",
    "Vectors are usually shown enclosed in square brackets. When writing as mathematics notation, we will use bold, lowercase letters to denote a vector. In mathematics, a vector may either be a *column vector* or a *row vector*. If not otherwise specified, *vector* will refer to a column vector; for instance, here is an example of defining a vector of the first five counting numbers:\n",
    "\n",
    "$$\n",
    "\\mathbf{x} =\n",
    "\\begin{bmatrix}\n",
    "1 \\\\\n",
    "2 \\\\\n",
    "3 \\\\\n",
    "4 \\\\\n",
    "5 \\\\\n",
    "\\end{bmatrix}.\n",
    "%\\mathbf{x} = \\left[ 1,2,3,4,5 \\right].\n",
    "$$\n",
    "\n",
    "NumPy vectors do not have any notion of direction (column or row) but are usually displayed as a row and are interpreted as a row by some NumPy operations. To make a NumPy vector, call `np.array()` with the vector elements enclosed in square brackets and separated by commas:\n",
    "\n"
   ]
  },
  {
   "cell_type": "code",
   "execution_count": 34,
   "metadata": {},
   "outputs": [
    {
     "data": {
      "text/plain": [
       "array([[1, 2, 3, 4, 5],\n",
       "       [1, 2, 3, 4, 5]])"
      ]
     },
     "execution_count": 34,
     "metadata": {},
     "output_type": "execute_result"
    }
   ],
   "source": [
    "x = np.array([[1, 2, 3, 4, 5], [1, 2, 3, 4, 5]])\n",
    "x"
   ]
  },
  {
   "cell_type": "markdown",
   "metadata": {
    "user_expressions": []
   },
   "source": [
    "Arrays extend the concept of a vector to multiple dimensions:\n",
    "\n",
    "````{card}\n",
    "DEFINITION\n",
    "^^^\n",
    "```{glossary} \n",
    "array\n",
    "    A multi-dimensional table of numbers that supports a standard set of operations, including multiplication of matrices.  \n",
    "\n",
    "\n",
    "````{card}\n",
    "DEFINITION\n",
    "^^^\n",
    "```{glossary}\n",
    "matrix\n",
    "    An alternate term for a two-dimensional array.\n",
    "```\n",
    "````"
   ]
  },
  {
   "cell_type": "markdown",
   "metadata": {
    "user_expressions": []
   },
   "source": [
    "Note that an array can have one dimension, in which case it is a vector; in such cases, I will always refer to it as a vector. I will use *array* for higher dimensions, even though we will generally only consider two-dimensional arrays. Mathematically, two-dimensional arrays are shown as a table of numbers, organized into rows and columns, and enclosed in large square brackets.  For example, the array below has rows that contain consecutive powers (1, 2, and 3) of the first five elements:\n",
    "\n",
    "$$\n",
    "\\begin{bmatrix}\n",
    "1 &2 &3 &4 &5 \\\\\n",
    "1 & 4 & 9 & 16 & 25 \\\\\n",
    "1 & 8 & 27 & 64 & 125 \\\\\n",
    "\\end{bmatrix}\n",
    "$$\n",
    "\n",
    "\n",
    "Arrays are very helpful for doing basic data manipulation and storing numerical values for simulations, so we review some basics here.\n",
    "\n",
    "In Python, arrays can be created using NumPy's `np.array()` function.\n",
    "Two-dimensional arrays can be created by passing a list  whose contents are equal-length lists of numbers. Each of the interior lists of numbers represents one row of the array. This will be most clear with an example:"
   ]
  },
  {
   "cell_type": "code",
   "execution_count": 37,
   "metadata": {},
   "outputs": [
    {
     "data": {
      "text/plain": [
       "array([[1, 2, 3, 4],\n",
       "       [8, 7, 6, 5]])"
      ]
     },
     "execution_count": 37,
     "metadata": {},
     "output_type": "execute_result"
    }
   ],
   "source": [
    "B = np.array(\n",
    "  [[1, 2, 3, 4],\n",
    "   [8, 7, 6, 5]]\n",
    ")\n",
    "\n",
    "B"
   ]
  },
  {
   "cell_type": "markdown",
   "metadata": {
    "user_expressions": []
   },
   "source": [
    "NumPy arrays offer many advantages over lists. Two primary ones are:\n",
    "1. It is easy to perform numerical operations on the elements of NumPy arrays.\n",
    "2. NumPy arrays provide a variety of built-in methods that we will find useful.\n",
    "\n",
    "To illustrate these, consider the array $B$ defined above and a Python `list` $L$ containing the same numbers:"
   ]
  },
  {
   "cell_type": "code",
   "execution_count": 38,
   "metadata": {},
   "outputs": [],
   "source": [
    "L = [1, 2, 3, 4]"
   ]
  },
  {
   "cell_type": "markdown",
   "metadata": {
    "user_expressions": []
   },
   "source": [
    "The NumPy array makes it easy to multiply all the elements in the array by a value:"
   ]
  },
  {
   "cell_type": "code",
   "execution_count": 39,
   "metadata": {},
   "outputs": [
    {
     "data": {
      "text/plain": [
       "array([[ 5, 10, 15, 20],\n",
       "       [40, 35, 30, 25]])"
      ]
     },
     "execution_count": 39,
     "metadata": {},
     "output_type": "execute_result"
    }
   ],
   "source": [
    "B * 5"
   ]
  },
  {
   "cell_type": "markdown",
   "metadata": {
    "user_expressions": []
   },
   "source": [
    "Compare the result with the effect of the multiplication operator on a list:"
   ]
  },
  {
   "cell_type": "code",
   "execution_count": 40,
   "metadata": {},
   "outputs": [
    {
     "data": {
      "text/plain": [
       "[1, 2, 3, 4, 1, 2, 3, 4, 1, 2, 3, 4, 1, 2, 3, 4, 1, 2, 3, 4]"
      ]
     },
     "execution_count": 40,
     "metadata": {},
     "output_type": "execute_result"
    }
   ],
   "source": [
    "L * 5"
   ]
  },
  {
   "cell_type": "markdown",
   "metadata": {
    "user_expressions": []
   },
   "source": [
    "An example of a built-in method is `sum()`:"
   ]
  },
  {
   "cell_type": "code",
   "execution_count": 41,
   "metadata": {},
   "outputs": [
    {
     "data": {
      "text/plain": [
       "36"
      ]
     },
     "execution_count": 41,
     "metadata": {},
     "output_type": "execute_result"
    }
   ],
   "source": [
    "B.sum()"
   ]
  },
  {
   "cell_type": "markdown",
   "metadata": {
    "user_expressions": []
   },
   "source": [
    "The Python `list` object does not have a built-in `sum()` method, but Python does offer a general `sum` function:"
   ]
  },
  {
   "cell_type": "code",
   "execution_count": 42,
   "metadata": {},
   "outputs": [
    {
     "ename": "AttributeError",
     "evalue": "'list' object has no attribute 'sum'",
     "output_type": "error",
     "traceback": [
      "\u001b[1;31m---------------------------------------------------------------------------\u001b[0m",
      "\u001b[1;31mAttributeError\u001b[0m                            Traceback (most recent call last)",
      "Cell \u001b[1;32mIn[42], line 1\u001b[0m\n\u001b[1;32m----> 1\u001b[0m \u001b[43mL\u001b[49m\u001b[38;5;241;43m.\u001b[39;49m\u001b[43msum\u001b[49m()\n",
      "\u001b[1;31mAttributeError\u001b[0m: 'list' object has no attribute 'sum'"
     ]
    }
   ],
   "source": [
    "L.sum()"
   ]
  },
  {
   "cell_type": "code",
   "execution_count": 43,
   "metadata": {},
   "outputs": [
    {
     "data": {
      "text/plain": [
       "10"
      ]
     },
     "execution_count": 43,
     "metadata": {},
     "output_type": "execute_result"
    }
   ],
   "source": [
    "sum(L)"
   ]
  },
  {
   "cell_type": "markdown",
   "metadata": {
    "user_expressions": []
   },
   "source": [
    "We will introduce other methods of the `array` type and other NumPy functions that work on and/or return arrays as we introduce more data-science techniques. "
   ]
  },
  {
   "cell_type": "markdown",
   "metadata": {
    "user_expressions": []
   },
   "source": [
    "### Numerical Errors and Rounding"
   ]
  },
  {
   "cell_type": "markdown",
   "metadata": {
    "user_expressions": []
   },
   "source": [
    "Python is not able to store all numbers exactly internally, and mathematical operations on numbers can also produce numerical errors. Let's illustrate this with a simple example:"
   ]
  },
  {
   "cell_type": "code",
   "execution_count": null,
   "metadata": {},
   "outputs": [],
   "source": [
    "3*0.1"
   ]
  },
  {
   "cell_type": "markdown",
   "metadata": {
    "user_expressions": []
   },
   "source": [
    "Based on this, you might conclude that the internal representation of 0.1 is actually a little larger than 0.1, and answers involving sums or multiples of 0.1 might sometimes come out a little too large. However, the truth is much more subtle, as shown by this example:"
   ]
  },
  {
   "cell_type": "code",
   "execution_count": null,
   "metadata": {},
   "outputs": [],
   "source": [
    "sum=0\n",
    "for i in range(8):\n",
    "  sum+=0.1\n",
    "  print(sum)"
   ]
  },
  {
   "cell_type": "markdown",
   "metadata": {
    "user_expressions": []
   },
   "source": [
    "These are *computational errors*, and we will occasionally round the outputs of functions to reveal the true values. We can use the NumPy function `np.round()`, which takes two arguments: 1) the number or array to be rounded, and 2) the number of digits of precision to preserve:"
   ]
  },
  {
   "cell_type": "code",
   "execution_count": null,
   "metadata": {},
   "outputs": [],
   "source": [
    "sum=0\n",
    "for i in range(8):\n",
    "  sum+=0.1\n",
    "  print(np.round(sum, 10) )"
   ]
  },
  {
   "cell_type": "markdown",
   "metadata": {
    "user_expressions": []
   },
   "source": [
    "I will generally round to 10 digits of precision, as that is usually enough to remove any computational error while preserving any decimal values that are not caused by computational error."
   ]
  },
  {
   "cell_type": "markdown",
   "metadata": {
    "user_expressions": []
   },
   "source": [
    "### Writing Big Numbers in Python\n",
    "\n",
    "We will be building simulations in Python that require looping thousands or millions of times. Thus, we will often be writing a `range` that has an argument with many zeros. The `range` function will not take a `float` value, and numbers written in scientific notation (like `1e6`) will be treated as floats. This results in using integers that are very hard to read, like 10000000. We can't use commas in the numbers because that would create a tuple:\n"
   ]
  },
  {
   "cell_type": "code",
   "execution_count": null,
   "metadata": {},
   "outputs": [],
   "source": [
    "10, 000, 000"
   ]
  },
  {
   "cell_type": "markdown",
   "metadata": {
    "user_expressions": []
   },
   "source": [
    "Fortunately, Python provides a simple way to make large numbers like these more readable. Instead of using commas as a delimiter between every third digit, use underscores (\\_). Doing this makes it much easier to interpret large numbers, like ten million:"
   ]
  },
  {
   "cell_type": "code",
   "execution_count": null,
   "metadata": {},
   "outputs": [],
   "source": [
    "10_000_000"
   ]
  },
  {
   "cell_type": "markdown",
   "metadata": {
    "user_expressions": []
   },
   "source": [
    "### Additional Resources\n",
    "\n",
    "For those who want to learn more about Python, the following resources are recommended:\n",
    "* [*A Whirlwind Tour of Python* (https://jakevdp.github.io/WhirlwindTourOfPython/)](https://jakevdp.github.io/WhirlwindTourOfPython/) by Jake VanderPlas is a free eBook that covers all the major syntax and features of Python.\n",
    "* [Learn Python for Free (https://scrimba.com/learn/python)](https://scrimba.com/learn/python) is a free 5-hour online introduction to Python (signup required).\n",
    "* The Python documentation includes a [Python Tutorial (https://docs.python.org/3/tutorial/)](https://docs.python.org/3/tutorial/)."
   ]
  },
  {
   "cell_type": "markdown",
   "metadata": {
    "user_expressions": []
   },
   "source": [
    "## Review\n",
    "\n",
    "**Self-Assessment:**\n",
    "\n",
    "The following questions can be used to check your understanding of the material covered in this section:"
   ]
  },
  {
   "cell_type": "code",
   "execution_count": 50,
   "metadata": {
    "editable": true,
    "slideshow": {
     "slide_type": ""
    },
    "tags": [
     "remove-input"
    ]
   },
   "outputs": [],
   "source": [
    "# from jupyterquiz import display_quiz\n",
    "\n",
    "# git_url='https://raw.githubusercontent.com/jmshea/Foundations-of-Data-Science-with-Python/main/'\n",
    "# file = '01-intro/questions/6-intro-jupyter-and-python.json'\n",
    "# display_quiz(git_url+file, colors='fdsp')\n",
    "# #display_quiz('questions/intro-jupyter-and-python.json', colors='fdsp')"
   ]
  }
 ],
 "metadata": {
  "celltoolbar": "Slideshow",
  "finalized": {
   "timestamp": 1610567379588,
   "trusted": true
  },
  "kernelspec": {
   "display_name": "Python 3 (ipykernel)",
   "language": "python",
   "name": "python3"
  },
  "language_info": {
   "codemirror_mode": {
    "name": "ipython",
    "version": 3
   },
   "file_extension": ".py",
   "mimetype": "text/x-python",
   "name": "python",
   "nbconvert_exporter": "python",
   "pygments_lexer": "ipython3",
   "version": "3.12.3"
  }
 },
 "nbformat": 4,
 "nbformat_minor": 4
}
