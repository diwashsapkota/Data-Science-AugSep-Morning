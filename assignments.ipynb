{
 "cells": [
  {
   "cell_type": "code",
   "execution_count": 1,
   "id": "2b5e6d4a-fe58-495d-a897-5412da570c23",
   "metadata": {},
   "outputs": [
    {
     "name": "stdout",
     "output_type": "stream",
     "text": [
      "P 1\n",
      "r 2\n",
      "1 1\n",
      "X 3\n",
      "@ 1\n",
      "% 2\n",
      "@ 3\n",
      "2 2\n",
      "4 3\n",
      "A 4\n",
      "c 5\n",
      "& 4\n",
      "d 6\n",
      "3 4\n",
      "m 7\n",
      "Y 8\n",
      "Letters = 8\n",
      "Digits = 4\n",
      "Special symbols = 4\n"
     ]
    }
   ],
   "source": [
    "# 1. Count all letters, digits, and special symbols from a given string (eg: Pr1X@%@24Ac&d3mY)\n",
    "input_string = 'Pr1X@%@24Ac&d3mY'\n",
    "\n",
    "# Initialize counters\n",
    "letters = digits = symbols = 0\n",
    "\n",
    "# Iterate through each character in the string\n",
    "for char in input_string:\n",
    "    if char.isalpha():\n",
    "        letters = (letters + 1)\n",
    "        print(char, letters)\n",
    "    elif char.isdigit():\n",
    "        digits = (digits + 1)\n",
    "        print(char, digits)\n",
    "    else:\n",
    "        symbols = (symbols + 1)\n",
    "        print(char, symbols)\n",
    "\n",
    "# Print the results\n",
    "print(\"Letters =\", letters)\n",
    "print(\"Digits =\", digits)\n",
    "print(\"Special symbols =\", symbols)"
   ]
  },
  {
   "cell_type": "code",
   "execution_count": 2,
   "id": "587f81d6-3779-473c-af8e-7beadd597c88",
   "metadata": {},
   "outputs": [
    {
     "name": "stdout",
     "output_type": "stream",
     "text": [
      "this is a sample sentence. is it working? yes, it is !\n",
      "['this', 'is', 'a', 'sample', 'sentence.', 'is', 'it', 'working?', 'yes,', 'it', 'is', '!']\n",
      "Occurrences of 'is': 3\n"
     ]
    }
   ],
   "source": [
    "# 2. Write a program to find all occurrences of the word “is” in a given string ignoring the case. \n",
    "\n",
    "input_text = \"This is a sample sentence. IS it working? Yes, it is !\"\n",
    "\n",
    "# Convert the entire text to lowercase for case-insensitive comparison\n",
    "text_lower = input_text.lower()\n",
    "print(text_lower)\n",
    "\n",
    "# Split the text into words\n",
    "words = text_lower.split()\n",
    "print(words)\n",
    "\n",
    "# Initialize a counter for occurrences of \"is\"\n",
    "is_count = 0\n",
    "find_word = 'is'\n",
    "\n",
    "# Check each word\n",
    "for word in words:\n",
    "    if word == find_word:\n",
    "        is_count += 1\n",
    "\n",
    "print(f\"Occurrences of 'is': {is_count}\")"
   ]
  },
  {
   "cell_type": "code",
   "execution_count": 1,
   "id": "7a0667ec-40b4-46dd-8849-990a2d619ba6",
   "metadata": {},
   "outputs": [
    {
     "name": "stdout",
     "output_type": "stream",
     "text": [
      "3 20\n",
      "[5, 10, 15, 200, 25, 50, 20]\n"
     ]
    }
   ],
   "source": [
    "'''\n",
    "3. You have given a Python list. Write a program to find value 20 in the list, \n",
    "and if it is present, replace it with 200. Only update the first occurrence of an item.\n",
    "'''\n",
    "my_list = [5, 10, 15, 20, 25, 50, 20]\n",
    "\n",
    "# Find the index of the first occurrence of 20\n",
    "if 20 in my_list:\n",
    "    i = my_list.index(20)\n",
    "    print(i, my_list[i])\n",
    "    my_list[i] = 200\n",
    "\n",
    "print(my_list)"
   ]
  },
  {
   "cell_type": "code",
   "execution_count": 4,
   "id": "2fccba06-8e00-447d-9fe0-cc2149783acc",
   "metadata": {},
   "outputs": [
    {
     "name": "stdin",
     "output_type": "stream",
     "text": [
      "Enter a string:  a\n"
     ]
    },
    {
     "name": "stdout",
     "output_type": "stream",
     "text": [
      "True\n",
      "'a' is a palindrome.\n"
     ]
    }
   ],
   "source": [
    "# 4. Check whether the input string is palindrome or not\n",
    "def is_palindrome(s):\n",
    "    \"\"\"\n",
    "    Checks if a given string is a palindrome.\n",
    "    \"\"\"\n",
    "    # Remove spaces and convert to lowercase\n",
    "    s = s.replace(\" \", \"\").lower()\n",
    "    a = (s == s[::-1])\n",
    "    print(a)\n",
    "    # Compare the original string with its reverse\n",
    "    return a\n",
    "\n",
    "# Example usage:\n",
    "user_input = input(\"Enter a string: \")\n",
    "if is_palindrome(user_input):\n",
    "    print(f\"'{user_input}' is a palindrome.\")\n",
    "else:\n",
    "    print(f\"'{user_input}' is not a palindrome.\")\n",
    "\n",
    "# Eg: No lemon, no melon"
   ]
  },
  {
   "cell_type": "code",
   "execution_count": 5,
   "id": "a168f6b9-58b8-4d11-b3c5-60b3b28349a9",
   "metadata": {},
   "outputs": [
    {
     "name": "stdin",
     "output_type": "stream",
     "text": [
      "Enter a positive integer:  5\n"
     ]
    },
    {
     "name": "stdout",
     "output_type": "stream",
     "text": [
      "5 is a prime number.\n"
     ]
    }
   ],
   "source": [
    "# 5. Check if the number entered by the user is prime or not\n",
    "\n",
    "def is_prime(number):\n",
    "    \"\"\"\n",
    "    Checks if a given number is prime.\n",
    "    \"\"\"\n",
    "    if number <= 1:\n",
    "        return False \n",
    "\n",
    "    for divisor in range(2, int(number**0.5) + 1):\n",
    "        if number % divisor == 0:\n",
    "            return False  \n",
    "\n",
    "    return True \n",
    "\n",
    "user_input = int(input(\"Enter a positive integer: \"))\n",
    "if is_prime(user_input):\n",
    "    print(f\"{user_input} is a prime number.\")\n",
    "else:\n",
    "    print(f\"{user_input} is not a prime number.\")"
   ]
  },
  {
   "cell_type": "code",
   "execution_count": 10,
   "id": "e39636f6-5667-497b-aafb-27ca6d040242",
   "metadata": {},
   "outputs": [
    {
     "name": "stdin",
     "output_type": "stream",
     "text": [
      "Enter the email to check:  abc.aa@gm.co\n"
     ]
    },
    {
     "name": "stdout",
     "output_type": "stream",
     "text": [
      "abc.aa@gm.co is a valid email address.\n"
     ]
    }
   ],
   "source": [
    "import re\n",
    "\n",
    "def validate_email(email):\n",
    "    pattern = r\"([A-Za-z0-9]+[._-])*[A-Za-z0-9]+@[A-Za-z0-9-]+(\\.[A-Za-z]{2,})+\"\n",
    "    return re.match(pattern, email) is not None\n",
    "\n",
    "# Example usage:\n",
    "email_to_check = input(\"Enter the email to check: \")\n",
    "if validate_email(email_to_check):\n",
    "    print(f\"{email_to_check} is a valid email address.\")\n",
    "else:\n",
    "    print(f\"{email_to_check} is not a valid email address.\")\n"
   ]
  },
  {
   "cell_type": "code",
   "execution_count": null,
   "id": "6f3398a6-18a2-4f76-9be4-fea662ae5ea0",
   "metadata": {},
   "outputs": [],
   "source": [
    "class Person:\n",
    "    def __init__(self, name, age):\n",
    "        self.name = name\n",
    "        self.age = age\n",
    "\n",
    "    def introduce(self):\n",
    "        print(f\"Hello, I am {self.name} and I am {self.age} years old.\")\n",
    "\n",
    "class Author(Person):\n",
    "    def __init__(self, name, age, genre):\n",
    "        super().__init__(name, age)\n",
    "        self.genre = genre\n",
    "\n",
    "    def introduce(self):\n",
    "        print(f\"I am {self.name}, an author specializing in {self.genre} books.\")\n",
    "\n",
    "class Actor(Person):\n",
    "    def __init__(self, name, age, role):\n",
    "        super().__init__(name, age)\n",
    "        self.role = role\n",
    "\n",
    "    def introduce(self):\n",
    "        print(f\"I'm {self.name}, an actor known for my role as {self.role}.\")\n",
    "\n",
    "# Example usage:\n",
    "person1 = Person(\"John\", 30)\n",
    "author1 = Author(\"Jane\", 45, \"Mystery\")\n",
    "actor1 = Actor(\"Tom\", 28, \"Detective\")\n",
    "\n",
    "person1.introduce()\n",
    "author1.introduce()\n",
    "actor1.introduce()"
   ]
  }
 ],
 "metadata": {
  "kernelspec": {
   "display_name": "Python 3 (ipykernel)",
   "language": "python",
   "name": "python3"
  },
  "language_info": {
   "codemirror_mode": {
    "name": "ipython",
    "version": 3
   },
   "file_extension": ".py",
   "mimetype": "text/x-python",
   "name": "python",
   "nbconvert_exporter": "python",
   "pygments_lexer": "ipython3",
   "version": "3.12.3"
  }
 },
 "nbformat": 4,
 "nbformat_minor": 5
}
