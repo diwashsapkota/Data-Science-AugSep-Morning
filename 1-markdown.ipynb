{
 "cells": [
  {
   "cell_type": "markdown",
   "id": "ba31b1b9-1245-4e08-b362-6cf14faa9425",
   "metadata": {},
   "source": [
    "# Introduction"
   ]
  },
  {
   "cell_type": "markdown",
   "id": "f499031d-10a7-49ee-a1ac-abc38deeab9b",
   "metadata": {},
   "source": [
    "### Heading 2"
   ]
  },
  {
   "cell_type": "markdown",
   "id": "64d971f3-f2c8-46b2-b16c-e12ba841dfb9",
   "metadata": {},
   "source": [
    "**This is a bold text.** \n",
    "\n",
    "*This is italic text.*\n",
    "\n",
    "***This is both bold and italic***\n"
   ]
  },
  {
   "cell_type": "markdown",
   "id": "7852db9f-bb5a-4d9f-b647-6c89de7f9178",
   "metadata": {},
   "source": [
    "This is a normal text."
   ]
  },
  {
   "cell_type": "code",
   "execution_count": 6,
   "id": "669bcf74-f86e-4120-bba2-b10c1fb0bab8",
   "metadata": {},
   "outputs": [
    {
     "name": "stdout",
     "output_type": "stream",
     "text": [
      "Hello World\n"
     ]
    }
   ],
   "source": [
    "print('Hello World')"
   ]
  },
  {
   "cell_type": "markdown",
   "id": "177a9ccb-12c1-4af1-8589-f2d4cf044225",
   "metadata": {},
   "source": [
    "### Another Heading 2"
   ]
  },
  {
   "cell_type": "markdown",
   "id": "db6595b9-7113-426b-ac45-f5e59988f349",
   "metadata": {},
   "source": [
    "* Item 1\n",
    "    * Item 0\n",
    "    * Item 1.1\n",
    "    * Item 1.2\n",
    "    \n",
    "* Item 2"
   ]
  },
  {
   "cell_type": "markdown",
   "id": "b433bc1b-ee81-4e42-ba5a-57d1298c7f22",
   "metadata": {},
   "source": [
    "<pre>\n",
    "0. Item 1\n",
    "    1. Item 1.1\n",
    "    1. Item 1.2\n",
    "2. Item 2\n",
    "</pre>"
   ]
  },
  {
   "cell_type": "markdown",
   "id": "859949cb-d3dc-4a07-aed6-bee414c2f71e",
   "metadata": {},
   "source": [
    "[Example link](https://google.com)"
   ]
  },
  {
   "cell_type": "markdown",
   "id": "c598d320-3ad2-4056-bd63-57613891144d",
   "metadata": {},
   "source": [
    "![alt text for screen readers](./images/numpy-car-photo.png \"Text to show on mouseover\")"
   ]
  },
  {
   "cell_type": "markdown",
   "id": "030ac0bc-9c5d-4724-8e5d-22490bd718f7",
   "metadata": {},
   "source": [
    "![demoimage](./images/demoimage.jpg \"Image of the day\")"
   ]
  },
  {
   "cell_type": "code",
   "execution_count": 13,
   "id": "71e2cb61-f039-46ed-81ca-bce18a92b3bf",
   "metadata": {
    "scrolled": true
   },
   "outputs": [
    {
     "data": {
      "text/plain": [
       "'C:\\\\Users\\\\diwas'"
      ]
     },
     "execution_count": 13,
     "metadata": {},
     "output_type": "execute_result"
    }
   ],
   "source": [
    "%pwd"
   ]
  },
  {
   "cell_type": "code",
   "execution_count": 14,
   "id": "51576fcf-929c-4154-9427-82f4ca66e3ed",
   "metadata": {},
   "outputs": [
    {
     "name": "stdout",
     "output_type": "stream",
     "text": [
      "Hello Tuesday\n"
     ]
    }
   ],
   "source": [
    "print('Hello Tuesday')"
   ]
  },
  {
   "cell_type": "code",
   "execution_count": null,
   "id": "173e423b-4a5a-458e-bf38-709547ca2665",
   "metadata": {},
   "outputs": [],
   "source": []
  }
 ],
 "metadata": {
  "kernelspec": {
   "display_name": "Python 3 (ipykernel)",
   "language": "python",
   "name": "python3"
  },
  "language_info": {
   "codemirror_mode": {
    "name": "ipython",
    "version": 3
   },
   "file_extension": ".py",
   "mimetype": "text/x-python",
   "name": "python",
   "nbconvert_exporter": "python",
   "pygments_lexer": "ipython3",
   "version": "3.12.3"
  }
 },
 "nbformat": 4,
 "nbformat_minor": 5
}
